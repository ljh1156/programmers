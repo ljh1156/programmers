{
 "cells": [
  {
   "cell_type": "code",
   "execution_count": 10,
   "id": "2ac1399c",
   "metadata": {},
   "outputs": [],
   "source": [
    "def solution(balls, share):\n",
    "    answer = 0\n",
    "    \n",
    "    def fact(n):\n",
    "        ret = 1\n",
    "        for i in range(2, n + 1):\n",
    "            ret *= i\n",
    "        return ret\n",
    "    \n",
    "    return int(fact(balls) / (fact(share) * fact(balls - share)))\n",
    "    "
   ]
  },
  {
   "cell_type": "code",
   "execution_count": 11,
   "id": "0d2c9b9d",
   "metadata": {},
   "outputs": [
    {
     "data": {
      "text/plain": [
       "10"
      ]
     },
     "execution_count": 11,
     "metadata": {},
     "output_type": "execute_result"
    }
   ],
   "source": [
    "solution(5, 3)"
   ]
  },
  {
   "cell_type": "code",
   "execution_count": null,
   "id": "9690c7ff",
   "metadata": {},
   "outputs": [],
   "source": [
    "\n"
   ]
  }
 ],
 "metadata": {
  "kernelspec": {
   "display_name": "Python 3 (ipykernel)",
   "language": "python",
   "name": "python3"
  },
  "language_info": {
   "codemirror_mode": {
    "name": "ipython",
    "version": 3
   },
   "file_extension": ".py",
   "mimetype": "text/x-python",
   "name": "python",
   "nbconvert_exporter": "python",
   "pygments_lexer": "ipython3",
   "version": "3.10.6"
  }
 },
 "nbformat": 4,
 "nbformat_minor": 5
}
