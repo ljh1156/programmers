{
 "cells": [
  {
   "cell_type": "code",
   "execution_count": 15,
   "id": "43e66dc4",
   "metadata": {},
   "outputs": [],
   "source": [
    "def solution(n):\n",
    "    answer = 0\n",
    "    x = n\n",
    "    while(1):\n",
    "        x = int(x / 2)\n",
    "        #print(x)\n",
    "        #print(x*x)\n",
    "        if x*x == n:\n",
    "            return 1\n",
    "        elif x*x < n:\n",
    "            for i in range(x + 1, x * 2 - 1):\n",
    "                if i*i == n:\n",
    "                    return 1\n",
    "                if i*i > n:\n",
    "                    return 2\n",
    "            return 2\n",
    "    return answer"
   ]
  },
  {
   "cell_type": "code",
   "execution_count": 19,
   "id": "336b5b89",
   "metadata": {},
   "outputs": [
    {
     "name": "stdout",
     "output_type": "stream",
     "text": [
      "500000\n",
      "250000000000\n",
      "250000\n",
      "62500000000\n",
      "125000\n",
      "15625000000\n",
      "62500\n",
      "3906250000\n",
      "31250\n",
      "976562500\n",
      "15625\n",
      "244140625\n",
      "7812\n",
      "61027344\n",
      "3906\n",
      "15256836\n",
      "1953\n",
      "3814209\n",
      "976\n",
      "952576\n"
     ]
    },
    {
     "data": {
      "text/plain": [
       "1"
      ]
     },
     "execution_count": 19,
     "metadata": {},
     "output_type": "execute_result"
    }
   ],
   "source": [
    "solution(1000000)"
   ]
  },
  {
   "cell_type": "code",
   "execution_count": null,
   "id": "95e81521",
   "metadata": {},
   "outputs": [],
   "source": []
  },
  {
   "cell_type": "code",
   "execution_count": null,
   "id": "c74fb047",
   "metadata": {},
   "outputs": [],
   "source": []
  }
 ],
 "metadata": {
  "kernelspec": {
   "display_name": "Python 3 (ipykernel)",
   "language": "python",
   "name": "python3"
  },
  "language_info": {
   "codemirror_mode": {
    "name": "ipython",
    "version": 3
   },
   "file_extension": ".py",
   "mimetype": "text/x-python",
   "name": "python",
   "nbconvert_exporter": "python",
   "pygments_lexer": "ipython3",
   "version": "3.10.6"
  }
 },
 "nbformat": 4,
 "nbformat_minor": 5
}
