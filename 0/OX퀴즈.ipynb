{
 "cells": [
  {
   "cell_type": "code",
   "execution_count": 18,
   "id": "5439a045",
   "metadata": {},
   "outputs": [],
   "source": [
    "def solution(quiz):\n",
    "    answer = []\n",
    "    \n",
    "    for q in quiz:\n",
    "        \n",
    "        a, method, b, _, c = q.split(' ')\n",
    "        print(a)\n",
    "        print(method)\n",
    "        print(b)\n",
    "        print(c)\n",
    "        if method == '+':\n",
    "            tmp = int(a) + int(b)\n",
    "            if tmp == int(c):\n",
    "                answer.append(\"O\")\n",
    "            else:\n",
    "                answer.append(\"X\")\n",
    "        elif method == '-':\n",
    "            tmp = int(a) - int(b)\n",
    "            print(\"tmp:{}\".format(tmp))\n",
    "            if tmp == int(c):\n",
    "                answer.append(\"O\")\n",
    "            else:\n",
    "                answer.append(\"X\")\n",
    "        else:\n",
    "            answer.append(\"X\")\n",
    "        \n",
    "    return answer"
   ]
  },
  {
   "cell_type": "code",
   "execution_count": 19,
   "id": "d67480ce",
   "metadata": {},
   "outputs": [
    {
     "name": "stdout",
     "output_type": "stream",
     "text": [
      "19\n",
      "-\n",
      "6\n",
      "13\n",
      "tmp:13\n",
      "5\n",
      "+\n",
      "66\n",
      "71\n",
      "5\n",
      "-\n",
      "15\n",
      "63\n",
      "tmp:-10\n",
      "3\n",
      "-\n",
      "1\n",
      "2\n",
      "tmp:2\n"
     ]
    },
    {
     "data": {
      "text/plain": [
       "['O', 'O', 'X', 'O']"
      ]
     },
     "execution_count": 19,
     "metadata": {},
     "output_type": "execute_result"
    }
   ],
   "source": [
    "solution([\"19 - 6 = 13\", \"5 + 66 = 71\", \"5 - 15 = 63\", \"3 - 1 = 2\"])"
   ]
  },
  {
   "cell_type": "code",
   "execution_count": null,
   "id": "92247e31",
   "metadata": {},
   "outputs": [],
   "source": []
  }
 ],
 "metadata": {
  "kernelspec": {
   "display_name": "Python 3 (ipykernel)",
   "language": "python",
   "name": "python3"
  },
  "language_info": {
   "codemirror_mode": {
    "name": "ipython",
    "version": 3
   },
   "file_extension": ".py",
   "mimetype": "text/x-python",
   "name": "python",
   "nbconvert_exporter": "python",
   "pygments_lexer": "ipython3",
   "version": "3.10.6"
  }
 },
 "nbformat": 4,
 "nbformat_minor": 5
}
