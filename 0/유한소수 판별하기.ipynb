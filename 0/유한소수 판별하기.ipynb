{
 "cells": [
  {
   "cell_type": "code",
   "execution_count": 15,
   "id": "aba4379a",
   "metadata": {},
   "outputs": [],
   "source": [
    "def solution(a, b):\n",
    "    answer = 0\n",
    "    \n",
    "    t = 2\n",
    "    while 1:    \n",
    "        if b % a == 0:\n",
    "            b = int(b / a)\n",
    "            a = 1\n",
    "            break\n",
    "        if b % t == 0 and a % t == 0:\n",
    "            b = int(b / t)\n",
    "            a = int(a / t)\n",
    "        t = t + 1\n",
    "        if t > a:\n",
    "            break\n",
    "        \n",
    "        \n",
    "\n",
    "    while 1:\n",
    "        if b == 1:\n",
    "            return 1\n",
    "        if b % 5 == 0:\n",
    "            b = int(b / 5)\n",
    "        elif b % 2 == 0:\n",
    "            b = int(b / 2)\n",
    "        else:\n",
    "            return 2\n",
    "        \n",
    "    #print(\"{}:{}\".format(a, b))\n",
    "    \n",
    "    return answer"
   ]
  },
  {
   "cell_type": "code",
   "execution_count": 18,
   "id": "27af4de4",
   "metadata": {},
   "outputs": [
    {
     "data": {
      "text/plain": [
       "1"
      ]
     },
     "execution_count": 18,
     "metadata": {},
     "output_type": "execute_result"
    }
   ],
   "source": [
    "solution(7, 20)"
   ]
  },
  {
   "cell_type": "code",
   "execution_count": null,
   "id": "0cafccf9",
   "metadata": {},
   "outputs": [],
   "source": []
  },
  {
   "cell_type": "code",
   "execution_count": null,
   "id": "3943f6dc",
   "metadata": {},
   "outputs": [],
   "source": []
  }
 ],
 "metadata": {
  "kernelspec": {
   "display_name": "Python 3 (ipykernel)",
   "language": "python",
   "name": "python3"
  },
  "language_info": {
   "codemirror_mode": {
    "name": "ipython",
    "version": 3
   },
   "file_extension": ".py",
   "mimetype": "text/x-python",
   "name": "python",
   "nbconvert_exporter": "python",
   "pygments_lexer": "ipython3",
   "version": "3.10.6"
  }
 },
 "nbformat": 4,
 "nbformat_minor": 5
}
