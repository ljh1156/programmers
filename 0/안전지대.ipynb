{
 "cells": [
  {
   "cell_type": "code",
   "execution_count": 5,
   "id": "e4c00db8",
   "metadata": {},
   "outputs": [],
   "source": [
    "def solution(board):\n",
    "    answer = 0\n",
    "    \n",
    "    n = len(board)\n",
    "    \n",
    "    def isSafe(i, j, board):\n",
    "        if i > 0 and j < n -1 and board[i-1][j+1] == 1:\n",
    "            return False\n",
    "        if j < n - 1 and board[i][j+1] == 1:\n",
    "            return False\n",
    "        if i < n - 1 and j < n - 1 and board[i+1][j+1] == 1:\n",
    "            return False\n",
    "        if board[i-1][j] == 1:\n",
    "            return False\n",
    "        if board[i+1][j] == 1:\n",
    "            return False\n",
    "        if board[i-1][j-1] == 1:\n",
    "            return False\n",
    "        if board[i][j-1] == 1:\n",
    "            return False\n",
    "        if board[i+1][j-1] == 1:\n",
    "            return False\n",
    "    \n",
    "    \n",
    "    for i in range(0, n):\n",
    "        for j in range(0, n):\n",
    "            if board[i][j] == 1:\n",
    "                if i > 0 and j > 0 and board[i-1][j-1] == 0:\n",
    "                    board[i-1][j-1] = 2\n",
    "                if i > 0 and board[i-1][j] == 0:\n",
    "                    board[i-1][j] = 2\n",
    "                if i > 0 and j < n - 1 and board[i-1][j+1] == 0:\n",
    "                    board[i-1][j+1] = 2\n",
    "                if j > 0 and board[i][j-1] == 0:\n",
    "                    board[i][j-1] = 2\n",
    "                if j < n - 1 and board[i][j+1] == 0:\n",
    "                    board[i][j+1] = 2\n",
    "                if i < n - 1 and j > 0 and board[i+1][j-1] == 0:\n",
    "                    board[i+1][j-1] = 2\n",
    "                if i < n - 1 and board[i+1][j] == 0:\n",
    "                    board[i+1][j] = 2\n",
    "                if i < n - 1 and j < n - 1 and board[i+1][j+1] == 0:\n",
    "                    board[i+1][j+1] = 2\n",
    "    #print(board)\n",
    "    \n",
    "    for i in range(0, n):\n",
    "        for j in range(0, n):\n",
    "            if board[i][j] == 0:\n",
    "                answer += 1\n",
    "    \n",
    "    return answer"
   ]
  },
  {
   "cell_type": "code",
   "execution_count": 7,
   "id": "0e73f883",
   "metadata": {},
   "outputs": [
    {
     "name": "stdout",
     "output_type": "stream",
     "text": [
      "[[0, 0, 0, 0, 0], [0, 0, 0, 0, 0], [0, 2, 2, 2, 0], [0, 2, 1, 2, 0], [0, 2, 2, 2, 0]]\n"
     ]
    },
    {
     "data": {
      "text/plain": [
       "16"
      ]
     },
     "execution_count": 7,
     "metadata": {},
     "output_type": "execute_result"
    }
   ],
   "source": [
    "solution([[0, 0, 0, 0, 0], [0, 0, 0, 0, 0], [0, 0, 0, 0, 0], [0, 0, 1, 0, 0], [0, 0, 0, 0, 0]])"
   ]
  },
  {
   "cell_type": "code",
   "execution_count": null,
   "id": "8055c146",
   "metadata": {},
   "outputs": [],
   "source": []
  }
 ],
 "metadata": {
  "kernelspec": {
   "display_name": "Python 3 (ipykernel)",
   "language": "python",
   "name": "python3"
  },
  "language_info": {
   "codemirror_mode": {
    "name": "ipython",
    "version": 3
   },
   "file_extension": ".py",
   "mimetype": "text/x-python",
   "name": "python",
   "nbconvert_exporter": "python",
   "pygments_lexer": "ipython3",
   "version": "3.10.6"
  }
 },
 "nbformat": 4,
 "nbformat_minor": 5
}
