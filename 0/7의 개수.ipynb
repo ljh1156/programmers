{
 "cells": [
  {
   "cell_type": "code",
   "execution_count": 7,
   "id": "076821a0",
   "metadata": {},
   "outputs": [],
   "source": [
    "def solution(array):\n",
    "    answer = 0\n",
    "    \n",
    "    string = \"\"\n",
    "    for val in array:\n",
    "        string += str(val)\n",
    "    for ch in list(string):\n",
    "        if ch == '7':\n",
    "            answer += 1\n",
    "    #print(string)\n",
    "    #print(''.join(array))\n",
    "    \n",
    "    return answer"
   ]
  },
  {
   "cell_type": "code",
   "execution_count": 9,
   "id": "9f04b158",
   "metadata": {},
   "outputs": [
    {
     "data": {
      "text/plain": [
       "0"
      ]
     },
     "execution_count": 9,
     "metadata": {},
     "output_type": "execute_result"
    }
   ],
   "source": [
    "solution([10, 29])"
   ]
  },
  {
   "cell_type": "code",
   "execution_count": null,
   "id": "0afd69b9",
   "metadata": {},
   "outputs": [],
   "source": []
  }
 ],
 "metadata": {
  "kernelspec": {
   "display_name": "Python 3 (ipykernel)",
   "language": "python",
   "name": "python3"
  },
  "language_info": {
   "codemirror_mode": {
    "name": "ipython",
    "version": 3
   },
   "file_extension": ".py",
   "mimetype": "text/x-python",
   "name": "python",
   "nbconvert_exporter": "python",
   "pygments_lexer": "ipython3",
   "version": "3.10.6"
  }
 },
 "nbformat": 4,
 "nbformat_minor": 5
}
