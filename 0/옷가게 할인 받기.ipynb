{
 "cells": [
  {
   "cell_type": "code",
   "execution_count": 6,
   "id": "2e856b9d",
   "metadata": {},
   "outputs": [],
   "source": [
    "def solution(price):\n",
    "    answer = 0\n",
    "    \n",
    "    if price >= 500000:\n",
    "        answer = int(price * 0.8)\n",
    "    elif price >= 300000:\n",
    "        answer = int(price * 0.9)\n",
    "    elif price >= 100000:\n",
    "        answer = int(price * 0.95)\n",
    "    \n",
    "    \n",
    "    else:\n",
    "        answer = price\n",
    "    \n",
    "    return answer"
   ]
  },
  {
   "cell_type": "code",
   "execution_count": 7,
   "id": "40c6306c",
   "metadata": {},
   "outputs": [
    {
     "data": {
      "text/plain": [
       "464000"
      ]
     },
     "execution_count": 7,
     "metadata": {},
     "output_type": "execute_result"
    }
   ],
   "source": [
    "solution(580000)"
   ]
  },
  {
   "cell_type": "code",
   "execution_count": null,
   "id": "61ab4e3a",
   "metadata": {},
   "outputs": [],
   "source": []
  }
 ],
 "metadata": {
  "kernelspec": {
   "display_name": "Python 3 (ipykernel)",
   "language": "python",
   "name": "python3"
  },
  "language_info": {
   "codemirror_mode": {
    "name": "ipython",
    "version": 3
   },
   "file_extension": ".py",
   "mimetype": "text/x-python",
   "name": "python",
   "nbconvert_exporter": "python",
   "pygments_lexer": "ipython3",
   "version": "3.10.6"
  }
 },
 "nbformat": 4,
 "nbformat_minor": 5
}
