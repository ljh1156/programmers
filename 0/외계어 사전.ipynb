{
 "cells": [
  {
   "cell_type": "code",
   "execution_count": 6,
   "id": "2455d7ec",
   "metadata": {},
   "outputs": [],
   "source": [
    "def solution(spell, dic):\n",
    "    answer = 2\n",
    "    \n",
    "    sp_dic = {}\n",
    "    for sp in spell:\n",
    "        sp_dic[sp] = 0\n",
    "    for word in dic:\n",
    "        #print(word)\n",
    "        for w in list(word):\n",
    "            if w not in sp_dic:\n",
    "                break\n",
    "            sp_dic[w] += 1\n",
    "        is_match = True\n",
    "        for sp in sp_dic.keys():\n",
    "            if sp_dic[sp] != 1:\n",
    "                is_match = False\n",
    "            sp_dic[sp] = 0\n",
    "        if is_match : return 1\n",
    "    \n",
    "    return answer"
   ]
  },
  {
   "cell_type": "code",
   "execution_count": 8,
   "id": "1453d737",
   "metadata": {},
   "outputs": [
    {
     "name": "stdout",
     "output_type": "stream",
     "text": [
      "moos\n",
      "dzx\n",
      "smm\n",
      "sunmmo\n",
      "som\n"
     ]
    },
    {
     "data": {
      "text/plain": [
       "2"
      ]
     },
     "execution_count": 8,
     "metadata": {},
     "output_type": "execute_result"
    }
   ],
   "source": [
    "solution([\"s\", \"o\", \"m\", \"d\"], [\"moos\", \"dzx\", \"smm\", \"sunmmo\", \"som\"])"
   ]
  },
  {
   "cell_type": "code",
   "execution_count": null,
   "id": "c9aa79b1",
   "metadata": {},
   "outputs": [],
   "source": []
  }
 ],
 "metadata": {
  "kernelspec": {
   "display_name": "Python 3 (ipykernel)",
   "language": "python",
   "name": "python3"
  },
  "language_info": {
   "codemirror_mode": {
    "name": "ipython",
    "version": 3
   },
   "file_extension": ".py",
   "mimetype": "text/x-python",
   "name": "python",
   "nbconvert_exporter": "python",
   "pygments_lexer": "ipython3",
   "version": "3.10.6"
  }
 },
 "nbformat": 4,
 "nbformat_minor": 5
}
