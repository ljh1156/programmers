{
 "cells": [
  {
   "cell_type": "code",
   "execution_count": 5,
   "id": "7050209a",
   "metadata": {},
   "outputs": [],
   "source": [
    "def solution(money):\n",
    "    answer = []\n",
    "    \n",
    "    answer.append(int(money / 5500))\n",
    "    answer.append(money - answer[0]*5500)\n",
    "    \n",
    "    return answer"
   ]
  },
  {
   "cell_type": "code",
   "execution_count": 6,
   "id": "56e04816",
   "metadata": {},
   "outputs": [
    {
     "data": {
      "text/plain": [
       "[2, 4000]"
      ]
     },
     "execution_count": 6,
     "metadata": {},
     "output_type": "execute_result"
    }
   ],
   "source": [
    "solution(15000)"
   ]
  },
  {
   "cell_type": "code",
   "execution_count": null,
   "id": "214723fa",
   "metadata": {},
   "outputs": [],
   "source": []
  }
 ],
 "metadata": {
  "kernelspec": {
   "display_name": "Python 3 (ipykernel)",
   "language": "python",
   "name": "python3"
  },
  "language_info": {
   "codemirror_mode": {
    "name": "ipython",
    "version": 3
   },
   "file_extension": ".py",
   "mimetype": "text/x-python",
   "name": "python",
   "nbconvert_exporter": "python",
   "pygments_lexer": "ipython3",
   "version": "3.10.6"
  }
 },
 "nbformat": 4,
 "nbformat_minor": 5
}
