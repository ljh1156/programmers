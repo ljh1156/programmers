{
 "cells": [
  {
   "cell_type": "code",
   "execution_count": 21,
   "id": "834d66e8",
   "metadata": {},
   "outputs": [],
   "source": [
    "def solution(s):\n",
    "    answer = ''\n",
    "    \n",
    "    res = []\n",
    "    freq_dic = {}\n",
    "    \n",
    "    for c in list(s):\n",
    "        if c not in freq_dic:\n",
    "            freq_dic[c] = 1\n",
    "        else:\n",
    "            freq_dic[c] += 1\n",
    "            \n",
    "    res = list(freq_dic.keys())\n",
    "    res.sort()\n",
    "    \n",
    "    for c in res:\n",
    "        if freq_dic[c] == 1:\n",
    "            answer += c\n",
    " \n",
    "    \n",
    "    return answer"
   ]
  },
  {
   "cell_type": "code",
   "execution_count": 22,
   "id": "f3937d51",
   "metadata": {},
   "outputs": [
    {
     "data": {
      "text/plain": [
       "'abcd'"
      ]
     },
     "execution_count": 22,
     "metadata": {},
     "output_type": "execute_result"
    }
   ],
   "source": [
    "solution(\"abdc\")"
   ]
  },
  {
   "cell_type": "code",
   "execution_count": null,
   "id": "e4afdcb5",
   "metadata": {},
   "outputs": [],
   "source": []
  },
  {
   "cell_type": "code",
   "execution_count": null,
   "id": "dea1d6dc",
   "metadata": {},
   "outputs": [],
   "source": []
  }
 ],
 "metadata": {
  "kernelspec": {
   "display_name": "Python 3 (ipykernel)",
   "language": "python",
   "name": "python3"
  },
  "language_info": {
   "codemirror_mode": {
    "name": "ipython",
    "version": 3
   },
   "file_extension": ".py",
   "mimetype": "text/x-python",
   "name": "python",
   "nbconvert_exporter": "python",
   "pygments_lexer": "ipython3",
   "version": "3.10.6"
  }
 },
 "nbformat": 4,
 "nbformat_minor": 5
}
