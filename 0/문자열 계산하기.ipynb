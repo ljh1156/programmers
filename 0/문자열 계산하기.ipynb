{
 "cells": [
  {
   "cell_type": "code",
   "execution_count": 12,
   "id": "4929910f",
   "metadata": {},
   "outputs": [],
   "source": [
    "def solution(my_string):\n",
    "    answer = 0\n",
    "    tmp = my_string.split(' ')\n",
    "    method = '+'\n",
    "    while(1):\n",
    "        print(tmp[0])\n",
    "        if method == '+':\n",
    "            answer += int(tmp[0])\n",
    "        elif method == '-':\n",
    "            answer -= int(tmp[0])\n",
    "        tmp.pop(0)\n",
    "        if tmp == []:\n",
    "            break\n",
    "        method = tmp[0]\n",
    "        tmp.pop(0)\n",
    "        if tmp == []:\n",
    "            break\n",
    "        \n",
    "    return answer"
   ]
  },
  {
   "cell_type": "code",
   "execution_count": 13,
   "id": "d88bcd07",
   "metadata": {},
   "outputs": [
    {
     "name": "stdout",
     "output_type": "stream",
     "text": [
      "3\n",
      "4\n"
     ]
    },
    {
     "data": {
      "text/plain": [
       "7"
      ]
     },
     "execution_count": 13,
     "metadata": {},
     "output_type": "execute_result"
    }
   ],
   "source": [
    "solution(\"3 + 4\")"
   ]
  },
  {
   "cell_type": "code",
   "execution_count": null,
   "id": "923abbb6",
   "metadata": {},
   "outputs": [],
   "source": []
  }
 ],
 "metadata": {
  "kernelspec": {
   "display_name": "Python 3 (ipykernel)",
   "language": "python",
   "name": "python3"
  },
  "language_info": {
   "codemirror_mode": {
    "name": "ipython",
    "version": 3
   },
   "file_extension": ".py",
   "mimetype": "text/x-python",
   "name": "python",
   "nbconvert_exporter": "python",
   "pygments_lexer": "ipython3",
   "version": "3.10.6"
  }
 },
 "nbformat": 4,
 "nbformat_minor": 5
}
