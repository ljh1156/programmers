{
 "cells": [
  {
   "cell_type": "code",
   "execution_count": 4,
   "id": "0df6b422",
   "metadata": {},
   "outputs": [],
   "source": [
    "def solution(message):\n",
    "    answer = 0\n",
    "    return len(message)*2\n",
    "    #return answer"
   ]
  },
  {
   "cell_type": "code",
   "execution_count": 5,
   "id": "717ceea0",
   "metadata": {},
   "outputs": [
    {
     "data": {
      "text/plain": [
       "30"
      ]
     },
     "execution_count": 5,
     "metadata": {},
     "output_type": "execute_result"
    }
   ],
   "source": [
    "solution(\"happy birthday!\")"
   ]
  },
  {
   "cell_type": "code",
   "execution_count": null,
   "id": "5510edf5",
   "metadata": {},
   "outputs": [],
   "source": []
  }
 ],
 "metadata": {
  "kernelspec": {
   "display_name": "Python 3 (ipykernel)",
   "language": "python",
   "name": "python3"
  },
  "language_info": {
   "codemirror_mode": {
    "name": "ipython",
    "version": 3
   },
   "file_extension": ".py",
   "mimetype": "text/x-python",
   "name": "python",
   "nbconvert_exporter": "python",
   "pygments_lexer": "ipython3",
   "version": "3.10.6"
  }
 },
 "nbformat": 4,
 "nbformat_minor": 5
}
