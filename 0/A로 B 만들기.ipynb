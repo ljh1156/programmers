{
 "cells": [
  {
   "cell_type": "code",
   "execution_count": 20,
   "id": "8d8caae0",
   "metadata": {},
   "outputs": [],
   "source": [
    "def solution(before, after):\n",
    "    answer = 0\n",
    "    \n",
    "    for b in list(before):\n",
    "        has_b = 0\n",
    "        for i in range(0, len(after)):\n",
    "            if after[i] == b:\n",
    "                has_b = 1\n",
    "                after = list(after)\n",
    "                #print(after)\n",
    "                after.pop(i)\n",
    "                #print(after)\n",
    "                after = ''.join(after)\n",
    "                #print(after)\n",
    "                \n",
    "                after = ''.join(after)\n",
    "                break\n",
    "        if has_b == 0:\n",
    "            return 0\n",
    "    if len(after) > 0:\n",
    "        return 0\n",
    "        \n",
    "        \n",
    "    \n",
    "    return 1"
   ]
  },
  {
   "cell_type": "code",
   "execution_count": 22,
   "id": "20c1f7a3",
   "metadata": {},
   "outputs": [
    {
     "name": "stdout",
     "output_type": "stream",
     "text": [
      "['a', 'p', 'p', 'l', 'e']\n",
      "['p', 'p', 'l', 'e']\n",
      "pple\n",
      "['p', 'p', 'l', 'e']\n",
      "['p', 'p', 'e']\n",
      "ppe\n"
     ]
    },
    {
     "data": {
      "text/plain": [
       "0"
      ]
     },
     "execution_count": 22,
     "metadata": {},
     "output_type": "execute_result"
    }
   ],
   "source": [
    "solution(\"allpe\", \"apple\")"
   ]
  },
  {
   "cell_type": "code",
   "execution_count": null,
   "id": "7fd5cea2",
   "metadata": {},
   "outputs": [],
   "source": []
  }
 ],
 "metadata": {
  "kernelspec": {
   "display_name": "Python 3 (ipykernel)",
   "language": "python",
   "name": "python3"
  },
  "language_info": {
   "codemirror_mode": {
    "name": "ipython",
    "version": 3
   },
   "file_extension": ".py",
   "mimetype": "text/x-python",
   "name": "python",
   "nbconvert_exporter": "python",
   "pygments_lexer": "ipython3",
   "version": "3.10.6"
  }
 },
 "nbformat": 4,
 "nbformat_minor": 5
}
