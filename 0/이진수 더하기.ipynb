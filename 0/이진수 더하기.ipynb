{
 "cells": [
  {
   "cell_type": "code",
   "execution_count": 28,
   "id": "6b855bfe",
   "metadata": {},
   "outputs": [],
   "source": [
    "def solution(bin1, bin2):\n",
    "    answer = ''\n",
    "    \n",
    "    len_bin1 = len(bin1)\n",
    "    len_bin2 = len(bin2)\n",
    "    if len_bin1 > len_bin2:\n",
    "        lst_bin2 = list(bin2)\n",
    "        for i in range(0, (len_bin1) - (len_bin2)):\n",
    "            lst_bin2.insert(0, \"0\")\n",
    "        bin2 = ''.join(lst_bin2)\n",
    "    elif len_bin2 > len_bin1:\n",
    "        lst_bin1 = list(bin1)\n",
    "        for i in range(0, (len_bin2) - (len_bin1)):\n",
    "            lst_bin1.insert(0, \"0\")\n",
    "        bin1 = ''.join(lst_bin1)\n",
    "    \n",
    "    def sum_bin(a, b, c):\n",
    "        sum = a + b + c\n",
    "        if sum == 3:\n",
    "            return [1, 1]\n",
    "        if sum == 2:\n",
    "            return [1, 0]\n",
    "        else:\n",
    "            return [0, sum]\n",
    "        \n",
    "    print(bin1)\n",
    "    print(bin2)\n",
    "    bin1 = bin1[::-1]\n",
    "    bin2 = bin2[::-1]\n",
    "    a = 0\n",
    "    for i in range(0, len(bin1)):\n",
    "        a, b = sum_bin(a, int(bin1[i]), int(bin2[i]))\n",
    "#        print(\"{}:{}\".format(a, b))\n",
    "\n",
    "        answer += str(b)\n",
    "    if a == 1:\n",
    "        answer += str(1)\n",
    "    answer = answer[::-1]\n",
    "        \n",
    "            \n",
    "    \n",
    "    return answer"
   ]
  },
  {
   "cell_type": "code",
   "execution_count": 29,
   "id": "32c27f4f",
   "metadata": {
    "scrolled": true
   },
   "outputs": [
    {
     "name": "stdout",
     "output_type": "stream",
     "text": [
      "01001\n",
      "11111\n"
     ]
    },
    {
     "data": {
      "text/plain": [
       "'101000'"
      ]
     },
     "execution_count": 29,
     "metadata": {},
     "output_type": "execute_result"
    }
   ],
   "source": [
    "solution(\"1001\", \"11111\")"
   ]
  },
  {
   "cell_type": "code",
   "execution_count": null,
   "id": "d31f1cce",
   "metadata": {},
   "outputs": [],
   "source": []
  }
 ],
 "metadata": {
  "kernelspec": {
   "display_name": "Python 3 (ipykernel)",
   "language": "python",
   "name": "python3"
  },
  "language_info": {
   "codemirror_mode": {
    "name": "ipython",
    "version": 3
   },
   "file_extension": ".py",
   "mimetype": "text/x-python",
   "name": "python",
   "nbconvert_exporter": "python",
   "pygments_lexer": "ipython3",
   "version": "3.10.6"
  }
 },
 "nbformat": 4,
 "nbformat_minor": 5
}
