{
 "cells": [
  {
   "cell_type": "code",
   "execution_count": 14,
   "id": "25c1c2ec",
   "metadata": {},
   "outputs": [],
   "source": [
    "def solution(my_string):\n",
    "    answer = 0\n",
    "    \n",
    "    num = \"\"\n",
    "    for st in list(my_string):\n",
    "        print(num)\n",
    "        try:\n",
    "            int(st)\n",
    "            num += st\n",
    "        except:\n",
    "            if num != \"\":\n",
    "                answer += int(num)\n",
    "                num = \"\"\n",
    "            continue\n",
    "    if num != \"\":\n",
    "        answer += int(num)\n",
    "        \n",
    "    \n",
    "    return answer"
   ]
  },
  {
   "cell_type": "code",
   "execution_count": 15,
   "id": "c92e4fa8",
   "metadata": {},
   "outputs": [
    {
     "name": "stdout",
     "output_type": "stream",
     "text": [
      "\n",
      "1\n",
      "\n",
      "2\n",
      "\n",
      "3\n",
      "\n",
      "4\n",
      "\n",
      "1\n",
      "12\n",
      "123\n"
     ]
    },
    {
     "data": {
      "text/plain": [
       "133"
      ]
     },
     "execution_count": 15,
     "metadata": {},
     "output_type": "execute_result"
    }
   ],
   "source": [
    "solution(\"1a2b3c4d123Z\")"
   ]
  },
  {
   "cell_type": "code",
   "execution_count": null,
   "id": "f5bb2f93",
   "metadata": {},
   "outputs": [],
   "source": []
  }
 ],
 "metadata": {
  "kernelspec": {
   "display_name": "Python 3 (ipykernel)",
   "language": "python",
   "name": "python3"
  },
  "language_info": {
   "codemirror_mode": {
    "name": "ipython",
    "version": 3
   },
   "file_extension": ".py",
   "mimetype": "text/x-python",
   "name": "python",
   "nbconvert_exporter": "python",
   "pygments_lexer": "ipython3",
   "version": "3.10.6"
  }
 },
 "nbformat": 4,
 "nbformat_minor": 5
}
