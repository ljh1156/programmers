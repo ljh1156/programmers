{
 "cells": [
  {
   "cell_type": "code",
   "execution_count": 3,
   "id": "3103d6b3",
   "metadata": {},
   "outputs": [],
   "source": [
    "def solution(dot):\n",
    "    answer = 0\n",
    "    if dot[0] >= 0 and dot[1] >= 0:\n",
    "        answer = 1\n",
    "    elif dot[0] >= 0 and dot[1] < 0:\n",
    "        answer = 4\n",
    "    elif dot[0] < 0 and dot[1] >= 0:\n",
    "        answer = 2\n",
    "    else:\n",
    "        answer = 3\n",
    "    return answer"
   ]
  },
  {
   "cell_type": "code",
   "execution_count": 4,
   "id": "30a81e89",
   "metadata": {},
   "outputs": [
    {
     "data": {
      "text/plain": [
       "2"
      ]
     },
     "execution_count": 4,
     "metadata": {},
     "output_type": "execute_result"
    }
   ],
   "source": [
    "solution([-7, 9])"
   ]
  },
  {
   "cell_type": "code",
   "execution_count": null,
   "id": "4a1fdb11",
   "metadata": {},
   "outputs": [],
   "source": []
  }
 ],
 "metadata": {
  "kernelspec": {
   "display_name": "Python 3 (ipykernel)",
   "language": "python",
   "name": "python3"
  },
  "language_info": {
   "codemirror_mode": {
    "name": "ipython",
    "version": 3
   },
   "file_extension": ".py",
   "mimetype": "text/x-python",
   "name": "python",
   "nbconvert_exporter": "python",
   "pygments_lexer": "ipython3",
   "version": "3.10.6"
  }
 },
 "nbformat": 4,
 "nbformat_minor": 5
}
