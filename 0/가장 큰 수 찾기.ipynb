{
 "cells": [
  {
   "cell_type": "code",
   "execution_count": 3,
   "id": "0c318e00",
   "metadata": {},
   "outputs": [],
   "source": [
    "def solution(array):\n",
    "    answer = []\n",
    "    max_value = -1\n",
    "    max_idx = -1\n",
    "    \n",
    "    for i in range(0, len(array)):\n",
    "        if array[i] > max_value:\n",
    "            max_idx = i\n",
    "            max_value = array[i]\n",
    "    \n",
    "    return [max_value, max_idx]"
   ]
  },
  {
   "cell_type": "code",
   "execution_count": 4,
   "id": "f903d859",
   "metadata": {},
   "outputs": [
    {
     "data": {
      "text/plain": [
       "[11, 2]"
      ]
     },
     "execution_count": 4,
     "metadata": {},
     "output_type": "execute_result"
    }
   ],
   "source": [
    "solution([9, 10, 11, 8])"
   ]
  },
  {
   "cell_type": "code",
   "execution_count": null,
   "id": "ff9d1d8a",
   "metadata": {},
   "outputs": [],
   "source": []
  }
 ],
 "metadata": {
  "kernelspec": {
   "display_name": "Python 3 (ipykernel)",
   "language": "python",
   "name": "python3"
  },
  "language_info": {
   "codemirror_mode": {
    "name": "ipython",
    "version": 3
   },
   "file_extension": ".py",
   "mimetype": "text/x-python",
   "name": "python",
   "nbconvert_exporter": "python",
   "pygments_lexer": "ipython3",
   "version": "3.10.6"
  }
 },
 "nbformat": 4,
 "nbformat_minor": 5
}
