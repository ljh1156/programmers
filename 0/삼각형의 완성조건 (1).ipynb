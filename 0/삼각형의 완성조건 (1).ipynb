{
 "cells": [
  {
   "cell_type": "code",
   "execution_count": 6,
   "id": "69562ebd",
   "metadata": {},
   "outputs": [],
   "source": [
    "def solution(sides):\n",
    "    answer = 0\n",
    "    \n",
    "    sides.sort()\n",
    "    #print(sides)\n",
    "    \n",
    "    if sides[0] + sides[1] <= sides[2]:\n",
    "        return 2\n",
    "    return 1\n",
    "    \n",
    "    #return answer"
   ]
  },
  {
   "cell_type": "code",
   "execution_count": 8,
   "id": "27e0bf7f",
   "metadata": {},
   "outputs": [
    {
     "name": "stdout",
     "output_type": "stream",
     "text": [
      "[2, 3, 6]\n"
     ]
    },
    {
     "data": {
      "text/plain": [
       "2"
      ]
     },
     "execution_count": 8,
     "metadata": {},
     "output_type": "execute_result"
    }
   ],
   "source": [
    "solution([3, 6, 2])"
   ]
  },
  {
   "cell_type": "code",
   "execution_count": null,
   "id": "d55b9bcd",
   "metadata": {},
   "outputs": [],
   "source": []
  }
 ],
 "metadata": {
  "kernelspec": {
   "display_name": "Python 3 (ipykernel)",
   "language": "python",
   "name": "python3"
  },
  "language_info": {
   "codemirror_mode": {
    "name": "ipython",
    "version": 3
   },
   "file_extension": ".py",
   "mimetype": "text/x-python",
   "name": "python",
   "nbconvert_exporter": "python",
   "pygments_lexer": "ipython3",
   "version": "3.10.6"
  }
 },
 "nbformat": 4,
 "nbformat_minor": 5
}
