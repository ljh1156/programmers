{
 "cells": [
  {
   "cell_type": "code",
   "execution_count": 26,
   "id": "ec91cf99",
   "metadata": {},
   "outputs": [],
   "source": [
    "def solution(num, total):\n",
    "    answer = []\n",
    "    \n",
    "    if num == 1:\n",
    "        return [total]\n",
    "    mid = int(total / num)\n",
    "    num -= 1\n",
    "    #if num % 2 == 0:\n",
    "    #print(mid - int(num / 2))\n",
    "    for i in range((mid - int(num / 2)), mid):\n",
    "        answer.append(i)\n",
    "    answer.append(mid)\n",
    "    for i in range((mid + 1), (mid + int(num / 2) +1)):\n",
    "        answer.append(i)\n",
    "    if num % 2 > 0:\n",
    "        answer.append(answer[-1] + 1)\n",
    "    \n",
    "    #print(mid)\n",
    "    \n",
    "    return answer"
   ]
  },
  {
   "cell_type": "code",
   "execution_count": 27,
   "id": "4cdb2afa",
   "metadata": {},
   "outputs": [
    {
     "data": {
      "text/plain": [
       "[5]"
      ]
     },
     "execution_count": 27,
     "metadata": {},
     "output_type": "execute_result"
    }
   ],
   "source": [
    "solution(1, 5)"
   ]
  },
  {
   "cell_type": "code",
   "execution_count": null,
   "id": "c5065b4c",
   "metadata": {},
   "outputs": [],
   "source": []
  },
  {
   "cell_type": "code",
   "execution_count": null,
   "id": "3ceb88df",
   "metadata": {},
   "outputs": [],
   "source": []
  }
 ],
 "metadata": {
  "kernelspec": {
   "display_name": "Python 3 (ipykernel)",
   "language": "python",
   "name": "python3"
  },
  "language_info": {
   "codemirror_mode": {
    "name": "ipython",
    "version": 3
   },
   "file_extension": ".py",
   "mimetype": "text/x-python",
   "name": "python",
   "nbconvert_exporter": "python",
   "pygments_lexer": "ipython3",
   "version": "3.10.6"
  }
 },
 "nbformat": 4,
 "nbformat_minor": 5
}
