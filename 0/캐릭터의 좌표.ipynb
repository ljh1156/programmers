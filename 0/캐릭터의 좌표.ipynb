{
 "cells": [
  {
   "cell_type": "code",
   "execution_count": 11,
   "id": "785c1a97",
   "metadata": {},
   "outputs": [],
   "source": [
    "def solution(keyinput, board):\n",
    "    answer = []\n",
    "    \n",
    "    answer = [0, 0]\n",
    "    for key in keyinput:\n",
    "        if key == \"left\":\n",
    "            if answer[0] > -1 * ((board[0] - 1) / 2):\n",
    "                answer[0] -= 1\n",
    "        elif key == \"right\":\n",
    "            if answer[0] < ((board[0] - 1) / 2):\n",
    "                answer[0] += 1\n",
    "        elif key == \"up\":\n",
    "            if answer[1] < ((board[1] - 1) / 2):\n",
    "                answer[1] += 1\n",
    "        else:\n",
    "            if answer[1] > -1 * ((board[1] - 1) / 2):\n",
    "                answer[1] -= 1\n",
    "        #print(answer)\n",
    "            \n",
    "    \n",
    "    return answer"
   ]
  },
  {
   "cell_type": "code",
   "execution_count": 12,
   "id": "9a73821c",
   "metadata": {},
   "outputs": [
    {
     "name": "stdout",
     "output_type": "stream",
     "text": [
      "[0, -1]\n",
      "[0, -2]\n",
      "[0, -3]\n",
      "[0, -4]\n",
      "[0, -4]\n"
     ]
    },
    {
     "data": {
      "text/plain": [
       "[0, -4]"
      ]
     },
     "execution_count": 12,
     "metadata": {},
     "output_type": "execute_result"
    }
   ],
   "source": [
    "solution([\"down\", \"down\", \"down\", \"down\", \"down\"], [7, 9])"
   ]
  },
  {
   "cell_type": "code",
   "execution_count": null,
   "id": "d0a42b15",
   "metadata": {},
   "outputs": [],
   "source": []
  }
 ],
 "metadata": {
  "kernelspec": {
   "display_name": "Python 3 (ipykernel)",
   "language": "python",
   "name": "python3"
  },
  "language_info": {
   "codemirror_mode": {
    "name": "ipython",
    "version": 3
   },
   "file_extension": ".py",
   "mimetype": "text/x-python",
   "name": "python",
   "nbconvert_exporter": "python",
   "pygments_lexer": "ipython3",
   "version": "3.10.6"
  }
 },
 "nbformat": 4,
 "nbformat_minor": 5
}
