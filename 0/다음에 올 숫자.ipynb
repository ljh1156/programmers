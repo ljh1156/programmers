{
 "cells": [
  {
   "cell_type": "code",
   "execution_count": 18,
   "id": "3a7ccb3f",
   "metadata": {},
   "outputs": [],
   "source": [
    "def solution(common):\n",
    "    answer = 0\n",
    "    \n",
    "    #print(common)\n",
    "    common_type = 0\n",
    "    if (common[1] - common[0]) == (common[2] - common[1]):\n",
    "        common_type = 1\n",
    "    #print(common_type)\n",
    "    if common_type:\n",
    "        return common[-1] + (common[2] - common[1])\n",
    "    else:\n",
    "        #print(common[-1])\n",
    "        return int(common[-1] * (common[2] / common[1]))\n",
    "    \n",
    "    return answer"
   ]
  },
  {
   "cell_type": "code",
   "execution_count": 19,
   "id": "0ea0390b",
   "metadata": {},
   "outputs": [
    {
     "data": {
      "text/plain": [
       "16"
      ]
     },
     "execution_count": 19,
     "metadata": {},
     "output_type": "execute_result"
    }
   ],
   "source": [
    "solution([2, 4, 8])"
   ]
  },
  {
   "cell_type": "code",
   "execution_count": null,
   "id": "648a2e00",
   "metadata": {},
   "outputs": [],
   "source": []
  }
 ],
 "metadata": {
  "kernelspec": {
   "display_name": "Python 3 (ipykernel)",
   "language": "python",
   "name": "python3"
  },
  "language_info": {
   "codemirror_mode": {
    "name": "ipython",
    "version": 3
   },
   "file_extension": ".py",
   "mimetype": "text/x-python",
   "name": "python",
   "nbconvert_exporter": "python",
   "pygments_lexer": "ipython3",
   "version": "3.10.6"
  }
 },
 "nbformat": 4,
 "nbformat_minor": 5
}
