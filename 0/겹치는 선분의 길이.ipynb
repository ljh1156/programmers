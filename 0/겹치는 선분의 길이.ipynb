{
 "cells": [
  {
   "cell_type": "code",
   "execution_count": 30,
   "id": "206373a2",
   "metadata": {},
   "outputs": [],
   "source": [
    "def solution(lines):\n",
    "    answer = 0\n",
    "    \n",
    "    \n",
    "    dup_dic = {}\n",
    "    for line in lines:\n",
    "        a = line[0]\n",
    "        b = line[1]\n",
    "        for i in range(a, b):\n",
    "            if str(i) not in dup_dic:\n",
    "                dup_dic[str(i)] = 1\n",
    "            else:\n",
    "                dup_dic[str(i)] += 1\n",
    "                \n",
    "    for key in dup_dic.keys():\n",
    "        if dup_dic[key] > 1:\n",
    "            answer += 1\n",
    "  \n",
    "            \n",
    "               \n",
    "    \n",
    "    return answer"
   ]
  },
  {
   "cell_type": "code",
   "execution_count": 31,
   "id": "2a4b0764",
   "metadata": {},
   "outputs": [
    {
     "data": {
      "text/plain": [
       "8"
      ]
     },
     "execution_count": 31,
     "metadata": {},
     "output_type": "execute_result"
    }
   ],
   "source": [
    "solution([[0, 5], [3, 9], [1, 10]])"
   ]
  },
  {
   "cell_type": "code",
   "execution_count": null,
   "id": "d1dd5a4b",
   "metadata": {},
   "outputs": [],
   "source": []
  }
 ],
 "metadata": {
  "kernelspec": {
   "display_name": "Python 3 (ipykernel)",
   "language": "python",
   "name": "python3"
  },
  "language_info": {
   "codemirror_mode": {
    "name": "ipython",
    "version": 3
   },
   "file_extension": ".py",
   "mimetype": "text/x-python",
   "name": "python",
   "nbconvert_exporter": "python",
   "pygments_lexer": "ipython3",
   "version": "3.10.6"
  }
 },
 "nbformat": 4,
 "nbformat_minor": 5
}
