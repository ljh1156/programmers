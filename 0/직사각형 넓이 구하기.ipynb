{
 "cells": [
  {
   "cell_type": "code",
   "execution_count": 9,
   "id": "f8ed1c4a",
   "metadata": {},
   "outputs": [],
   "source": [
    "def solution(dots):\n",
    "    answer = 0\n",
    "    \n",
    "    dots = sorted(dots, key=lambda dot:dot[0])\n",
    "    print(dots)\n",
    "    x = abs(dots[0][1] - dots[1][1])\n",
    "    dots = sorted(dots, key=lambda dot:dot[1])\n",
    "    print(dots)\n",
    "    y = abs(dots[0][0] - dots[1][0])\n",
    "    return x*y\n",
    "    \n",
    "#    return answer"
   ]
  },
  {
   "cell_type": "code",
   "execution_count": 11,
   "id": "d9111d45",
   "metadata": {},
   "outputs": [
    {
     "name": "stdout",
     "output_type": "stream",
     "text": [
      "[[1, 1], [1, 2], [2, 1], [2, 2]]\n",
      "[[1, 1], [2, 1], [1, 2], [2, 2]]\n"
     ]
    },
    {
     "data": {
      "text/plain": [
       "1"
      ]
     },
     "execution_count": 11,
     "metadata": {},
     "output_type": "execute_result"
    }
   ],
   "source": [
    "solution([[1, 1], [2, 1], [2, 2], [1, 2]])"
   ]
  },
  {
   "cell_type": "code",
   "execution_count": null,
   "id": "561780e3",
   "metadata": {},
   "outputs": [],
   "source": []
  }
 ],
 "metadata": {
  "kernelspec": {
   "display_name": "Python 3 (ipykernel)",
   "language": "python",
   "name": "python3"
  },
  "language_info": {
   "codemirror_mode": {
    "name": "ipython",
    "version": 3
   },
   "file_extension": ".py",
   "mimetype": "text/x-python",
   "name": "python",
   "nbconvert_exporter": "python",
   "pygments_lexer": "ipython3",
   "version": "3.10.6"
  }
 },
 "nbformat": 4,
 "nbformat_minor": 5
}
