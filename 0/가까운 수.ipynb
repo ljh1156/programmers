{
 "cells": [
  {
   "cell_type": "code",
   "execution_count": 26,
   "id": "2d9d4a82",
   "metadata": {},
   "outputs": [],
   "source": [
    "def solution(array, n):\n",
    "    answer = 0\n",
    "    \n",
    "    dist = 300\n",
    "    near_num = 300\n",
    "    \n",
    "    for num in array:\n",
    "        print(dist)\n",
    "        print(abs(num - n))\n",
    "        if abs(num - n) < dist:\n",
    "            dist = abs(num - n)\n",
    "            near_num = num\n",
    "        elif abs(num - n) == dist:\n",
    "            print(num)\n",
    "            if near_num > num:\n",
    "                near_num = num\n",
    "    \n",
    "    return near_num"
   ]
  },
  {
   "cell_type": "code",
   "execution_count": 27,
   "id": "66bf4fa1",
   "metadata": {},
   "outputs": [
    {
     "name": "stdout",
     "output_type": "stream",
     "text": [
      "300\n",
      "1\n",
      "1\n",
      "1\n",
      "-1\n"
     ]
    },
    {
     "data": {
      "text/plain": [
       "-1"
      ]
     },
     "execution_count": 27,
     "metadata": {},
     "output_type": "execute_result"
    }
   ],
   "source": [
    "solution([1, -1], 0)"
   ]
  },
  {
   "cell_type": "code",
   "execution_count": null,
   "id": "77487cfc",
   "metadata": {},
   "outputs": [],
   "source": []
  },
  {
   "cell_type": "code",
   "execution_count": null,
   "id": "c9d8a720",
   "metadata": {},
   "outputs": [],
   "source": []
  }
 ],
 "metadata": {
  "kernelspec": {
   "display_name": "Python 3 (ipykernel)",
   "language": "python",
   "name": "python3"
  },
  "language_info": {
   "codemirror_mode": {
    "name": "ipython",
    "version": 3
   },
   "file_extension": ".py",
   "mimetype": "text/x-python",
   "name": "python",
   "nbconvert_exporter": "python",
   "pygments_lexer": "ipython3",
   "version": "3.10.6"
  }
 },
 "nbformat": 4,
 "nbformat_minor": 5
}
