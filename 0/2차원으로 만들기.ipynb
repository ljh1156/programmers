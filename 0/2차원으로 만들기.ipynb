{
 "cells": [
  {
   "cell_type": "code",
   "execution_count": 14,
   "id": "428944bc",
   "metadata": {},
   "outputs": [],
   "source": [
    "def solution(num_list, n):\n",
    "    answer = []\n",
    "    \n",
    "    count = 0\n",
    "    i = 0\n",
    "    tmp = []\n",
    "    for num in num_list:\n",
    "        tmp.append(num)\n",
    "        count += 1\n",
    "        if count % n == 0:\n",
    "            i += 1\n",
    "            answer.append(tmp)\n",
    "            tmp = []\n",
    "        \n",
    "    \n",
    "    return answer"
   ]
  },
  {
   "cell_type": "code",
   "execution_count": 15,
   "id": "63a7729e",
   "metadata": {},
   "outputs": [
    {
     "data": {
      "text/plain": [
       "[[100, 95, 2], [4, 5, 6], [18, 33, 948]]"
      ]
     },
     "execution_count": 15,
     "metadata": {},
     "output_type": "execute_result"
    }
   ],
   "source": [
    "solution([100, 95, 2, 4, 5, 6, 18, 33, 948], 3)"
   ]
  },
  {
   "cell_type": "code",
   "execution_count": null,
   "id": "c941d2bf",
   "metadata": {},
   "outputs": [],
   "source": []
  }
 ],
 "metadata": {
  "kernelspec": {
   "display_name": "Python 3 (ipykernel)",
   "language": "python",
   "name": "python3"
  },
  "language_info": {
   "codemirror_mode": {
    "name": "ipython",
    "version": 3
   },
   "file_extension": ".py",
   "mimetype": "text/x-python",
   "name": "python",
   "nbconvert_exporter": "python",
   "pygments_lexer": "ipython3",
   "version": "3.10.6"
  }
 },
 "nbformat": 4,
 "nbformat_minor": 5
}
