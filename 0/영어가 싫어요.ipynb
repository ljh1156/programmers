{
 "cells": [
  {
   "cell_type": "code",
   "execution_count": 13,
   "id": "ead28431",
   "metadata": {},
   "outputs": [],
   "source": [
    "def solution(numbers):\n",
    "    answer = 0\n",
    "    \n",
    "    numbers = (numbers\n",
    "               .replace(\"zero\", \"0\")\n",
    "               .replace(\"one\", \"1\")\n",
    "               .replace(\"two\", \"2\")\n",
    "               .replace(\"three\", \"3\")\n",
    "               .replace(\"four\", \"4\")\n",
    "               .replace(\"five\", \"5\")\n",
    "               .replace(\"six\", \"6\")\n",
    "               .replace(\"seven\", \"7\")\n",
    "               .replace(\"eight\", \"8\")\n",
    "               .replace(\"nine\", \"9\")\n",
    "              )\n",
    "    #print(numbers)\n",
    "    return int(numbers)\n",
    "    \n",
    "    #return answer"
   ]
  },
  {
   "cell_type": "code",
   "execution_count": 15,
   "id": "98ccfbff",
   "metadata": {},
   "outputs": [
    {
     "data": {
      "text/plain": [
       "14067"
      ]
     },
     "execution_count": 15,
     "metadata": {},
     "output_type": "execute_result"
    }
   ],
   "source": [
    "solution(\"onefourzerosixseven\")"
   ]
  },
  {
   "cell_type": "code",
   "execution_count": null,
   "id": "0a340b6c",
   "metadata": {},
   "outputs": [],
   "source": []
  }
 ],
 "metadata": {
  "kernelspec": {
   "display_name": "Python 3 (ipykernel)",
   "language": "python",
   "name": "python3"
  },
  "language_info": {
   "codemirror_mode": {
    "name": "ipython",
    "version": 3
   },
   "file_extension": ".py",
   "mimetype": "text/x-python",
   "name": "python",
   "nbconvert_exporter": "python",
   "pygments_lexer": "ipython3",
   "version": "3.10.6"
  }
 },
 "nbformat": 4,
 "nbformat_minor": 5
}
