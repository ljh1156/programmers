{
 "cells": [
  {
   "cell_type": "code",
   "execution_count": 11,
   "id": "7749c94a",
   "metadata": {},
   "outputs": [],
   "source": [
    "def solution(emergency):\n",
    "    answer = []\n",
    "    \n",
    "    sorted_em = sorted(emergency, reverse=True) \n",
    "    \n",
    "    for em in emergency:\n",
    "        rank = sorted_em.index(em) + 1\n",
    "        answer.append(rank)\n",
    "        \n",
    "    \n",
    "    #for i in range(0, len(emergency)):\n",
    "     #   em = emergency[i]\n",
    "      #  emergency[i] = [em, i + 1]\n",
    "    #print(emergency)\n",
    "    return answer"
   ]
  },
  {
   "cell_type": "code",
   "execution_count": 12,
   "id": "e39db24d",
   "metadata": {},
   "outputs": [
    {
     "data": {
      "text/plain": [
       "[2, 4, 3, 5, 1]"
      ]
     },
     "execution_count": 12,
     "metadata": {},
     "output_type": "execute_result"
    }
   ],
   "source": [
    "solution([30, 10, 23, 6, 100])"
   ]
  },
  {
   "cell_type": "code",
   "execution_count": null,
   "id": "30e404c7",
   "metadata": {},
   "outputs": [],
   "source": []
  }
 ],
 "metadata": {
  "kernelspec": {
   "display_name": "Python 3 (ipykernel)",
   "language": "python",
   "name": "python3"
  },
  "language_info": {
   "codemirror_mode": {
    "name": "ipython",
    "version": 3
   },
   "file_extension": ".py",
   "mimetype": "text/x-python",
   "name": "python",
   "nbconvert_exporter": "python",
   "pygments_lexer": "ipython3",
   "version": "3.10.6"
  }
 },
 "nbformat": 4,
 "nbformat_minor": 5
}
