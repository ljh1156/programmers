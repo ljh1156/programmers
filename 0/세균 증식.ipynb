{
 "cells": [
  {
   "cell_type": "code",
   "execution_count": 3,
   "id": "3b1a010c",
   "metadata": {},
   "outputs": [],
   "source": [
    "def solution(n, t):\n",
    "    answer = 0\n",
    "    for i in range(0, t):\n",
    "        n *= 2\n",
    "        \n",
    "    return n\n",
    "    #return answer"
   ]
  },
  {
   "cell_type": "code",
   "execution_count": 6,
   "id": "06618119",
   "metadata": {},
   "outputs": [
    {
     "data": {
      "text/plain": [
       "2"
      ]
     },
     "execution_count": 6,
     "metadata": {},
     "output_type": "execute_result"
    }
   ],
   "source": [
    "solution(1, 1)"
   ]
  },
  {
   "cell_type": "code",
   "execution_count": null,
   "id": "3a165db9",
   "metadata": {},
   "outputs": [],
   "source": []
  },
  {
   "cell_type": "code",
   "execution_count": null,
   "id": "4a65ff62",
   "metadata": {},
   "outputs": [],
   "source": []
  }
 ],
 "metadata": {
  "kernelspec": {
   "display_name": "Python 3 (ipykernel)",
   "language": "python",
   "name": "python3"
  },
  "language_info": {
   "codemirror_mode": {
    "name": "ipython",
    "version": 3
   },
   "file_extension": ".py",
   "mimetype": "text/x-python",
   "name": "python",
   "nbconvert_exporter": "python",
   "pygments_lexer": "ipython3",
   "version": "3.10.6"
  }
 },
 "nbformat": 4,
 "nbformat_minor": 5
}
