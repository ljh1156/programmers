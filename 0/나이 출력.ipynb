{
 "cells": [
  {
   "cell_type": "code",
   "execution_count": 3,
   "id": "1f15cf7c",
   "metadata": {},
   "outputs": [],
   "source": [
    "def solution(age):\n",
    "    answer = 0\n",
    "    \n",
    "    return 2022 - age + 1\n",
    "    \n",
    "    #return answer"
   ]
  },
  {
   "cell_type": "code",
   "execution_count": 4,
   "id": "4557b0f0",
   "metadata": {},
   "outputs": [
    {
     "data": {
      "text/plain": [
       "2000"
      ]
     },
     "execution_count": 4,
     "metadata": {},
     "output_type": "execute_result"
    }
   ],
   "source": [
    "solution(23)"
   ]
  },
  {
   "cell_type": "code",
   "execution_count": null,
   "id": "47f4ad5c",
   "metadata": {},
   "outputs": [],
   "source": []
  }
 ],
 "metadata": {
  "kernelspec": {
   "display_name": "Python 3 (ipykernel)",
   "language": "python",
   "name": "python3"
  },
  "language_info": {
   "codemirror_mode": {
    "name": "ipython",
    "version": 3
   },
   "file_extension": ".py",
   "mimetype": "text/x-python",
   "name": "python",
   "nbconvert_exporter": "python",
   "pygments_lexer": "ipython3",
   "version": "3.10.6"
  }
 },
 "nbformat": 4,
 "nbformat_minor": 5
}
