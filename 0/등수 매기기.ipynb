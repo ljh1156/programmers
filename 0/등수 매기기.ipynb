{
 "cells": [
  {
   "cell_type": "code",
   "execution_count": 72,
   "id": "1cb9b3e8",
   "metadata": {},
   "outputs": [],
   "source": [
    "def solution(score):\n",
    "    answer = []\n",
    "    score_dic = {}\n",
    "    idx = 1\n",
    "    for sc in score:\n",
    "        score_dic[str(idx)] = (sc[0] + sc[1]) / 2\n",
    "        answer.append(0)\n",
    "        idx += 1\n",
    "    rank = 1\n",
    "    count = 0\n",
    "    sc = - 1 \n",
    "    users = []\n",
    "    for idx, score in sorted(\n",
    "        score_dic.items(), \n",
    "        key=lambda item: item[1], \n",
    "        reverse=True):\n",
    "        \n",
    "        if sc == -1:\n",
    "            sc = score\n",
    "        \n",
    "        count += 1\n",
    "        print(\"{}:{}:{}:{}\".format(idx, rank, score, users))\n",
    "        if (score < sc) and users:\n",
    "            print(\"{}:{}\".format(rank, count))\n",
    "            sc = score\n",
    "            for user in users:\n",
    "                answer[int(user) -1] = rank\n",
    "            users = []\n",
    "            rank = count\n",
    "        users.append(idx)\n",
    "        \n",
    "    for user in users:\n",
    "        answer[int(user) -1] = rank\n",
    "    \n",
    "    \n",
    "    \n",
    "    return answer"
   ]
  },
  {
   "cell_type": "code",
   "execution_count": 73,
   "id": "b2c6e847",
   "metadata": {},
   "outputs": [
    {
     "name": "stdout",
     "output_type": "stream",
     "text": [
      "2:1:90.0:[]\n",
      "4:1:90.0:['2']\n",
      "1:1:10.0:['2', '4']\n",
      "1:3\n",
      "3:3:10.0:['1']\n",
      "5:3:10.0:['1', '3']\n"
     ]
    },
    {
     "data": {
      "text/plain": [
       "[3, 1, 3, 1, 3]"
      ]
     },
     "execution_count": 73,
     "metadata": {},
     "output_type": "execute_result"
    }
   ],
   "source": [
    "solution([[0, 20], [80, 100], [10, 10], [90, 90], [20, 0]])"
   ]
  },
  {
   "cell_type": "code",
   "execution_count": null,
   "id": "b05cbed0",
   "metadata": {},
   "outputs": [],
   "source": []
  },
  {
   "cell_type": "code",
   "execution_count": null,
   "id": "8723b8c7",
   "metadata": {},
   "outputs": [],
   "source": []
  }
 ],
 "metadata": {
  "kernelspec": {
   "display_name": "Python 3 (ipykernel)",
   "language": "python",
   "name": "python3"
  },
  "language_info": {
   "codemirror_mode": {
    "name": "ipython",
    "version": 3
   },
   "file_extension": ".py",
   "mimetype": "text/x-python",
   "name": "python",
   "nbconvert_exporter": "python",
   "pygments_lexer": "ipython3",
   "version": "3.10.6"
  }
 },
 "nbformat": 4,
 "nbformat_minor": 5
}
