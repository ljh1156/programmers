{
 "cells": [
  {
   "cell_type": "code",
   "execution_count": 7,
   "id": "61e963b0",
   "metadata": {},
   "outputs": [],
   "source": [
    "def solution(n):\n",
    "    answer = set([])\n",
    "    \n",
    "    for i in range(2, n + 1):\n",
    "        while(1):\n",
    "            if n % i == 0:\n",
    "                answer.add(i)\n",
    "                n = n / i\n",
    "            else:\n",
    "                break\n",
    "    \n",
    "    return sorted(list(answer))"
   ]
  },
  {
   "cell_type": "code",
   "execution_count": 8,
   "id": "1bb76328",
   "metadata": {},
   "outputs": [
    {
     "data": {
      "text/plain": [
       "[2, 3, 5, 7]"
      ]
     },
     "execution_count": 8,
     "metadata": {},
     "output_type": "execute_result"
    }
   ],
   "source": [
    "solution(420)"
   ]
  },
  {
   "cell_type": "code",
   "execution_count": null,
   "id": "ff06f712",
   "metadata": {},
   "outputs": [],
   "source": []
  },
  {
   "cell_type": "code",
   "execution_count": null,
   "id": "2268b140",
   "metadata": {},
   "outputs": [],
   "source": []
  }
 ],
 "metadata": {
  "kernelspec": {
   "display_name": "Python 3 (ipykernel)",
   "language": "python",
   "name": "python3"
  },
  "language_info": {
   "codemirror_mode": {
    "name": "ipython",
    "version": 3
   },
   "file_extension": ".py",
   "mimetype": "text/x-python",
   "name": "python",
   "nbconvert_exporter": "python",
   "pygments_lexer": "ipython3",
   "version": "3.10.6"
  }
 },
 "nbformat": 4,
 "nbformat_minor": 5
}
