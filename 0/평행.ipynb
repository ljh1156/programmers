{
 "cells": [
  {
   "cell_type": "code",
   "execution_count": 19,
   "id": "8dcd700c",
   "metadata": {},
   "outputs": [],
   "source": [
    "def solution(dots):\n",
    "    answer = 0\n",
    "    \n",
    "    diff_dic = {}\n",
    "    for i in range(0, len(dots)-1):\n",
    "        xi = dots[i][0]\n",
    "        yi = dots[i][1]\n",
    "        #print(\"{}:{}\".format(xi, yi))\n",
    "        for j in range(i + 1, len(dots)):\n",
    "            xj = dots[j][0]\n",
    "            yj = dots[j][1]\n",
    "            #print(\"---{}:{}\".format(xj, yj))\n",
    "            diffx = xi - xj\n",
    "            diffy = yi - yj\n",
    "            diff_key = float(diffy) / float(diffx)\n",
    "            if diff_key in diff_dic:\n",
    "                return 1\n",
    "            diff_dic[diff_key] = 1\n",
    "            \n",
    "        \n",
    "    \n",
    "    return answer"
   ]
  },
  {
   "cell_type": "code",
   "execution_count": 21,
   "id": "d21c0f5b",
   "metadata": {},
   "outputs": [
    {
     "data": {
      "text/plain": [
       "1"
      ]
     },
     "execution_count": 21,
     "metadata": {},
     "output_type": "execute_result"
    }
   ],
   "source": [
    "solution([[1, 4], [9, 2], [3, 8], [11, 6]]\t)"
   ]
  },
  {
   "cell_type": "code",
   "execution_count": null,
   "id": "7dff9cdd",
   "metadata": {},
   "outputs": [],
   "source": []
  }
 ],
 "metadata": {
  "kernelspec": {
   "display_name": "Python 3 (ipykernel)",
   "language": "python",
   "name": "python3"
  },
  "language_info": {
   "codemirror_mode": {
    "name": "ipython",
    "version": 3
   },
   "file_extension": ".py",
   "mimetype": "text/x-python",
   "name": "python",
   "nbconvert_exporter": "python",
   "pygments_lexer": "ipython3",
   "version": "3.10.6"
  }
 },
 "nbformat": 4,
 "nbformat_minor": 5
}
