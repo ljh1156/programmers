{
 "cells": [
  {
   "cell_type": "code",
   "execution_count": 18,
   "id": "eed34c48",
   "metadata": {},
   "outputs": [],
   "source": [
    "def solution(polynomial):\n",
    "    answer = ''\n",
    "    \n",
    "    polynomial = polynomial.replace(' ', '')\n",
    "    print(polynomial)\n",
    "    x = 0\n",
    "    n = 0\n",
    "    for poly in polynomial.split('+'):\n",
    "        print(poly)\n",
    "        if poly[-1] == 'x':\n",
    "            if len(poly) == 1:\n",
    "                x += 1\n",
    "            else:\n",
    "                x += int(poly[:-1])\n",
    "            print(x)\n",
    "        else:\n",
    "            n += int(poly)\n",
    "    if x > 1:\n",
    "        answer += str(x)\n",
    "    if x > 0:\n",
    "        answer += \"x\"\n",
    "    if n > 0:\n",
    "        if x > 0:\n",
    "            answer += \" + \"\n",
    "        answer += str(n)\n",
    "    \n",
    "    return answer"
   ]
  },
  {
   "cell_type": "code",
   "execution_count": 19,
   "id": "4679871e",
   "metadata": {},
   "outputs": [
    {
     "name": "stdout",
     "output_type": "stream",
     "text": [
      "1+2+3\n",
      "1\n",
      "2\n",
      "3\n"
     ]
    },
    {
     "data": {
      "text/plain": [
       "'6'"
      ]
     },
     "execution_count": 19,
     "metadata": {},
     "output_type": "execute_result"
    }
   ],
   "source": [
    "solution(\"1 + 2 + 3\")"
   ]
  },
  {
   "cell_type": "code",
   "execution_count": null,
   "id": "800bebf1",
   "metadata": {},
   "outputs": [],
   "source": []
  }
 ],
 "metadata": {
  "kernelspec": {
   "display_name": "Python 3 (ipykernel)",
   "language": "python",
   "name": "python3"
  },
  "language_info": {
   "codemirror_mode": {
    "name": "ipython",
    "version": 3
   },
   "file_extension": ".py",
   "mimetype": "text/x-python",
   "name": "python",
   "nbconvert_exporter": "python",
   "pygments_lexer": "ipython3",
   "version": "3.10.6"
  }
 },
 "nbformat": 4,
 "nbformat_minor": 5
}
