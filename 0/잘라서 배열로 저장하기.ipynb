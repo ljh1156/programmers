{
 "cells": [
  {
   "cell_type": "code",
   "execution_count": 7,
   "id": "e3bd346e",
   "metadata": {},
   "outputs": [],
   "source": [
    "def solution(my_str, n):\n",
    "    answer = []\n",
    "    \n",
    "    idx = 0\n",
    "    tmp = \"\"\n",
    "    while(1):\n",
    "        tmp += my_str[idx]\n",
    "        print(tmp)\n",
    "        if len(tmp) == n:\n",
    "            answer.append(tmp)\n",
    "            tmp = \"\"\n",
    "        idx += 1\n",
    "        if idx == len(my_str):\n",
    "            break\n",
    "    if tmp != \"\":\n",
    "        answer.append(tmp)\n",
    "    \n",
    "    return answer"
   ]
  },
  {
   "cell_type": "code",
   "execution_count": 11,
   "id": "ae3be9b7",
   "metadata": {},
   "outputs": [
    {
     "name": "stdout",
     "output_type": "stream",
     "text": [
      "a\n"
     ]
    },
    {
     "data": {
      "text/plain": [
       "['a']"
      ]
     },
     "execution_count": 11,
     "metadata": {},
     "output_type": "execute_result"
    }
   ],
   "source": [
    "solution(\"a\", 1)"
   ]
  },
  {
   "cell_type": "code",
   "execution_count": null,
   "id": "7fe8453f",
   "metadata": {},
   "outputs": [],
   "source": []
  }
 ],
 "metadata": {
  "kernelspec": {
   "display_name": "Python 3 (ipykernel)",
   "language": "python",
   "name": "python3"
  },
  "language_info": {
   "codemirror_mode": {
    "name": "ipython",
    "version": 3
   },
   "file_extension": ".py",
   "mimetype": "text/x-python",
   "name": "python",
   "nbconvert_exporter": "python",
   "pygments_lexer": "ipython3",
   "version": "3.10.6"
  }
 },
 "nbformat": 4,
 "nbformat_minor": 5
}
