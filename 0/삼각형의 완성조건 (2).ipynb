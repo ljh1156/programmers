{
 "cells": [
  {
   "cell_type": "code",
   "execution_count": 15,
   "id": "00342e63",
   "metadata": {},
   "outputs": [],
   "source": [
    "def solution(sides):\n",
    "    answer = 0\n",
    "    \n",
    "    sides  = sorted(sides, reverse=True)\n",
    "    long = sides[0]\n",
    "    short = sides[1]\n",
    "    #long - (long - short + 1) + 1\n",
    "    \n",
    "    #long - short + 1 ~ long \n",
    "    answer += short\n",
    "    #print(answer)\n",
    "    answer += short - 1\n",
    "    #print(long)\n",
    "    #5 6 7 8 9 10 \n",
    "    \n",
    "    return answer"
   ]
  },
  {
   "cell_type": "code",
   "execution_count": 17,
   "id": "1beb286d",
   "metadata": {},
   "outputs": [
    {
     "name": "stdout",
     "output_type": "stream",
     "text": [
      "7\n"
     ]
    },
    {
     "data": {
      "text/plain": [
       "13"
      ]
     },
     "execution_count": 17,
     "metadata": {},
     "output_type": "execute_result"
    }
   ],
   "source": [
    "solution([11, 7])"
   ]
  },
  {
   "cell_type": "code",
   "execution_count": null,
   "id": "b32b683c",
   "metadata": {},
   "outputs": [],
   "source": []
  },
  {
   "cell_type": "code",
   "execution_count": null,
   "id": "b63f7997",
   "metadata": {},
   "outputs": [],
   "source": []
  }
 ],
 "metadata": {
  "kernelspec": {
   "display_name": "Python 3 (ipykernel)",
   "language": "python",
   "name": "python3"
  },
  "language_info": {
   "codemirror_mode": {
    "name": "ipython",
    "version": 3
   },
   "file_extension": ".py",
   "mimetype": "text/x-python",
   "name": "python",
   "nbconvert_exporter": "python",
   "pygments_lexer": "ipython3",
   "version": "3.10.6"
  }
 },
 "nbformat": 4,
 "nbformat_minor": 5
}
