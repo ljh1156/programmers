{
 "cells": [
  {
   "cell_type": "code",
   "execution_count": 22,
   "id": "eb7c2015",
   "metadata": {},
   "outputs": [],
   "source": [
    "def solution(array):\n",
    "    answer = 0\n",
    "    \n",
    "    if len(array) == 1:\n",
    "        return array[0]\n",
    "    \n",
    "    num_dic = {}\n",
    "    for num in array:\n",
    "        if num not in num_dic:\n",
    "            num_dic[num] = 1\n",
    "        else:\n",
    "            num_dic[num] += 1\n",
    "            \n",
    "    nums = sorted(\n",
    "        num_dic.items(),\n",
    "        key=lambda item:item[1],\n",
    "        reverse=True\n",
    "    \n",
    "    )\n",
    "    if len(nums) == 1:\n",
    "        return nums[0][0]\n",
    "    if nums[0][1] == nums[1][1]:\n",
    "        return -1\n",
    "    else:\n",
    "        return nums[0][0]\n",
    "    \n",
    "    "
   ]
  },
  {
   "cell_type": "code",
   "execution_count": 23,
   "id": "83c59bc6",
   "metadata": {},
   "outputs": [
    {
     "data": {
      "text/plain": [
       "1"
      ]
     },
     "execution_count": 23,
     "metadata": {},
     "output_type": "execute_result"
    }
   ],
   "source": [
    "solution([1, 1])"
   ]
  },
  {
   "cell_type": "code",
   "execution_count": null,
   "id": "b7d00bb0",
   "metadata": {},
   "outputs": [],
   "source": []
  },
  {
   "cell_type": "code",
   "execution_count": null,
   "id": "c0f802bb",
   "metadata": {},
   "outputs": [],
   "source": []
  }
 ],
 "metadata": {
  "kernelspec": {
   "display_name": "Python 3 (ipykernel)",
   "language": "python",
   "name": "python3"
  },
  "language_info": {
   "codemirror_mode": {
    "name": "ipython",
    "version": 3
   },
   "file_extension": ".py",
   "mimetype": "text/x-python",
   "name": "python",
   "nbconvert_exporter": "python",
   "pygments_lexer": "ipython3",
   "version": "3.10.6"
  }
 },
 "nbformat": 4,
 "nbformat_minor": 5
}
