{
 "cells": [
  {
   "cell_type": "code",
   "execution_count": 4,
   "id": "893859f9",
   "metadata": {},
   "outputs": [],
   "source": [
    "def solution(strlist):\n",
    "    answer = []\n",
    "    for st in strlist:\n",
    "        answer.append(len(st))\n",
    "    return answer"
   ]
  },
  {
   "cell_type": "code",
   "execution_count": 5,
   "id": "03eccaed",
   "metadata": {},
   "outputs": [
    {
     "data": {
      "text/plain": [
       "[1, 4, 12]"
      ]
     },
     "execution_count": 5,
     "metadata": {},
     "output_type": "execute_result"
    }
   ],
   "source": [
    "solution([\"I\", \"Love\", \"Programmers.\"])"
   ]
  },
  {
   "cell_type": "code",
   "execution_count": null,
   "id": "0d6e628f",
   "metadata": {},
   "outputs": [],
   "source": []
  }
 ],
 "metadata": {
  "kernelspec": {
   "display_name": "Python 3 (ipykernel)",
   "language": "python",
   "name": "python3"
  },
  "language_info": {
   "codemirror_mode": {
    "name": "ipython",
    "version": 3
   },
   "file_extension": ".py",
   "mimetype": "text/x-python",
   "name": "python",
   "nbconvert_exporter": "python",
   "pygments_lexer": "ipython3",
   "version": "3.10.6"
  }
 },
 "nbformat": 4,
 "nbformat_minor": 5
}
