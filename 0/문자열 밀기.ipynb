{
 "cells": [
  {
   "cell_type": "code",
   "execution_count": 38,
   "id": "0ea883f2",
   "metadata": {},
   "outputs": [],
   "source": [
    "def solution(A, B):\n",
    "    answer = 0\n",
    "    \n",
    "    if A == B: return 0\n",
    "    while(1):\n",
    "        answer += 1\n",
    "        A = list(A)\n",
    "        tmp = A.pop()\n",
    "        #print(tmp)\n",
    "        A.insert(0, tmp)\n",
    "        #print(A)\n",
    "        if ''.join(A) == B:\n",
    "            break\n",
    "        if answer == len(A):\n",
    "            break\n",
    "    if answer == len(A):\n",
    "        return -1\n",
    "        \n",
    "    return answer"
   ]
  },
  {
   "cell_type": "code",
   "execution_count": 39,
   "id": "5398e741",
   "metadata": {},
   "outputs": [
    {
     "data": {
      "text/plain": [
       "-1"
      ]
     },
     "execution_count": 39,
     "metadata": {},
     "output_type": "execute_result"
    }
   ],
   "source": [
    "solution(\"apple\", \"elppa\")"
   ]
  },
  {
   "cell_type": "code",
   "execution_count": null,
   "id": "9ddcd229",
   "metadata": {},
   "outputs": [],
   "source": []
  },
  {
   "cell_type": "code",
   "execution_count": null,
   "id": "332c03b8",
   "metadata": {},
   "outputs": [],
   "source": []
  }
 ],
 "metadata": {
  "kernelspec": {
   "display_name": "Python 3 (ipykernel)",
   "language": "python",
   "name": "python3"
  },
  "language_info": {
   "codemirror_mode": {
    "name": "ipython",
    "version": 3
   },
   "file_extension": ".py",
   "mimetype": "text/x-python",
   "name": "python",
   "nbconvert_exporter": "python",
   "pygments_lexer": "ipython3",
   "version": "3.10.6"
  }
 },
 "nbformat": 4,
 "nbformat_minor": 5
}
