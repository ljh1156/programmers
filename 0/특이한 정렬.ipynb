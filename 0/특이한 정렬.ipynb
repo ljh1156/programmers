{
 "cells": [
  {
   "cell_type": "code",
   "execution_count": 21,
   "id": "c5c7fa54",
   "metadata": {},
   "outputs": [],
   "source": [
    "def solution(numlist, n):\n",
    "    answer = []\n",
    "    \n",
    "    numlist = sorted(numlist, reverse=True)\n",
    "    dist = []\n",
    "    for num in numlist:\n",
    "        dist.append(abs(n - num))\n",
    "    for i in range(0, len(numlist) -1):\n",
    "        for j in range(i + 1, len(numlist)):\n",
    "            if dist[i] > dist[j]:\n",
    "                tmp = dist[i]\n",
    "                dist[i] = dist[j]\n",
    "                dist[j] = tmp\n",
    "                tmp = numlist[i]\n",
    "                numlist[i] = numlist[j]\n",
    "                numlist[j] = tmp\n",
    "    print(numlist)\n",
    "    #print(dist)\n",
    "    \n",
    "    return numlist"
   ]
  },
  {
   "cell_type": "code",
   "execution_count": 22,
   "id": "f5585a7c",
   "metadata": {},
   "outputs": [
    {
     "name": "stdout",
     "output_type": "stream",
     "text": [
      "[36, 40, 20, 47, 10, 6, 7000, 10000]\n"
     ]
    },
    {
     "data": {
      "text/plain": [
       "[36, 40, 20, 47, 10, 6, 7000, 10000]"
      ]
     },
     "execution_count": 22,
     "metadata": {},
     "output_type": "execute_result"
    }
   ],
   "source": [
    "solution([10000,20,36,47,40,6,10,7000], 30)"
   ]
  },
  {
   "cell_type": "code",
   "execution_count": null,
   "id": "41ff83d3",
   "metadata": {},
   "outputs": [],
   "source": []
  },
  {
   "cell_type": "code",
   "execution_count": null,
   "id": "bc9509af",
   "metadata": {},
   "outputs": [],
   "source": []
  }
 ],
 "metadata": {
  "kernelspec": {
   "display_name": "Python 3 (ipykernel)",
   "language": "python",
   "name": "python3"
  },
  "language_info": {
   "codemirror_mode": {
    "name": "ipython",
    "version": 3
   },
   "file_extension": ".py",
   "mimetype": "text/x-python",
   "name": "python",
   "nbconvert_exporter": "python",
   "pygments_lexer": "ipython3",
   "version": "3.10.6"
  }
 },
 "nbformat": 4,
 "nbformat_minor": 5
}
