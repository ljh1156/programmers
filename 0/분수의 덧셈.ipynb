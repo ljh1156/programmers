{
 "cells": [
  {
   "cell_type": "code",
   "execution_count": 17,
   "id": "d89d9904",
   "metadata": {},
   "outputs": [],
   "source": [
    "def solution(denum1, num1, denum2, num2):\n",
    "    answer = []\n",
    "    \n",
    "    if num1 % num2 == 0:\n",
    "        num = num1\n",
    "        denum = int(num1 / num2) * denum2 + denum1\n",
    "    elif num2 % num1 == 0:\n",
    "        num= num2\n",
    "        denum = int(num2 / num1) * denum1 + denum2\n",
    "    else:\n",
    "        num = num1 * num2\n",
    "        denum = denum1 * num2 + denum2 * num1\n",
    "    print(num)\n",
    "    print(denum)\n",
    "    \n",
    "    i = 2\n",
    "    while(1):\n",
    "        if num %i == 0 and denum % i == 0:\n",
    "            num  = int(num / i)\n",
    "            denum = int(denum / i)\n",
    "        else:\n",
    "            i += 1\n",
    "        if num < i:\n",
    "            break\n",
    "    \n",
    "    return [denum, num]"
   ]
  },
  {
   "cell_type": "code",
   "execution_count": 18,
   "id": "f03707a4",
   "metadata": {},
   "outputs": [
    {
     "name": "stdout",
     "output_type": "stream",
     "text": [
      "2\n",
      "2\n"
     ]
    },
    {
     "data": {
      "text/plain": [
       "[1, 1]"
      ]
     },
     "execution_count": 18,
     "metadata": {},
     "output_type": "execute_result"
    }
   ],
   "source": [
    "solution(1, 2, 1, 2)"
   ]
  },
  {
   "cell_type": "code",
   "execution_count": null,
   "id": "d56d7f83",
   "metadata": {},
   "outputs": [],
   "source": []
  }
 ],
 "metadata": {
  "kernelspec": {
   "display_name": "Python 3 (ipykernel)",
   "language": "python",
   "name": "python3"
  },
  "language_info": {
   "codemirror_mode": {
    "name": "ipython",
    "version": 3
   },
   "file_extension": ".py",
   "mimetype": "text/x-python",
   "name": "python",
   "nbconvert_exporter": "python",
   "pygments_lexer": "ipython3",
   "version": "3.10.6"
  }
 },
 "nbformat": 4,
 "nbformat_minor": 5
}
