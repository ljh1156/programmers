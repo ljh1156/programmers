{
 "cells": [
  {
   "cell_type": "code",
   "execution_count": 70,
   "id": "dce08309",
   "metadata": {},
   "outputs": [],
   "source": [
    "import heapq\n",
    "\n",
    "def newSort(numbers):\n",
    "    ret = \"\"\n",
    "    heap = []\n",
    "    max_len = max([len(x) for x in numbers])\n",
    "    for num in numbers:\n",
    "        tmp = num\n",
    "        while(1):\n",
    "            if len(tmp) > max_len:\n",
    "                break\n",
    "            tmp += tmp\n",
    "        tmp = tmp[0:max_len+1]\n",
    "        heapq.heappush(heap, (int(tmp), num))\n",
    "    for i in range(len(heap)):\n",
    "        ret = heapq.heappop(heap)[1] + ret\n",
    "    return ret\n",
    "\n",
    "\n",
    "def solution(numbers):\n",
    "    answer = ''\n",
    "    \n",
    "    str_numbers = [str(num) for num in numbers]\n",
    "    str_numbers = sorted(str_numbers, reverse=True)\n",
    "    \n",
    "    tmp = [str_numbers[0]]\n",
    "    for i in range(1, len(str_numbers)):\n",
    "        #print(tmp)\n",
    "        str_num = str_numbers[i]\n",
    "        if str_num[0] == tmp[0][0]:\n",
    "            tmp.append(str_num)\n",
    "        else:\n",
    "            tmp = newSort(tmp)\n",
    "            answer += tmp\n",
    "            tmp = [str_num]\n",
    "    tmp = newSort(tmp)\n",
    "    answer += tmp\n",
    "        \n",
    "#    print(int(answer))\n",
    "    if int(answer) == 0:\n",
    "        return \"0\"\n",
    "    \n",
    "    return answer"
   ]
  },
  {
   "cell_type": "code",
   "execution_count": 73,
   "id": "e7d09f50",
   "metadata": {},
   "outputs": [
    {
     "name": "stdout",
     "output_type": "stream",
     "text": [
      "['0', '0', '0', '0']\n",
      "['0', '0', '0', '0']\n",
      "0\n"
     ]
    },
    {
     "data": {
      "text/plain": [
       "0"
      ]
     },
     "execution_count": 73,
     "metadata": {},
     "output_type": "execute_result"
    }
   ],
   "source": [
    "solution([0, 0, 0, 0])"
   ]
  },
  {
   "cell_type": "code",
   "execution_count": null,
   "id": "19385b8e",
   "metadata": {},
   "outputs": [],
   "source": []
  },
  {
   "cell_type": "code",
   "execution_count": null,
   "id": "b89e86c5",
   "metadata": {},
   "outputs": [],
   "source": []
  }
 ],
 "metadata": {
  "kernelspec": {
   "display_name": "Python 3 (ipykernel)",
   "language": "python",
   "name": "python3"
  },
  "language_info": {
   "codemirror_mode": {
    "name": "ipython",
    "version": 3
   },
   "file_extension": ".py",
   "mimetype": "text/x-python",
   "name": "python",
   "nbconvert_exporter": "python",
   "pygments_lexer": "ipython3",
   "version": "3.10.6"
  }
 },
 "nbformat": 4,
 "nbformat_minor": 5
}
