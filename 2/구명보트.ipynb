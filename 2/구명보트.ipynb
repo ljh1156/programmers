{
 "cells": [
  {
   "cell_type": "code",
   "execution_count": 23,
   "id": "ae5326b3",
   "metadata": {},
   "outputs": [],
   "source": [
    "def solution(people, limit):\n",
    "    answer = 0\n",
    "    people.sort()\n",
    "    print(people)\n",
    "\n",
    "    while(people):\n",
    "        k = people.pop()\n",
    "        if people == []:\n",
    "            answer += 1\n",
    "            break\n",
    "        else:\n",
    "            pop_count = 0\n",
    "            #sum_weight = 0\n",
    "            for i in range(0, len(people)):\n",
    "                if people[i] + k <= limit:\n",
    "                    k += people[i]\n",
    "                    pop_count += 1\n",
    "                    #people.pop(i)\n",
    "                else:\n",
    "                    break\n",
    "            for _ in range(pop_count):\n",
    "                people.pop(0)\n",
    "            answer += 1\n",
    "            #if people[0] + k <= limit:\n",
    "            #    people.pop(0)\n",
    "            #    answer += 1\n",
    "            #else:\n",
    "            #    answer +=  1\n",
    "\n",
    "    return answer"
   ]
  },
  {
   "cell_type": "code",
   "execution_count": 24,
   "id": "12954821",
   "metadata": {},
   "outputs": [
    {
     "name": "stdout",
     "output_type": "stream",
     "text": [
      "[40, 40, 40, 40]\n"
     ]
    },
    {
     "data": {
      "text/plain": [
       "1"
      ]
     },
     "execution_count": 24,
     "metadata": {},
     "output_type": "execute_result"
    }
   ],
   "source": [
    "solution([40, 40, 40, 40],240)"
   ]
  },
  {
   "cell_type": "code",
   "execution_count": null,
   "id": "64e2d1cc",
   "metadata": {},
   "outputs": [],
   "source": []
  },
  {
   "cell_type": "code",
   "execution_count": null,
   "id": "74d0c92a",
   "metadata": {},
   "outputs": [],
   "source": []
  }
 ],
 "metadata": {
  "kernelspec": {
   "display_name": "Python 3 (ipykernel)",
   "language": "python",
   "name": "python3"
  },
  "language_info": {
   "codemirror_mode": {
    "name": "ipython",
    "version": 3
   },
   "file_extension": ".py",
   "mimetype": "text/x-python",
   "name": "python",
   "nbconvert_exporter": "python",
   "pygments_lexer": "ipython3",
   "version": "3.10.6"
  }
 },
 "nbformat": 4,
 "nbformat_minor": 5
}
