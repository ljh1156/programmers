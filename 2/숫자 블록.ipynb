{
 "cells": [
  {
   "cell_type": "code",
   "execution_count": 56,
   "id": "d946668b",
   "metadata": {},
   "outputs": [],
   "source": [
    "import math\n",
    "\n",
    "\n",
    "def solution(begin, end):\n",
    "    answer = []\n",
    "\n",
    "    for i in range(begin, end + 1):\n",
    "        if i == 1:  # i == 1인 경우는 문제에서는 0으로 주어짐\n",
    "            answer.append(0)\n",
    "        else:\n",
    "            # 소수인지 아닌지 판별하기 위해\n",
    "            # 판별하기 위한 숫자 i 의 제곱근 까지 하나씩 나눠보고\n",
    "            # 소수가 아니면 몫을, 소수이면 1을 넣는다.\n",
    "            sqrt = int(math.sqrt(i))\n",
    "            chk = True\n",
    "            for j in range(2, sqrt + 1):\n",
    "                mok = i // j\n",
    "                # !!!!중요!!!! - 정확성에서는 통과하나 효율성에서 통과하지 못하는 이유가 있음\n",
    "                # 전체 길이는 10**9이지만 블록은 10**7 이다\n",
    "                # 그러므로 몫이 10**7을 넘어가면 안됨!!\n",
    "                if mok > 10 ** 7:\n",
    "                    continue\n",
    "#                    break\n",
    "                if i % j == 0:\n",
    "                    chk = False\n",
    "                    answer.append(mok)\n",
    "                    break\n",
    "            if chk:\n",
    "                answer.append(1)\n",
    "\n",
    "    return answer"
   ]
  },
  {
   "cell_type": "code",
   "execution_count": 57,
   "id": "3093005f",
   "metadata": {},
   "outputs": [
    {
     "data": {
      "text/plain": [
       "[0, 1, 1, 2, 1, 3, 1, 4, 3, 5]"
      ]
     },
     "execution_count": 57,
     "metadata": {},
     "output_type": "execute_result"
    }
   ],
   "source": [
    "solution(1, 10)"
   ]
  },
  {
   "cell_type": "code",
   "execution_count": null,
   "id": "da9b90b7",
   "metadata": {},
   "outputs": [],
   "source": []
  }
 ],
 "metadata": {
  "kernelspec": {
   "display_name": "Python 3 (ipykernel)",
   "language": "python",
   "name": "python3"
  },
  "language_info": {
   "codemirror_mode": {
    "name": "ipython",
    "version": 3
   },
   "file_extension": ".py",
   "mimetype": "text/x-python",
   "name": "python",
   "nbconvert_exporter": "python",
   "pygments_lexer": "ipython3",
   "version": "3.10.6"
  }
 },
 "nbformat": 4,
 "nbformat_minor": 5
}
