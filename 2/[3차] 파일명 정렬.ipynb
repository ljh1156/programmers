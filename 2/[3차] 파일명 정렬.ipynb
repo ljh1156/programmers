{
 "cells": [
  {
   "cell_type": "code",
   "execution_count": 82,
   "id": "bf9a91fd",
   "metadata": {},
   "outputs": [],
   "source": [
    "import re\n",
    "\n",
    "\n",
    "def solution(file_names):\n",
    "    filt = re.compile(r'([a-zA-Z\\-\\s\\.]+)([0-9]{0,5})(.*)')\n",
    "    files = []\n",
    "    for file_name in file_names:\n",
    "        files.extend(filt.findall(file_name))\n",
    "    print(files)\n",
    "    files.sort(key=lambda x: (x[0].lower(), int(x[1])))\n",
    "    answer = [''.join(i) for i in files]\n",
    "    return answer"
   ]
  },
  {
   "cell_type": "code",
   "execution_count": 83,
   "id": "114069a7",
   "metadata": {},
   "outputs": [
    {
     "name": "stdout",
     "output_type": "stream",
     "text": [
      "[('-A .FAA ', '9', ' tT'), ('F A ', '9', ' tt')]\n"
     ]
    },
    {
     "data": {
      "text/plain": [
       "['-A .FAA 9 tT', 'F A 9 tt']"
      ]
     },
     "execution_count": 83,
     "metadata": {},
     "output_type": "execute_result"
    }
   ],
   "source": [
    "solution( [\"-A .FAA 9 tT\", \"F A 9 tt\"])"
   ]
  },
  {
   "cell_type": "code",
   "execution_count": null,
   "id": "22f5f806",
   "metadata": {},
   "outputs": [],
   "source": []
  },
  {
   "cell_type": "code",
   "execution_count": null,
   "id": "397a1ee7",
   "metadata": {},
   "outputs": [],
   "source": []
  }
 ],
 "metadata": {
  "kernelspec": {
   "display_name": "Python 3 (ipykernel)",
   "language": "python",
   "name": "python3"
  },
  "language_info": {
   "codemirror_mode": {
    "name": "ipython",
    "version": 3
   },
   "file_extension": ".py",
   "mimetype": "text/x-python",
   "name": "python",
   "nbconvert_exporter": "python",
   "pygments_lexer": "ipython3",
   "version": "3.10.6"
  }
 },
 "nbformat": 4,
 "nbformat_minor": 5
}
