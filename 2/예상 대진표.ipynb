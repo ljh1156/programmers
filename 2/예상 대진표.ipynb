{
 "cells": [
  {
   "cell_type": "code",
   "execution_count": 16,
   "id": "306550e9",
   "metadata": {},
   "outputs": [],
   "source": [
    "def solution(n,a,b):\n",
    "    answer = 0\n",
    "    \n",
    "    round = 1\n",
    "    while(1):\n",
    "        print(a, b)\n",
    "        if abs(a - b) == 1 and (max(a, b) % 2 == 0):\n",
    "            break\n",
    "        a = a // 2 + a % 2\n",
    "        b = b // 2 + b % 2\n",
    "        round += 1\n",
    "\n",
    "    return round"
   ]
  },
  {
   "cell_type": "code",
   "execution_count": 17,
   "id": "60299f36",
   "metadata": {},
   "outputs": [
    {
     "name": "stdout",
     "output_type": "stream",
     "text": [
      "4 5\n",
      "2 3\n",
      "1 2\n"
     ]
    },
    {
     "data": {
      "text/plain": [
       "3"
      ]
     },
     "execution_count": 17,
     "metadata": {},
     "output_type": "execute_result"
    }
   ],
   "source": [
    "solution(8, 4, 5)"
   ]
  },
  {
   "cell_type": "code",
   "execution_count": null,
   "id": "556b7fe6",
   "metadata": {},
   "outputs": [],
   "source": []
  }
 ],
 "metadata": {
  "kernelspec": {
   "display_name": "Python 3 (ipykernel)",
   "language": "python",
   "name": "python3"
  },
  "language_info": {
   "codemirror_mode": {
    "name": "ipython",
    "version": 3
   },
   "file_extension": ".py",
   "mimetype": "text/x-python",
   "name": "python",
   "nbconvert_exporter": "python",
   "pygments_lexer": "ipython3",
   "version": "3.10.6"
  }
 },
 "nbformat": 4,
 "nbformat_minor": 5
}
