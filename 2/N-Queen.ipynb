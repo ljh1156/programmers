{
 "cells": [
  {
   "cell_type": "code",
   "execution_count": 12,
   "id": "cf43b276",
   "metadata": {},
   "outputs": [],
   "source": [
    "def dfs(queen, n, row):\n",
    "    print(queen)\n",
    "    count = 0\n",
    "    \n",
    "    if n == row:\n",
    "        return 1\n",
    "    \n",
    "    # 가로로 한번만 진행\n",
    "    for col in range(n):\n",
    "        queen[row] = col\n",
    "\n",
    "        # for-else구문\n",
    "        for x in range(row):\n",
    "            # 세로로 겹치면 안됨\n",
    "            if queen[x] == queen[row]: \n",
    "                break\n",
    "                \n",
    "            # 대각선으로 겹치면 안됨\n",
    "            if abs(queen[x]-queen[row]) == (row-x):\n",
    "                break\n",
    "        else:\n",
    "            count += dfs(queen, n, row+1)\n",
    "            \n",
    "    return count\n",
    "\n",
    "def solution(n):\n",
    "    queen = [0]*n\n",
    "        \n",
    "    return dfs(queen, n, 0)"
   ]
  },
  {
   "cell_type": "code",
   "execution_count": 13,
   "id": "719cc86b",
   "metadata": {},
   "outputs": [
    {
     "name": "stdout",
     "output_type": "stream",
     "text": [
      "[0, 0, 0, 0]\n",
      "[0, 0, 0, 0]\n",
      "[0, 2, 0, 0]\n",
      "[0, 3, 3, 0]\n",
      "[0, 3, 1, 0]\n",
      "[1, 3, 3, 3]\n",
      "[1, 3, 3, 3]\n",
      "[1, 3, 0, 3]\n",
      "[1, 3, 0, 2]\n",
      "[2, 3, 3, 3]\n",
      "[2, 0, 3, 3]\n",
      "[2, 0, 3, 3]\n",
      "[2, 0, 3, 1]\n",
      "[3, 3, 3, 3]\n",
      "[3, 0, 3, 3]\n",
      "[3, 0, 2, 3]\n",
      "[3, 1, 3, 3]\n"
     ]
    },
    {
     "data": {
      "text/plain": [
       "2"
      ]
     },
     "execution_count": 13,
     "metadata": {},
     "output_type": "execute_result"
    }
   ],
   "source": [
    "solution(4)"
   ]
  },
  {
   "cell_type": "code",
   "execution_count": null,
   "id": "0fabce54",
   "metadata": {},
   "outputs": [],
   "source": []
  }
 ],
 "metadata": {
  "kernelspec": {
   "display_name": "Python 3 (ipykernel)",
   "language": "python",
   "name": "python3"
  },
  "language_info": {
   "codemirror_mode": {
    "name": "ipython",
    "version": 3
   },
   "file_extension": ".py",
   "mimetype": "text/x-python",
   "name": "python",
   "nbconvert_exporter": "python",
   "pygments_lexer": "ipython3",
   "version": "3.10.6"
  }
 },
 "nbformat": 4,
 "nbformat_minor": 5
}
