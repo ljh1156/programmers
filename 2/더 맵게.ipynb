{
 "cells": [
  {
   "cell_type": "code",
   "execution_count": 26,
   "id": "1ce2682e",
   "metadata": {},
   "outputs": [],
   "source": [
    "import heapq\n",
    "\n",
    "def solution(scoville, K):\n",
    "    answer = 0\n",
    "    \n",
    "    if K == 0:\n",
    "        return 0\n",
    "    \n",
    "    heap = []\n",
    "    for sco in scoville:\n",
    "        heapq.heappush(heap, sco)\n",
    "        \n",
    "    while(1):\n",
    "        one = heapq.heappop(heap)\n",
    "        #print(one)\n",
    "        if one >= K:\n",
    "            return answer\n",
    "        elif len(heap) == 0:\n",
    "            return -1\n",
    "        else:\n",
    "            two = heapq.heappop(heap)\n",
    "            cook = one + two * 2\n",
    "            print(\"{}:{}:{}\".format(one, two, cook))\n",
    "            heapq.heappush(heap, cook)\n",
    "            answer += 1\n",
    "        #print(sco)\n",
    "        #break\n",
    "    print(heap)\n",
    "    \n",
    "    return answer"
   ]
  },
  {
   "cell_type": "code",
   "execution_count": 27,
   "id": "48730522",
   "metadata": {},
   "outputs": [
    {
     "name": "stdout",
     "output_type": "stream",
     "text": [
      "0:0:0\n",
      "0:0:0\n",
      "0:3:6\n"
     ]
    },
    {
     "data": {
      "text/plain": [
       "3"
      ]
     },
     "execution_count": 27,
     "metadata": {},
     "output_type": "execute_result"
    }
   ],
   "source": [
    "solution([0, 0, 0, 3, 9], 1)"
   ]
  },
  {
   "cell_type": "code",
   "execution_count": null,
   "id": "efc90bed",
   "metadata": {},
   "outputs": [],
   "source": []
  }
 ],
 "metadata": {
  "kernelspec": {
   "display_name": "Python 3 (ipykernel)",
   "language": "python",
   "name": "python3"
  },
  "language_info": {
   "codemirror_mode": {
    "name": "ipython",
    "version": 3
   },
   "file_extension": ".py",
   "mimetype": "text/x-python",
   "name": "python",
   "nbconvert_exporter": "python",
   "pygments_lexer": "ipython3",
   "version": "3.10.6"
  }
 },
 "nbformat": 4,
 "nbformat_minor": 5
}
