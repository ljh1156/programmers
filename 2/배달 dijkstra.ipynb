{
 "cells": [
  {
   "cell_type": "code",
   "execution_count": 5,
   "id": "47c9ec32",
   "metadata": {},
   "outputs": [],
   "source": [
    "import heapq\n",
    "\n",
    "def dijkstra(dist,adj):\n",
    "    # 출발노드를 기준으로 각 노드들의 최소비용 탐색\n",
    "    heap = []\n",
    "    heapq.heappush(heap, [0,1])  # 거리,노드\n",
    "    while heap:\n",
    "        cost, node = heapq.heappop(heap)\n",
    "        print(\"cost:{}|node:{}\".format(cost, node))\n",
    "        for c,n in adj[node]:\n",
    "            if cost+c < dist[n]:\n",
    "                dist[n] = cost+c\n",
    "                heapq.heappush(heap, [cost+c,n])\n",
    "                print(heap)\n",
    "\n",
    "\n",
    "def solution(N, road, K):\n",
    "    dist = [float('inf')]*(N+1)  # dist 배열 만들고 최소거리 갱신할거임\n",
    "    print(dist)\n",
    "    dist[1] = 0  # 1번은 자기자신이니까 거리 0\n",
    "    adj = [[] for _ in range(N+1)]  # 인접노드&거리 기록할 배열\n",
    "    print(adj)\n",
    "    for r in road:\n",
    "        adj[r[0]].append([r[2],r[1]])\n",
    "        adj[r[1]].append([r[2],r[0]])\n",
    "    print(adj)\n",
    "\n",
    "    dijkstra(dist,adj)\n",
    "    print(dist)\n",
    "    return len([i for i in dist if i <=K])"
   ]
  },
  {
   "cell_type": "code",
   "execution_count": 6,
   "id": "4df8b746",
   "metadata": {},
   "outputs": [
    {
     "name": "stdout",
     "output_type": "stream",
     "text": [
      "[inf, inf, inf, inf, inf, inf]\n",
      "[[], [], [], [], [], []]\n",
      "[[], [[1, 2], [2, 4]], [[1, 1], [3, 3], [2, 5]], [[3, 2], [1, 5]], [[2, 1], [2, 5]], [[2, 2], [1, 3], [2, 4]]]\n",
      "cost:0|node:1\n",
      "[[1, 2]]\n",
      "[[1, 2], [2, 4]]\n",
      "cost:1|node:2\n",
      "[[2, 4], [4, 3]]\n",
      "[[2, 4], [4, 3], [3, 5]]\n",
      "cost:2|node:4\n",
      "cost:3|node:5\n",
      "cost:4|node:3\n",
      "[inf, 0, 1, 4, 2, 3]\n"
     ]
    },
    {
     "data": {
      "text/plain": [
       "4"
      ]
     },
     "execution_count": 6,
     "metadata": {},
     "output_type": "execute_result"
    }
   ],
   "source": [
    "solution(5, [[1,2,1],[2,3,3],[5,2,2],[1,4,2],[5,3,1],[5,4,2]], 3)"
   ]
  },
  {
   "cell_type": "code",
   "execution_count": null,
   "id": "205e9d6e",
   "metadata": {},
   "outputs": [],
   "source": []
  }
 ],
 "metadata": {
  "kernelspec": {
   "display_name": "Python 3 (ipykernel)",
   "language": "python",
   "name": "python3"
  },
  "language_info": {
   "codemirror_mode": {
    "name": "ipython",
    "version": 3
   },
   "file_extension": ".py",
   "mimetype": "text/x-python",
   "name": "python",
   "nbconvert_exporter": "python",
   "pygments_lexer": "ipython3",
   "version": "3.10.6"
  }
 },
 "nbformat": 4,
 "nbformat_minor": 5
}
