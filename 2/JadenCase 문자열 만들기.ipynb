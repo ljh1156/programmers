{
 "cells": [
  {
   "cell_type": "code",
   "execution_count": 19,
   "id": "56149b6d",
   "metadata": {},
   "outputs": [],
   "source": [
    "def solution(s):\n",
    "    answer = ''\n",
    "    \n",
    "    ch_list = list(s)\n",
    "    ch_list[0] = ch_list[0].upper()\n",
    "    for i in range(1, len(ch_list)):\n",
    "        print(ch_list[i])\n",
    "        if ch_list[i - 1] == ' ':\n",
    "            ch_list[i] = ch_list[i].upper()\n",
    "        else:\n",
    "            ch_list[i] = ch_list[i].lower()\n",
    "    return ''.join(ch_list)\n",
    "        \n",
    "    \n",
    "    return answer"
   ]
  },
  {
   "cell_type": "code",
   "execution_count": 20,
   "id": "d9687608",
   "metadata": {},
   "outputs": [
    {
     "name": "stdout",
     "output_type": "stream",
     "text": [
      "o\n",
      "r\n",
      " \n",
      " \n",
      "t\n",
      "3\n",
      "3\n",
      "3\n",
      "h\n",
      "e\n",
      " \n",
      "l\n",
      "a\n",
      "s\n",
      "t\n",
      " \n",
      "w\n",
      "e\n",
      "e\n",
      "k\n"
     ]
    },
    {
     "data": {
      "text/plain": [
       "'For  T333he Last Week'"
      ]
     },
     "execution_count": 20,
     "metadata": {},
     "output_type": "execute_result"
    }
   ],
   "source": [
    "solution(\"for  t333he last week\")"
   ]
  },
  {
   "cell_type": "code",
   "execution_count": null,
   "id": "a01f18e7",
   "metadata": {},
   "outputs": [],
   "source": []
  }
 ],
 "metadata": {
  "kernelspec": {
   "display_name": "Python 3 (ipykernel)",
   "language": "python",
   "name": "python3"
  },
  "language_info": {
   "codemirror_mode": {
    "name": "ipython",
    "version": 3
   },
   "file_extension": ".py",
   "mimetype": "text/x-python",
   "name": "python",
   "nbconvert_exporter": "python",
   "pygments_lexer": "ipython3",
   "version": "3.10.6"
  }
 },
 "nbformat": 4,
 "nbformat_minor": 5
}
