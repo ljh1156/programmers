{
 "cells": [
  {
   "cell_type": "code",
   "execution_count": 12,
   "id": "5be4ecb1",
   "metadata": {},
   "outputs": [],
   "source": [
    "def solution(clothes):\n",
    "    answer = 0\n",
    "    \n",
    "    cloth_dic = {}\n",
    "    for cloth_name, cloth_type in clothes:\n",
    "        if cloth_type not in cloth_dic:\n",
    "            cloth_dic[cloth_type] = ['']\n",
    "        cloth_dic[cloth_type].append(cloth_name)\n",
    "    print(cloth_dic)\n",
    "    \n",
    "    answer = 1\n",
    "    for cloth_type in cloth_dic.keys():\n",
    "        answer *= len(cloth_dic[cloth_type])\n",
    "    \n",
    "    return answer - 1"
   ]
  },
  {
   "cell_type": "code",
   "execution_count": 14,
   "id": "2bf78e8f",
   "metadata": {},
   "outputs": [
    {
     "name": "stdout",
     "output_type": "stream",
     "text": [
      "{'face': ['', 'crow_mask', 'blue_sunglasses', 'smoky_makeup']}\n"
     ]
    },
    {
     "data": {
      "text/plain": [
       "3"
      ]
     },
     "execution_count": 14,
     "metadata": {},
     "output_type": "execute_result"
    }
   ],
   "source": [
    "solution([[\"crow_mask\", \"face\"], [\"blue_sunglasses\", \"face\"], [\"smoky_makeup\", \"face\"]])"
   ]
  },
  {
   "cell_type": "code",
   "execution_count": null,
   "id": "232d5db3",
   "metadata": {},
   "outputs": [],
   "source": []
  }
 ],
 "metadata": {
  "kernelspec": {
   "display_name": "Python 3 (ipykernel)",
   "language": "python",
   "name": "python3"
  },
  "language_info": {
   "codemirror_mode": {
    "name": "ipython",
    "version": 3
   },
   "file_extension": ".py",
   "mimetype": "text/x-python",
   "name": "python",
   "nbconvert_exporter": "python",
   "pygments_lexer": "ipython3",
   "version": "3.10.6"
  }
 },
 "nbformat": 4,
 "nbformat_minor": 5
}
