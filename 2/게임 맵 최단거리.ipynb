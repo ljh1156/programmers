{
 "cells": [
  {
   "cell_type": "code",
   "execution_count": 31,
   "id": "ed561cac",
   "metadata": {},
   "outputs": [],
   "source": [
    "def solution(maps):\n",
    "    answer = 0\n",
    "    \n",
    "    n = len(maps)\n",
    "    m = len(maps[0])\n",
    "    \n",
    "    def getNear(i, j, dist):\n",
    "        #print(\"{}:{}\".format(i, j))\n",
    "        near = []\n",
    "        if i > 0 and maps[i - 1][j] == 1:\n",
    "            near.append([i - 1, j])\n",
    "            maps[i - 1][j] = dist\n",
    "        if i < (n - 1) and maps[i + 1][j] == 1:\n",
    "            near.append([i + 1, j])\n",
    "            maps[i + 1][j] = dist\n",
    "        if j > 0 and maps[i][j - 1] == 1:\n",
    "            near.append([i, j - 1])\n",
    "            maps[i][j - 1] = dist\n",
    "        if j < (m - 1) and maps[i][j + 1] == 1:\n",
    "            near.append([i, j + 1])\n",
    "            maps[i][j + 1] = dist\n",
    "        return near\n",
    "    \n",
    "    \n",
    "        \n",
    "    dist = 1\n",
    "    near = getNear(0, 0, dist + 1)\n",
    "    maps[0][0] = -1\n",
    "    #print(near)\n",
    "    #dist = 1\n",
    "    while(1):\n",
    "        new_near = []\n",
    "        dist += 1\n",
    "        for i in range(len(near)):\n",
    "            #maps[near[i][0]][near[i][1]] = dist\n",
    "            new_near += getNear(near[i][0], near[i][1], dist + 1)\n",
    "        if [n - 1, m - 1] in near:\n",
    "            break\n",
    "        if new_near == []:\n",
    "            maps[n - 1][m - 1] = -1\n",
    "            break\n",
    "        near = new_near.copy()\n",
    "\n",
    "    return maps[n - 1][m - 1]    \n",
    "        \n",
    "    \n"
   ]
  },
  {
   "cell_type": "code",
   "execution_count": 33,
   "id": "36711dbf",
   "metadata": {},
   "outputs": [
    {
     "data": {
      "text/plain": [
       "11"
      ]
     },
     "execution_count": 33,
     "metadata": {},
     "output_type": "execute_result"
    }
   ],
   "source": [
    "solution([[1,0,1,1,1],[1,0,1,0,1],[1,0,1,1,1],[1,1,1,0,1],[0,0,0,0,1]])"
   ]
  },
  {
   "cell_type": "code",
   "execution_count": null,
   "id": "25f9ac90",
   "metadata": {},
   "outputs": [],
   "source": []
  },
  {
   "cell_type": "code",
   "execution_count": null,
   "id": "4f98bacf",
   "metadata": {},
   "outputs": [],
   "source": []
  }
 ],
 "metadata": {
  "kernelspec": {
   "display_name": "Python 3 (ipykernel)",
   "language": "python",
   "name": "python3"
  },
  "language_info": {
   "codemirror_mode": {
    "name": "ipython",
    "version": 3
   },
   "file_extension": ".py",
   "mimetype": "text/x-python",
   "name": "python",
   "nbconvert_exporter": "python",
   "pygments_lexer": "ipython3",
   "version": "3.10.6"
  }
 },
 "nbformat": 4,
 "nbformat_minor": 5
}
