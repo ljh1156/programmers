{
 "cells": [
  {
   "cell_type": "code",
   "execution_count": 32,
   "id": "61e542ca",
   "metadata": {},
   "outputs": [],
   "source": [
    "import heapq\n",
    "\n",
    "\n",
    "def getPlayTime(start_time, end_time):\n",
    "    time = 0\n",
    "    hour, minute = end_time.split(':')\n",
    "    time += int(hour) * 60\n",
    "    time += int(minute)\n",
    "    print(time)\n",
    "    hour, minute = start_time.split(':')\n",
    "    time -= int(hour) * 60\n",
    "    time -= int(minute)\n",
    "    print(time)\n",
    "    return time\n",
    "\n",
    "def getLongMusic(time, akbo):\n",
    "    ret = \"\"\n",
    "    music_len = len(akbo)\n",
    "    for i in range(time//music_len):\n",
    "        ret += akbo\n",
    "    ret += akbo[0:time%music_len]\n",
    "\n",
    "    return ret\n",
    "\n",
    "def replaceMusic(m):\n",
    "    m = m.replace(\"C#\", \"Z\")\n",
    "    m = m.replace(\"D#\", \"Y\")\n",
    "    m = m.replace(\"F#\", \"X\")\n",
    "    m = m.replace(\"G#\", \"V\")\n",
    "    m = m.replace(\"A#\", \"U\")\n",
    "    \n",
    "    return m\n",
    "\n",
    "            \n",
    "\n",
    "def solution(m, musicinfos):\n",
    "    answer = ''\n",
    "    \n",
    "    m = replaceMusic(m)\n",
    "    max_time = -1\n",
    "    match_title = ''\n",
    "    for musicinfo in musicinfos:\n",
    "        start_time, end_time, title, akbo = musicinfo.split(',')\n",
    "        #print(title)\n",
    "        play_time = getPlayTime(start_time, end_time)\n",
    "        long_akbo = getLongMusic(play_time, replaceMusic(akbo))\n",
    "        print(long_akbo)\n",
    "        if m in long_akbo and play_time > max_time:\n",
    "            match_title = title\n",
    "            max_time = play_time\n",
    "    \n",
    "    if match_title == '':\n",
    "        return \"(None)\"\n",
    "    \n",
    "    return match_title"
   ]
  },
  {
   "cell_type": "code",
   "execution_count": 33,
   "id": "dbee69e8",
   "metadata": {},
   "outputs": [
    {
     "name": "stdout",
     "output_type": "stream",
     "text": [
      "734\n",
      "14\n",
      "ZDEFGABZDEFGAB\n",
      "785\n",
      "5\n",
      "ABCDE\n"
     ]
    },
    {
     "data": {
      "text/plain": [
       "'WORLD'"
      ]
     },
     "execution_count": 33,
     "metadata": {},
     "output_type": "execute_result"
    }
   ],
   "source": [
    "solution(\"ABC\", [\"12:00,12:14,HELLO,C#DEFGAB\", \"13:00,13:05,WORLD,ABCDEF\"])"
   ]
  },
  {
   "cell_type": "code",
   "execution_count": null,
   "id": "4fea6261",
   "metadata": {},
   "outputs": [],
   "source": []
  }
 ],
 "metadata": {
  "kernelspec": {
   "display_name": "Python 3 (ipykernel)",
   "language": "python",
   "name": "python3"
  },
  "language_info": {
   "codemirror_mode": {
    "name": "ipython",
    "version": 3
   },
   "file_extension": ".py",
   "mimetype": "text/x-python",
   "name": "python",
   "nbconvert_exporter": "python",
   "pygments_lexer": "ipython3",
   "version": "3.10.6"
  }
 },
 "nbformat": 4,
 "nbformat_minor": 5
}
