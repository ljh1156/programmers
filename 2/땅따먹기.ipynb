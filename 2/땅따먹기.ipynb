{
 "cells": [
  {
   "cell_type": "code",
   "execution_count": 7,
   "id": "40ce7f5f",
   "metadata": {},
   "outputs": [],
   "source": [
    "def solution(land):\n",
    "    answer = 0\n",
    "\n",
    "    if len(land) == 1:\n",
    "        answer = max(land)\n",
    "        return answer\n",
    "    \n",
    "    for i in range(1, len(land)):\n",
    "        for j in range(4):\n",
    "            \n",
    "            bef = [0] * 4\n",
    "            for k in range(4):\n",
    "                if j!= k:\n",
    "                    bef[k] = land[i - 1][k]\n",
    "                    \n",
    "            land[i][j] += max(bef)\n",
    "            if land[i][j] > answer:\n",
    "                answer = land[i][j]\n",
    "                \n",
    "        \n",
    "\n",
    "    return answer"
   ]
  },
  {
   "cell_type": "code",
   "execution_count": 8,
   "id": "80b9a5a1",
   "metadata": {},
   "outputs": [
    {
     "name": "stdout",
     "output_type": "stream",
     "text": [
      "5\n",
      "[1, 2, 3, 5]\n",
      "[1, 2, 3, 5]\n",
      "[1, 2, 3, 5]\n",
      "6\n",
      "[1, 2, 3, 5]\n",
      "[1, 2, 3, 5]\n",
      "[1, 2, 3, 5]\n",
      "7\n",
      "[1, 2, 3, 5]\n",
      "[1, 2, 3, 5]\n",
      "[1, 2, 3, 5]\n",
      "8\n",
      "[1, 2, 3, 5]\n",
      "[1, 2, 3, 5]\n",
      "[1, 2, 3, 5]\n",
      "4\n",
      "[10, 11, 12, 11]\n",
      "[10, 11, 12, 11]\n",
      "[10, 11, 12, 11]\n",
      "3\n",
      "[10, 11, 12, 11]\n",
      "[10, 11, 12, 11]\n",
      "[10, 11, 12, 11]\n",
      "2\n",
      "[10, 11, 12, 11]\n",
      "[10, 11, 12, 11]\n",
      "[10, 11, 12, 11]\n",
      "1\n",
      "[10, 11, 12, 11]\n",
      "[10, 11, 12, 11]\n",
      "[10, 11, 12, 11]\n"
     ]
    },
    {
     "data": {
      "text/plain": [
       "16"
      ]
     },
     "execution_count": 8,
     "metadata": {},
     "output_type": "execute_result"
    }
   ],
   "source": [
    "solution([[1,2,3,5],[5,6,7,8],[4,3,2,1]])"
   ]
  },
  {
   "cell_type": "code",
   "execution_count": null,
   "id": "7334dee9",
   "metadata": {},
   "outputs": [],
   "source": []
  }
 ],
 "metadata": {
  "kernelspec": {
   "display_name": "Python 3 (ipykernel)",
   "language": "python",
   "name": "python3"
  },
  "language_info": {
   "codemirror_mode": {
    "name": "ipython",
    "version": 3
   },
   "file_extension": ".py",
   "mimetype": "text/x-python",
   "name": "python",
   "nbconvert_exporter": "python",
   "pygments_lexer": "ipython3",
   "version": "3.10.6"
  }
 },
 "nbformat": 4,
 "nbformat_minor": 5
}
