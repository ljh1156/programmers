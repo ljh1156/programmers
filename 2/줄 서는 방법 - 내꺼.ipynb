{
 "cells": [
  {
   "cell_type": "code",
   "execution_count": 140,
   "id": "ff43495b",
   "metadata": {},
   "outputs": [],
   "source": [
    "import math\n",
    "\n",
    "def solution(n, k):\n",
    "    answer = []\n",
    "    \n",
    "    def dfs(d, v, ans):\n",
    "        if d == n:\n",
    "            print(\"{}:{}\".format(v+1, ans))\n",
    "            return v + 1, ans\n",
    "        else:\n",
    "            d += 1\n",
    "            f = math.factorial(n - d)\n",
    "            print(f)\n",
    "            for j in range(1, n + 1):\n",
    "                if j in ans:\n",
    "                    continue\n",
    "                elif v + f < k:\n",
    "                    v += f\n",
    "                    #continue\n",
    "                else:\n",
    "                    ans.append(j)\n",
    "                    v, ans = dfs(d, v, ans)\n",
    "                    if v == k:\n",
    "                        return v, ans\n",
    "                    ans.pop()\n",
    "            return v, ans\n",
    "    \n",
    "    answer = []\n",
    "    total = 0\n",
    "    depth = 1\n",
    "    fact = math.factorial(n - depth)\n",
    "    print(fact)\n",
    "    for i in range(1, n + 1):\n",
    "        if total + fact < k:\n",
    "            total += fact\n",
    "            #continue\n",
    "        else:\n",
    "            answer.append(i)\n",
    "            total, answer = dfs(depth, total, answer)\n",
    "            if total == k:\n",
    "                break\n",
    "            answer.pop()\n",
    "    \n",
    "    return answer"
   ]
  },
  {
   "cell_type": "code",
   "execution_count": 141,
   "id": "68b6a668",
   "metadata": {},
   "outputs": [
    {
     "name": "stdout",
     "output_type": "stream",
     "text": [
      "362880\n",
      "40320\n",
      "5040\n",
      "720\n",
      "120\n",
      "24\n",
      "6\n",
      "2\n",
      "1\n",
      "1\n",
      "55:[1, 2, 3, 4, 5, 8, 7, 6, 9, 10]\n"
     ]
    },
    {
     "data": {
      "text/plain": [
       "[1, 2, 3, 4, 5, 8, 7, 6, 9, 10]"
      ]
     },
     "execution_count": 141,
     "metadata": {},
     "output_type": "execute_result"
    }
   ],
   "source": [
    "solution(10, 55)"
   ]
  },
  {
   "cell_type": "code",
   "execution_count": null,
   "id": "d7dd4108",
   "metadata": {},
   "outputs": [],
   "source": []
  },
  {
   "cell_type": "code",
   "execution_count": null,
   "id": "e31282f0",
   "metadata": {},
   "outputs": [],
   "source": []
  }
 ],
 "metadata": {
  "kernelspec": {
   "display_name": "Python 3 (ipykernel)",
   "language": "python",
   "name": "python3"
  },
  "language_info": {
   "codemirror_mode": {
    "name": "ipython",
    "version": 3
   },
   "file_extension": ".py",
   "mimetype": "text/x-python",
   "name": "python",
   "nbconvert_exporter": "python",
   "pygments_lexer": "ipython3",
   "version": "3.10.6"
  }
 },
 "nbformat": 4,
 "nbformat_minor": 5
}
