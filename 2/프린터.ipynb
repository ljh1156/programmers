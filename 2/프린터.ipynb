{
 "cells": [
  {
   "cell_type": "code",
   "execution_count": 18,
   "id": "cbf02b21",
   "metadata": {},
   "outputs": [],
   "source": [
    "def solution(priorities, location):\n",
    "    answer = 0\n",
    "    \n",
    "    queue = []\n",
    "    for i in range(len(priorities)):\n",
    "        queue.append([i, priorities[i]])\n",
    "    \n",
    "    count = 0\n",
    "    while(1):\n",
    "        print(queue)\n",
    "        prior_value = queue[0][1]\n",
    "        idx = 0\n",
    "        for j in range(1, len(queue)):\n",
    "            if prior_value < queue[j][1]:\n",
    "                idx = j\n",
    "                prior_value = queue[j][1]\n",
    "        if idx != 0:\n",
    "            queue.append(queue[0])\n",
    "            #doc = queue.pop(idx)\n",
    "            #if doc[0] == location:\n",
    "            #    return i + 1\n",
    "            queue.pop(0)\n",
    "        else:\n",
    "            count += 1\n",
    "            doc = queue.pop(0)\n",
    "            if doc[0] == location:\n",
    "                return count\n",
    "        if queue == []:\n",
    "            break\n",
    "            \n",
    "                \n",
    "    print(queue)\n",
    "    \n",
    "    \n",
    "    return answer"
   ]
  },
  {
   "cell_type": "code",
   "execution_count": 20,
   "id": "69c225e3",
   "metadata": {},
   "outputs": [
    {
     "name": "stdout",
     "output_type": "stream",
     "text": [
      "[[0, 2], [1, 1], [2, 3], [3, 2]]\n",
      "[[1, 1], [2, 3], [3, 2], [0, 2]]\n",
      "[[2, 3], [3, 2], [0, 2], [1, 1]]\n"
     ]
    },
    {
     "data": {
      "text/plain": [
       "1"
      ]
     },
     "execution_count": 20,
     "metadata": {},
     "output_type": "execute_result"
    }
   ],
   "source": [
    "solution([2, 1, 3, 2], 2)"
   ]
  },
  {
   "cell_type": "code",
   "execution_count": null,
   "id": "9f7fc534",
   "metadata": {},
   "outputs": [],
   "source": []
  }
 ],
 "metadata": {
  "kernelspec": {
   "display_name": "Python 3 (ipykernel)",
   "language": "python",
   "name": "python3"
  },
  "language_info": {
   "codemirror_mode": {
    "name": "ipython",
    "version": 3
   },
   "file_extension": ".py",
   "mimetype": "text/x-python",
   "name": "python",
   "nbconvert_exporter": "python",
   "pygments_lexer": "ipython3",
   "version": "3.10.6"
  }
 },
 "nbformat": 4,
 "nbformat_minor": 5
}
