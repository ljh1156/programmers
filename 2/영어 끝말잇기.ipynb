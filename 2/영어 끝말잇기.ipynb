{
 "cells": [
  {
   "cell_type": "code",
   "execution_count": 21,
   "id": "58dadc71",
   "metadata": {},
   "outputs": [],
   "source": [
    "def solution(n, words):\n",
    "    answer = []\n",
    "\n",
    "    call_count = [0] * n\n",
    "    call_dic = {}\n",
    "    cnt = 0\n",
    "    before = \"\"\n",
    "    user = 0\n",
    "    for i in range(len(words)):\n",
    "        call_count[cnt % n] += 1\n",
    "        if before == \"\" \\\n",
    "            or (words[i] not in call_dic and words[i][0] == words[i-1][-1]):\n",
    "            print(words[i])\n",
    "            before = words[i]\n",
    "            call_dic[words[i]] = 1\n",
    "        else:\n",
    "            user = cnt % n\n",
    "            break\n",
    "        cnt += 1\n",
    "    else:\n",
    "        return [0, 0]\n",
    "        \n",
    "    print(cnt)\n",
    "    \n",
    "    return [user + 1, max(call_count)]\n",
    "        \n"
   ]
  },
  {
   "cell_type": "code",
   "execution_count": 22,
   "id": "bcb185c8",
   "metadata": {},
   "outputs": [
    {
     "name": "stdout",
     "output_type": "stream",
     "text": [
      "hello\n",
      "observe\n",
      "effect\n",
      "take\n",
      "either\n",
      "recognize\n",
      "encourage\n",
      "ensure\n",
      "establish\n",
      "hang\n",
      "gather\n",
      "refer\n",
      "reference\n",
      "estimate\n",
      "executive\n"
     ]
    },
    {
     "data": {
      "text/plain": [
       "[0, 0]"
      ]
     },
     "execution_count": 22,
     "metadata": {},
     "output_type": "execute_result"
    }
   ],
   "source": [
    "solution(5, [\"hello\", \"observe\", \"effect\", \"take\", \"either\", \"recognize\", \"encourage\", \"ensure\", \"establish\", \"hang\", \"gather\", \"refer\", \"reference\", \"estimate\", \"executive\"])"
   ]
  },
  {
   "cell_type": "code",
   "execution_count": null,
   "id": "6d6c99a4",
   "metadata": {},
   "outputs": [],
   "source": []
  }
 ],
 "metadata": {
  "kernelspec": {
   "display_name": "Python 3 (ipykernel)",
   "language": "python",
   "name": "python3"
  },
  "language_info": {
   "codemirror_mode": {
    "name": "ipython",
    "version": 3
   },
   "file_extension": ".py",
   "mimetype": "text/x-python",
   "name": "python",
   "nbconvert_exporter": "python",
   "pygments_lexer": "ipython3",
   "version": "3.10.6"
  }
 },
 "nbformat": 4,
 "nbformat_minor": 5
}
