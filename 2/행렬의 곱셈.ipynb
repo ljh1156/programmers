{
 "cells": [
  {
   "cell_type": "code",
   "execution_count": 33,
   "id": "a7925473",
   "metadata": {},
   "outputs": [],
   "source": [
    "def solution(arr1, arr2):\n",
    "    answer = []\n",
    "    \n",
    "    m = len(arr1)\n",
    "    n = len(arr1[0])\n",
    "    r = len(arr2[0])\n",
    "    \n",
    "    for i in range(0, m):\n",
    "        col = [0] * r\n",
    "        x = arr1[i]\n",
    "        for j in range(0, r):\n",
    "            for k in range(0, n):\n",
    "                #print(\"{}:{}\".format(arr1[i][k], arr2[k][j]))\n",
    "                col[j] += arr1[i][k] * arr2[k][j]\n",
    "            #print(col)\n",
    "       #print(col)\n",
    "        answer.append(col)\n",
    "            \n",
    "        \n",
    "    \n",
    "    #1 4 \n",
    "    #3 2\n",
    "    #4 1\n",
    "    \n",
    "    #3 3\n",
    "    #3 3\n",
    "    \n",
    "    return answer\n"
   ]
  },
  {
   "cell_type": "code",
   "execution_count": 34,
   "id": "9fb77fb6",
   "metadata": {},
   "outputs": [
    {
     "name": "stdout",
     "output_type": "stream",
     "text": [
      "1:3\n",
      "4:3\n",
      "[15, 0]\n",
      "1:3\n",
      "4:3\n",
      "[15, 15]\n",
      "[15, 15]\n",
      "3:3\n",
      "2:3\n",
      "[15, 0]\n",
      "3:3\n",
      "2:3\n",
      "[15, 15]\n",
      "[15, 15]\n",
      "4:3\n",
      "1:3\n",
      "[15, 0]\n",
      "4:3\n",
      "1:3\n",
      "[15, 15]\n",
      "[15, 15]\n"
     ]
    },
    {
     "data": {
      "text/plain": [
       "[[15, 15], [15, 15], [15, 15]]"
      ]
     },
     "execution_count": 34,
     "metadata": {},
     "output_type": "execute_result"
    }
   ],
   "source": [
    "solution([[1, 4], [3, 2], [4, 1]], [[3, 3], [3, 3]])"
   ]
  },
  {
   "cell_type": "code",
   "execution_count": null,
   "id": "87328bc9",
   "metadata": {},
   "outputs": [],
   "source": []
  },
  {
   "cell_type": "code",
   "execution_count": null,
   "id": "fc43cc5c",
   "metadata": {},
   "outputs": [],
   "source": []
  }
 ],
 "metadata": {
  "kernelspec": {
   "display_name": "Python 3 (ipykernel)",
   "language": "python",
   "name": "python3"
  },
  "language_info": {
   "codemirror_mode": {
    "name": "ipython",
    "version": 3
   },
   "file_extension": ".py",
   "mimetype": "text/x-python",
   "name": "python",
   "nbconvert_exporter": "python",
   "pygments_lexer": "ipython3",
   "version": "3.10.6"
  }
 },
 "nbformat": 4,
 "nbformat_minor": 5
}
