{
 "cells": [
  {
   "cell_type": "code",
   "execution_count": 29,
   "id": "1d1d49df",
   "metadata": {},
   "outputs": [],
   "source": [
    "import math\n",
    "\n",
    "def getSize(n):\n",
    "    ret = []\n",
    "    for i in range(3, int(math.sqrt(n)) + 1):\n",
    "        if n % i == 0:\n",
    "            ret.append([n//i, i])\n",
    "    return ret\n",
    "\n",
    "def solution(brown, yellow):\n",
    "    answer = []\n",
    "    \n",
    "    size_list = getSize(brown + yellow)\n",
    "    print(size_list)\n",
    "    \n",
    "    \n",
    "    for x, y in size_list:\n",
    "        brown_count = y * 2 + 2 * (x - 2)\n",
    "        print(brown_count)\n",
    "        if brown_count == brown:\n",
    "            return [x, y]\n",
    "        \n",
    "  "
   ]
  },
  {
   "cell_type": "code",
   "execution_count": 30,
   "id": "28354d35",
   "metadata": {},
   "outputs": [
    {
     "name": "stdout",
     "output_type": "stream",
     "text": [
      "[[16, 3], [12, 4], [8, 6]]\n",
      "34\n",
      "28\n",
      "24\n"
     ]
    },
    {
     "data": {
      "text/plain": [
       "[8, 6]"
      ]
     },
     "execution_count": 30,
     "metadata": {},
     "output_type": "execute_result"
    }
   ],
   "source": [
    "solution(24, 24)"
   ]
  },
  {
   "cell_type": "code",
   "execution_count": null,
   "id": "4dbae4fc",
   "metadata": {},
   "outputs": [],
   "source": []
  }
 ],
 "metadata": {
  "kernelspec": {
   "display_name": "Python 3 (ipykernel)",
   "language": "python",
   "name": "python3"
  },
  "language_info": {
   "codemirror_mode": {
    "name": "ipython",
    "version": 3
   },
   "file_extension": ".py",
   "mimetype": "text/x-python",
   "name": "python",
   "nbconvert_exporter": "python",
   "pygments_lexer": "ipython3",
   "version": "3.10.6"
  }
 },
 "nbformat": 4,
 "nbformat_minor": 5
}
