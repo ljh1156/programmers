{
 "cells": [
  {
   "cell_type": "code",
   "execution_count": 78,
   "id": "67e8e4be",
   "metadata": {},
   "outputs": [],
   "source": [
    "def solution(msg):\n",
    "    answer = []\n",
    "    \n",
    "    word_dic = {}\n",
    "    dic_idx = 0\n",
    "    for i in range(ord('A'), ord('Z') + 1):\n",
    "        dic_idx += 1\n",
    "        c = chr(i)\n",
    "        word_dic[c] = dic_idx\n",
    "    #print(word_dic)\n",
    "    \n",
    "    while(msg):\n",
    "        for i in range(len(msg), 0, -1):\n",
    "            #print(i)\n",
    "            #print(msg[0:i])\n",
    "            if msg[0:i] in word_dic:\n",
    "                w = msg[0:i]\n",
    "                break\n",
    "        #print(w)\n",
    "        msg = msg.replace(w, '', 1)\n",
    "        #print(msg)   \n",
    "        answer.append(word_dic[w])\n",
    "        if msg == '':\n",
    "            break\n",
    "        dic_idx += 1\n",
    "        #print(w + msg[0])\n",
    "        word_dic[w + msg[0]] = dic_idx\n",
    "        \n",
    "    return answer\n",
    "    "
   ]
  },
  {
   "cell_type": "code",
   "execution_count": 79,
   "id": "8411d19f",
   "metadata": {},
   "outputs": [
    {
     "data": {
      "text/plain": [
       "[11, 1, 27, 15]"
      ]
     },
     "execution_count": 79,
     "metadata": {},
     "output_type": "execute_result"
    }
   ],
   "source": [
    "solution(\"KAKAO\")"
   ]
  },
  {
   "cell_type": "code",
   "execution_count": null,
   "id": "715de74d",
   "metadata": {},
   "outputs": [],
   "source": []
  }
 ],
 "metadata": {
  "kernelspec": {
   "display_name": "Python 3 (ipykernel)",
   "language": "python",
   "name": "python3"
  },
  "language_info": {
   "codemirror_mode": {
    "name": "ipython",
    "version": 3
   },
   "file_extension": ".py",
   "mimetype": "text/x-python",
   "name": "python",
   "nbconvert_exporter": "python",
   "pygments_lexer": "ipython3",
   "version": "3.10.6"
  }
 },
 "nbformat": 4,
 "nbformat_minor": 5
}
