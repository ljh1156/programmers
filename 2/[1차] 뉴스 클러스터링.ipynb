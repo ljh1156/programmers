{
 "cells": [
  {
   "cell_type": "code",
   "execution_count": 40,
   "id": "9ad2ef73",
   "metadata": {},
   "outputs": [],
   "source": [
    "def jacard(A, B):\n",
    "    print(\"{}:{}\".format(A, B))\n",
    "    inter = 0\n",
    "    union = 0\n",
    "    for a in A:\n",
    "        print(a)\n",
    "        if a in B:\n",
    "            print(\"inter\")\n",
    "            inter += 1\n",
    "            B.remove(a)\n",
    "        union += 1\n",
    "    union += len(B)\n",
    "    try:\n",
    "        return inter / union\n",
    "    except:\n",
    "        return 1\n",
    "\n",
    "def makeList(st):\n",
    "    st = st.lower()\n",
    "    ret = []\n",
    "    for i in range(1, len(st)):\n",
    "        s = st[i-1:i+1]\n",
    "        if s.isalpha():\n",
    "            #print(\"{}:{}\".format(s, s.isalpha()))\n",
    "            ret.append(s)\n",
    "        \n",
    "    return ret\n",
    "\n",
    "def solution(str1, str2):\n",
    "    answer = 0\n",
    "    \n",
    "    return int(jacard(makeList(str1), makeList(str2)) * 65536)\n",
    "    \n"
   ]
  },
  {
   "cell_type": "code",
   "execution_count": 41,
   "id": "269ddf59",
   "metadata": {},
   "outputs": [
    {
     "name": "stdout",
     "output_type": "stream",
     "text": [
      "['ha', 'an', 'nd', 'ds', 'sh', 'ha', 'ak', 'ke']:['sh', 'ha', 'ak', 'ke', 'ha', 'an', 'nd', 'ds']\n",
      "ha\n",
      "inter\n",
      "an\n",
      "inter\n",
      "nd\n",
      "inter\n",
      "ds\n",
      "inter\n",
      "sh\n",
      "inter\n",
      "ha\n",
      "inter\n",
      "ak\n",
      "inter\n",
      "ke\n",
      "inter\n"
     ]
    },
    {
     "data": {
      "text/plain": [
       "65536"
      ]
     },
     "execution_count": 41,
     "metadata": {},
     "output_type": "execute_result"
    }
   ],
   "source": [
    "solution(\"handshake\", \"shake hands\")"
   ]
  },
  {
   "cell_type": "code",
   "execution_count": null,
   "id": "5b22ee9d",
   "metadata": {},
   "outputs": [],
   "source": []
  },
  {
   "cell_type": "code",
   "execution_count": null,
   "id": "8f2ef486",
   "metadata": {},
   "outputs": [],
   "source": []
  }
 ],
 "metadata": {
  "kernelspec": {
   "display_name": "Python 3 (ipykernel)",
   "language": "python",
   "name": "python3"
  },
  "language_info": {
   "codemirror_mode": {
    "name": "ipython",
    "version": 3
   },
   "file_extension": ".py",
   "mimetype": "text/x-python",
   "name": "python",
   "nbconvert_exporter": "python",
   "pygments_lexer": "ipython3",
   "version": "3.10.6"
  }
 },
 "nbformat": 4,
 "nbformat_minor": 5
}
