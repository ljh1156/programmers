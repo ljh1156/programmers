{
 "cells": [
  {
   "cell_type": "code",
   "execution_count": 91,
   "id": "a886fb4b",
   "metadata": {},
   "outputs": [],
   "source": [
    "def getTransNum(n, num):\n",
    "    ret = ''\n",
    "    \n",
    "    if num == 0:\n",
    "        return '0'\n",
    "    \n",
    "    while(num > 0):\n",
    "        c = str(num % n)\n",
    "        if c == '10':\n",
    "            c = 'A'\n",
    "        elif c == '11':\n",
    "            c = 'B'\n",
    "        elif c == '12':\n",
    "            c = 'C'\n",
    "        elif c == '13':\n",
    "            c = 'D'\n",
    "        elif c == '14':\n",
    "            c = 'E'\n",
    "        elif c == '15':\n",
    "            c = 'F'\n",
    "        ret = c + ret\n",
    "        num = num // n\n",
    "    return ret\n",
    "\n",
    "\n",
    "def solution(n, t, m, p):\n",
    "    answer = ''\n",
    "    \n",
    "    now = 0\n",
    "    idx = 0\n",
    "    #0 1 2 3 4 5\n",
    "    #0 1 2 3 4 5 6 7 8 9 0 \n",
    "    #    t     t  \n",
    "    count = 0\n",
    "    # 1 3 5 7 9 11 \n",
    "    now = 0\n",
    "    while(t):\n",
    "        #print(\"{}:{}\".format(now, p))\n",
    "        #print(\"count:{}\".format(count))\n",
    "        num = getTransNum(n, count)\n",
    "        #print(\"num:{}\".format(num))\n",
    "        if now + len(num) >= p:\n",
    "            ##tube\n",
    "            answer += num[p - now - 1]\n",
    "            #print(\"answer:{}\".format(answer))\n",
    "            p += m\n",
    "        #else:\n",
    "        now += len(num)\n",
    "        \n",
    "        if len(answer) == t:\n",
    "            break\n",
    "        count += 1\n",
    "        #t -= len(num)\n",
    "        #print(num)\n",
    "        #now += 1\n",
    "        # -= 1\n",
    "    #print(t, num)\n",
    "    \n",
    "    return answer"
   ]
  },
  {
   "cell_type": "code",
   "execution_count": 92,
   "id": "f5be45af",
   "metadata": {},
   "outputs": [
    {
     "data": {
      "text/plain": [
       "'13579BDF01234567'"
      ]
     },
     "execution_count": 92,
     "metadata": {},
     "output_type": "execute_result"
    }
   ],
   "source": [
    "solution(16, 16, 2, 2)"
   ]
  },
  {
   "cell_type": "code",
   "execution_count": null,
   "id": "548cdf76",
   "metadata": {},
   "outputs": [],
   "source": []
  }
 ],
 "metadata": {
  "kernelspec": {
   "display_name": "Python 3 (ipykernel)",
   "language": "python",
   "name": "python3"
  },
  "language_info": {
   "codemirror_mode": {
    "name": "ipython",
    "version": 3
   },
   "file_extension": ".py",
   "mimetype": "text/x-python",
   "name": "python",
   "nbconvert_exporter": "python",
   "pygments_lexer": "ipython3",
   "version": "3.10.6"
  }
 },
 "nbformat": 4,
 "nbformat_minor": 5
}
