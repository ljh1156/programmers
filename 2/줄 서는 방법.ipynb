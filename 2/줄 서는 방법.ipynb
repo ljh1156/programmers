{
 "cells": [
  {
   "cell_type": "code",
   "execution_count": 19,
   "id": "ce3fcb93",
   "metadata": {},
   "outputs": [],
   "source": [
    "import math\n",
    "\n",
    "def solution(n, k):\n",
    "    lst = [x for x in range(1, n+1)]\n",
    "    answer = []\n",
    "    k -= 1\n",
    "    \n",
    "    for i in range(n, 0, -1):\n",
    "        max_num = math.factorial(n)\n",
    "        print(max_num)\n",
    "        loop_num = int(max_num / n)\n",
    "        print(loop_num)\n",
    "        answer.append(lst[int(k / split_num)])\n",
    "        print(answer)\n",
    "        lst.pop(int(k / split_num))\n",
    "        k %= split_num\n",
    "        n -= 1\n",
    "    return answer"
   ]
  },
  {
   "cell_type": "code",
   "execution_count": 21,
   "id": "bfc81343",
   "metadata": {},
   "outputs": [
    {
     "name": "stdout",
     "output_type": "stream",
     "text": [
      "24\n",
      "6\n",
      "[3]\n",
      "6\n",
      "2\n",
      "[3, 2]\n",
      "2\n",
      "1\n",
      "[3, 2, 1]\n",
      "1\n",
      "1\n",
      "[3, 2, 1, 4]\n"
     ]
    },
    {
     "data": {
      "text/plain": [
       "[3, 2, 1, 4]"
      ]
     },
     "execution_count": 21,
     "metadata": {},
     "output_type": "execute_result"
    }
   ],
   "source": [
    "solution(4, 15)"
   ]
  },
  {
   "cell_type": "code",
   "execution_count": null,
   "id": "6d1ea8aa",
   "metadata": {},
   "outputs": [],
   "source": []
  }
 ],
 "metadata": {
  "kernelspec": {
   "display_name": "Python 3 (ipykernel)",
   "language": "python",
   "name": "python3"
  },
  "language_info": {
   "codemirror_mode": {
    "name": "ipython",
    "version": 3
   },
   "file_extension": ".py",
   "mimetype": "text/x-python",
   "name": "python",
   "nbconvert_exporter": "python",
   "pygments_lexer": "ipython3",
   "version": "3.10.6"
  }
 },
 "nbformat": 4,
 "nbformat_minor": 5
}
