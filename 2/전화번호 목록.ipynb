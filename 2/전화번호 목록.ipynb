{
 "cells": [
  {
   "cell_type": "code",
   "execution_count": 34,
   "id": "03f809de",
   "metadata": {},
   "outputs": [],
   "source": [
    "def solution(phone_book):\n",
    "    answer = True\n",
    "    \n",
    "    phone_dic = {}\n",
    "    phone_book = sorted(phone_book, key=len, reverse=True)\n",
    "    print(phone_book)\n",
    "    for phone_num in phone_book:\n",
    "        if phone_num in phone_dic:\n",
    "            return False\n",
    "        for i in range(len(phone_num)):\n",
    "            #print(phone_num[0:i + 1])\n",
    "            phone_dic[phone_num[0:i + 1]] = 1\n",
    "        \n",
    "    return True\n",
    "    \n",
    "    \n",
    "    for i in range(0, len(phone_book) - 1):\n",
    "        for j in range(i+1, len(phone_book)):\n",
    "            print(phone_book[i])\n",
    "            print(phone_book[j])\n",
    "            if phone_book[i].startswith(phone_book[j])\\\n",
    "                or phone_book[j].startswith(phone_book[i]):\n",
    "                print(phone_book[i])\n",
    "                print(phone_book[j])\n",
    "                return False\n",
    "                \n",
    "    return answer"
   ]
  },
  {
   "cell_type": "code",
   "execution_count": 35,
   "id": "f0f199fb",
   "metadata": {},
   "outputs": [
    {
     "name": "stdout",
     "output_type": "stream",
     "text": [
      "['1195524421', '97674223', '119']\n"
     ]
    },
    {
     "data": {
      "text/plain": [
       "False"
      ]
     },
     "execution_count": 35,
     "metadata": {},
     "output_type": "execute_result"
    }
   ],
   "source": [
    "solution([\"119\", \"97674223\", \"1195524421\"])"
   ]
  },
  {
   "cell_type": "code",
   "execution_count": null,
   "id": "60504429",
   "metadata": {},
   "outputs": [],
   "source": []
  },
  {
   "cell_type": "code",
   "execution_count": null,
   "id": "5cbbde60",
   "metadata": {},
   "outputs": [],
   "source": []
  }
 ],
 "metadata": {
  "kernelspec": {
   "display_name": "Python 3 (ipykernel)",
   "language": "python",
   "name": "python3"
  },
  "language_info": {
   "codemirror_mode": {
    "name": "ipython",
    "version": 3
   },
   "file_extension": ".py",
   "mimetype": "text/x-python",
   "name": "python",
   "nbconvert_exporter": "python",
   "pygments_lexer": "ipython3",
   "version": "3.10.6"
  }
 },
 "nbformat": 4,
 "nbformat_minor": 5
}
