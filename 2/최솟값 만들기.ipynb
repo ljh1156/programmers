{
 "cells": [
  {
   "cell_type": "code",
   "execution_count": 11,
   "id": "7cc4d02a",
   "metadata": {},
   "outputs": [],
   "source": [
    "def solution(A,B):\n",
    "    answer = 0\n",
    "\n",
    "    greed = 0\n",
    "    A = sorted(A)\n",
    "    B = sorted(B, reverse=True)\n",
    "    for i in range(len(A)):\n",
    "        low = A.pop(0)\n",
    "        high = B.pop(0)\n",
    "        print(\"{}:{}\".format(low, high))\n",
    "        greed += low * high\n",
    "        #A.remove(low)\n",
    "        #B.remove(high)\n",
    "    print(greed)\n",
    "\n",
    "    return greed"
   ]
  },
  {
   "cell_type": "code",
   "execution_count": 12,
   "id": "07a274d0",
   "metadata": {},
   "outputs": [
    {
     "name": "stdout",
     "output_type": "stream",
     "text": [
      "1:5\n",
      "2:4\n",
      "4:4\n",
      "29\n"
     ]
    },
    {
     "data": {
      "text/plain": [
       "0"
      ]
     },
     "execution_count": 12,
     "metadata": {},
     "output_type": "execute_result"
    }
   ],
   "source": [
    "solution([1, 4, 2], [5, 4, 4])"
   ]
  },
  {
   "cell_type": "code",
   "execution_count": null,
   "id": "6ecca13d",
   "metadata": {},
   "outputs": [],
   "source": []
  }
 ],
 "metadata": {
  "kernelspec": {
   "display_name": "Python 3 (ipykernel)",
   "language": "python",
   "name": "python3"
  },
  "language_info": {
   "codemirror_mode": {
    "name": "ipython",
    "version": 3
   },
   "file_extension": ".py",
   "mimetype": "text/x-python",
   "name": "python",
   "nbconvert_exporter": "python",
   "pygments_lexer": "ipython3",
   "version": "3.10.6"
  }
 },
 "nbformat": 4,
 "nbformat_minor": 5
}
