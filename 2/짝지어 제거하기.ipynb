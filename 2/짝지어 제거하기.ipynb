{
 "cells": [
  {
   "cell_type": "code",
   "execution_count": 34,
   "id": "932491ce",
   "metadata": {},
   "outputs": [],
   "source": [
    "def solution(s):\n",
    "    answer = -1\n",
    "\n",
    "    tokens = list(s)\n",
    "    stack = []\n",
    "    for i in range(0, len(tokens)):\n",
    "        if len(stack) > 0 and tokens[i] == stack[-1]:\n",
    "            stack.pop()\n",
    "        elif len(stack) == 0:\n",
    "            stack.append(tokens[i])\n",
    "        elif tokens[i] != stack[-1]:\n",
    "            stack.append(tokens[i])\n",
    "            \n",
    "    print(stack)\n",
    "        \n",
    "    if len(stack) == 0:\n",
    "        return 1\n",
    "    return 0\n",
    "    "
   ]
  },
  {
   "cell_type": "code",
   "execution_count": 35,
   "id": "fb59d508",
   "metadata": {},
   "outputs": [
    {
     "name": "stdout",
     "output_type": "stream",
     "text": [
      "[]\n"
     ]
    },
    {
     "data": {
      "text/plain": [
       "1"
      ]
     },
     "execution_count": 35,
     "metadata": {},
     "output_type": "execute_result"
    }
   ],
   "source": [
    "solution(\"baabaa\")"
   ]
  },
  {
   "cell_type": "code",
   "execution_count": null,
   "id": "df7e7c37",
   "metadata": {},
   "outputs": [],
   "source": []
  },
  {
   "cell_type": "code",
   "execution_count": null,
   "id": "0a010856",
   "metadata": {},
   "outputs": [],
   "source": []
  }
 ],
 "metadata": {
  "kernelspec": {
   "display_name": "Python 3 (ipykernel)",
   "language": "python",
   "name": "python3"
  },
  "language_info": {
   "codemirror_mode": {
    "name": "ipython",
    "version": 3
   },
   "file_extension": ".py",
   "mimetype": "text/x-python",
   "name": "python",
   "nbconvert_exporter": "python",
   "pygments_lexer": "ipython3",
   "version": "3.10.6"
  }
 },
 "nbformat": 4,
 "nbformat_minor": 5
}
