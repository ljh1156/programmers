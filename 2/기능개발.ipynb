{
 "cells": [
  {
   "cell_type": "code",
   "execution_count": 29,
   "id": "b8be7b77",
   "metadata": {},
   "outputs": [],
   "source": [
    "def solution(progresses, speeds):\n",
    "    answer = []\n",
    "    \n",
    "    while(1):\n",
    "        print(progresses)\n",
    "        if progresses == []:\n",
    "            break\n",
    "        for i in range(len(progresses)):\n",
    "            progresses[i] += speeds[i]\n",
    "        #print(progresses)\n",
    "            \n",
    "        idx = -1\n",
    "        for i in range(len(progresses)):\n",
    "            if progresses[i] < 100:\n",
    "                idx = i - 1\n",
    "                break\n",
    "        else:\n",
    "            answer.append(len(progresses))\n",
    "            break\n",
    "                \n",
    "        print(idx)\n",
    "        if idx >= 0:\n",
    "            answer.append(idx + 1)\n",
    "            for i in range(idx + 1):\n",
    "                progresses.pop(0)\n",
    "                speeds.pop(0)\n",
    "        #break\n",
    "            \n",
    "        \n",
    "        \n",
    "    \n",
    "    \n",
    "    return answer"
   ]
  },
  {
   "cell_type": "code",
   "execution_count": 30,
   "id": "9b59c310",
   "metadata": {},
   "outputs": [
    {
     "name": "stdout",
     "output_type": "stream",
     "text": [
      "[95, 90, 99, 99, 80, 99]\n",
      "-1\n",
      "[96, 91, 100, 100, 81, 100]\n",
      "-1\n",
      "[97, 92, 101, 101, 82, 101]\n",
      "-1\n",
      "[98, 93, 102, 102, 83, 102]\n",
      "-1\n",
      "[99, 94, 103, 103, 84, 103]\n",
      "0\n",
      "[95, 104, 104, 85, 104]\n",
      "-1\n",
      "[96, 105, 105, 86, 105]\n",
      "-1\n",
      "[97, 106, 106, 87, 106]\n",
      "-1\n",
      "[98, 107, 107, 88, 107]\n",
      "-1\n",
      "[99, 108, 108, 89, 108]\n",
      "2\n",
      "[90, 109]\n",
      "-1\n",
      "[91, 110]\n",
      "-1\n",
      "[92, 111]\n",
      "-1\n",
      "[93, 112]\n",
      "-1\n",
      "[94, 113]\n",
      "-1\n",
      "[95, 114]\n",
      "-1\n",
      "[96, 115]\n",
      "-1\n",
      "[97, 116]\n",
      "-1\n",
      "[98, 117]\n",
      "-1\n",
      "[99, 118]\n"
     ]
    },
    {
     "data": {
      "text/plain": [
       "[1, 3, 2]"
      ]
     },
     "execution_count": 30,
     "metadata": {},
     "output_type": "execute_result"
    }
   ],
   "source": [
    "solution([95, 90, 99, 99, 80, 99], [1, 1, 1, 1, 1, 1])"
   ]
  },
  {
   "cell_type": "code",
   "execution_count": null,
   "id": "8fbda77e",
   "metadata": {},
   "outputs": [],
   "source": []
  }
 ],
 "metadata": {
  "kernelspec": {
   "display_name": "Python 3 (ipykernel)",
   "language": "python",
   "name": "python3"
  },
  "language_info": {
   "codemirror_mode": {
    "name": "ipython",
    "version": 3
   },
   "file_extension": ".py",
   "mimetype": "text/x-python",
   "name": "python",
   "nbconvert_exporter": "python",
   "pygments_lexer": "ipython3",
   "version": "3.10.6"
  }
 },
 "nbformat": 4,
 "nbformat_minor": 5
}
