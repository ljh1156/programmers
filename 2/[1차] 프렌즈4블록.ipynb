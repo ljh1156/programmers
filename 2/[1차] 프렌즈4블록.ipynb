{
 "cells": [
  {
   "cell_type": "code",
   "execution_count": 74,
   "id": "c5fe44e1",
   "metadata": {},
   "outputs": [],
   "source": [
    "import copy\n",
    "\n",
    "def isDel(i, j, board):\n",
    "    #print(board[i][j])\n",
    "    if board[i][j].isalpha() and board[i][j] == board[i][j].upper() \\\n",
    "        and board[i][j] == board[i+1][j]\\\n",
    "        and board[i][j] == board[i][j+1]\\\n",
    "        and board[i][j] == board[i+1][j+1]:\n",
    "        return True\n",
    "    return False\n",
    "    \n",
    "\n",
    "    # CCBDE\n",
    "    # AAADE\n",
    "    # AAABF\n",
    "    # CCBBF\n",
    "    \n",
    "def blockDown(i, j, board):\n",
    "    #print(\"blockDown:{}:{}\".format(i, j))\n",
    "    tmp = []\n",
    "    for k in range(i, -1, -1):\n",
    "        tmp.append(board[k][j])\n",
    "    #print(tmp)\n",
    "    tmp = [x for x in tmp if x != '0']\n",
    "    #print(tmp)\n",
    "    for k in range(i, -1, -1):\n",
    "        if tmp:\n",
    "            #print(\"replace:{}:{}:{}\".format(k, j, tmp[0]))\n",
    "            board[k][j] = tmp[0]\n",
    "            tmp.pop(0)\n",
    "        else:\n",
    "            board[k][j] = '0'\n",
    "    #print(board)\n",
    "    \n",
    "    return board\n",
    "    \n",
    "\n",
    "def solution(m, n, board):\n",
    "    answer = 0\n",
    "    \n",
    "    for i in range(m):\n",
    "        board[i] = list(board[i])\n",
    "\n",
    "    while(1):\n",
    "        deleted = []\n",
    "        for i in range(m - 1):\n",
    "            for j in range(n - 1):\n",
    "                if isDel(i, j, board):\n",
    "                    #print(\"Del:{}:{}\".format(i, j))\n",
    "                    deleted.append([i, j])\n",
    "                    deleted.append([i+1, j])\n",
    "                    deleted.append([i, j+1])\n",
    "                    deleted.append([i+1, j+1])\n",
    "        if deleted == []:\n",
    "            break\n",
    "                    \n",
    "        for i, j in deleted:\n",
    "            if board[i][j] != '0':\n",
    "                board[i][j] = '0'\n",
    "                answer += 1\n",
    "            #print(i, j)\n",
    "        #print(board)\n",
    "        \n",
    "        for i in range(m - 1, 0, -1):\n",
    "            for j in range(n):\n",
    "                if board[i][j] == '0':\n",
    "                    board = blockDown(i, j, board)\n",
    "\n",
    "        #print(board)\n",
    "            \n",
    "        \n",
    "    return answer"
   ]
  },
  {
   "cell_type": "code",
   "execution_count": 75,
   "id": "fa099343",
   "metadata": {},
   "outputs": [
    {
     "data": {
      "text/plain": [
       "14"
      ]
     },
     "execution_count": 75,
     "metadata": {},
     "output_type": "execute_result"
    }
   ],
   "source": [
    "solution(4, 5, [\"CCBDE\", \"AAADE\", \"AAABF\", \"CCBBF\"])"
   ]
  },
  {
   "cell_type": "code",
   "execution_count": null,
   "id": "248240f1",
   "metadata": {},
   "outputs": [],
   "source": []
  },
  {
   "cell_type": "code",
   "execution_count": null,
   "id": "fe91980b",
   "metadata": {},
   "outputs": [],
   "source": []
  }
 ],
 "metadata": {
  "kernelspec": {
   "display_name": "Python 3 (ipykernel)",
   "language": "python",
   "name": "python3"
  },
  "language_info": {
   "codemirror_mode": {
    "name": "ipython",
    "version": 3
   },
   "file_extension": ".py",
   "mimetype": "text/x-python",
   "name": "python",
   "nbconvert_exporter": "python",
   "pygments_lexer": "ipython3",
   "version": "3.10.6"
  }
 },
 "nbformat": 4,
 "nbformat_minor": 5
}
