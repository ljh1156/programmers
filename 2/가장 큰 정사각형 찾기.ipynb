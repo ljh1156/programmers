{
 "cells": [
  {
   "cell_type": "code",
   "execution_count": 17,
   "id": "b66c306f",
   "metadata": {},
   "outputs": [],
   "source": [
    "def solution(board):\n",
    "    answer = 1234\n",
    "\n",
    "    row = len(board)\n",
    "    column = len(board[0])\n",
    "    if row == 1 or column == 1:\n",
    "        for i in range(0, row):\n",
    "            for j in range(0, column):\n",
    "                if board[i][j] == 1:\n",
    "                    return 1\n",
    "        return 0\n",
    "        \n",
    "#        return\n",
    "    \n",
    "    m = 0\n",
    "    for i in range(1, row):\n",
    "        for j in range(1, column):\n",
    "            if board[i][j]:\n",
    "                v = min([board[i - 1][j - 1], board[i - 1][j], board[i][j-1]])\n",
    "                board[i][j] = v + 1\n",
    "                if m < board[i][j]:\n",
    "                    m = board[i][j]\n",
    "    \n",
    "    return m*m\n",
    "    \n",
    "    \n"
   ]
  },
  {
   "cell_type": "code",
   "execution_count": 18,
   "id": "d4fa6220",
   "metadata": {},
   "outputs": [
    {
     "data": {
      "text/plain": [
       "1"
      ]
     },
     "execution_count": 18,
     "metadata": {},
     "output_type": "execute_result"
    }
   ],
   "source": [
    "solution([[1],[1]])"
   ]
  },
  {
   "cell_type": "code",
   "execution_count": null,
   "id": "db69509f",
   "metadata": {},
   "outputs": [],
   "source": []
  }
 ],
 "metadata": {
  "kernelspec": {
   "display_name": "Python 3 (ipykernel)",
   "language": "python",
   "name": "python3"
  },
  "language_info": {
   "codemirror_mode": {
    "name": "ipython",
    "version": 3
   },
   "file_extension": ".py",
   "mimetype": "text/x-python",
   "name": "python",
   "nbconvert_exporter": "python",
   "pygments_lexer": "ipython3",
   "version": "3.10.6"
  }
 },
 "nbformat": 4,
 "nbformat_minor": 5
}
