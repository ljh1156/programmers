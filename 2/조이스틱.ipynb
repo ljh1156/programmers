{
 "cells": [
  {
   "cell_type": "code",
   "execution_count": 26,
   "id": "a3930964",
   "metadata": {},
   "outputs": [],
   "source": [
    "def solution(name):\n",
    "    if set(name) == {'A'}:\n",
    "        return 0\n",
    "\n",
    "    answer = float('inf')\n",
    "    for i in range(len(name) // 2): # 반 이상 움직일 필요 없음\n",
    "        left_moved = name[-i:]+name[:-i]\n",
    "        right_moved = name[i:]+name[:i]\n",
    "        print(\"{}:{}\".format(left_moved, right_moved))\n",
    "        print(right_moved[0]+right_moved[:0:-1])\n",
    "        for n in [left_moved, right_moved[0]+right_moved[:0:-1]]:\n",
    "            while n and n[-1] == 'A':\n",
    "                n = n[:-1]\n",
    "\n",
    "            row_move = i + len(n)-1\n",
    "            col_move = 0\n",
    "            for c in map(ord, n):\n",
    "                col_move += min(c - 65, 91 - c)\n",
    "\n",
    "            answer = min(answer, row_move + col_move)\n",
    "\n",
    "    return answer"
   ]
  },
  {
   "cell_type": "code",
   "execution_count": 27,
   "id": "c3b606eb",
   "metadata": {},
   "outputs": [
    {
     "name": "stdout",
     "output_type": "stream",
     "text": [
      "JEROEN:JEROEN\n",
      "JNEORE\n",
      "NJEROE:EROENJ\n",
      "EJNEOR\n",
      "ENJERO:ROENJE\n",
      "REJNEO\n"
     ]
    },
    {
     "data": {
      "text/plain": [
       "56"
      ]
     },
     "execution_count": 27,
     "metadata": {},
     "output_type": "execute_result"
    }
   ],
   "source": [
    "solution(\"JEROEN\")"
   ]
  },
  {
   "cell_type": "code",
   "execution_count": null,
   "id": "06617c0e",
   "metadata": {},
   "outputs": [],
   "source": []
  }
 ],
 "metadata": {
  "kernelspec": {
   "display_name": "Python 3 (ipykernel)",
   "language": "python",
   "name": "python3"
  },
  "language_info": {
   "codemirror_mode": {
    "name": "ipython",
    "version": 3
   },
   "file_extension": ".py",
   "mimetype": "text/x-python",
   "name": "python",
   "nbconvert_exporter": "python",
   "pygments_lexer": "ipython3",
   "version": "3.10.6"
  }
 },
 "nbformat": 4,
 "nbformat_minor": 5
}
