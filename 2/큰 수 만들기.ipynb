{
 "cells": [
  {
   "cell_type": "code",
   "execution_count": 40,
   "id": "2bd4e839",
   "metadata": {},
   "outputs": [],
   "source": [
    "def solution(number, k):\n",
    "    answer = []\n",
    "\n",
    "    for i in number:\n",
    "        print(answer)\n",
    "        if not answer:\n",
    "            answer.append(i)\n",
    "            continue\n",
    "        while answer[-1] < i and k > 0:\n",
    "            answer.pop()\n",
    "            k -= 1\n",
    "            if not answer or k <= 0:\n",
    "                break\n",
    "        answer.append(i)\n",
    "        if len(answer) == len(number) - k:\n",
    "            break\n",
    "    else:\n",
    "        for _ in range(k):\n",
    "            answer.pop()\n",
    "    \n",
    "    return ''.join(answer)"
   ]
  },
  {
   "cell_type": "code",
   "execution_count": 41,
   "id": "76107633",
   "metadata": {},
   "outputs": [
    {
     "name": "stdout",
     "output_type": "stream",
     "text": [
      "[]\n",
      "['4']\n",
      "['4', '1']\n",
      "['7']\n",
      "['7', '7']\n",
      "['7', '7', '2']\n",
      "['7', '7', '5']\n",
      "['7', '7', '5', '5']\n",
      "['7', '7', '5', '5', '5']\n",
      "['7', '7', '5', '5', '5', '5']\n"
     ]
    },
    {
     "data": {
      "text/plain": [
       "'77555'"
      ]
     },
     "execution_count": 41,
     "metadata": {},
     "output_type": "execute_result"
    }
   ],
   "source": [
    "solution(\"4177255555\", 5)"
   ]
  },
  {
   "cell_type": "code",
   "execution_count": null,
   "id": "24d035a6",
   "metadata": {},
   "outputs": [],
   "source": []
  }
 ],
 "metadata": {
  "kernelspec": {
   "display_name": "Python 3 (ipykernel)",
   "language": "python",
   "name": "python3"
  },
  "language_info": {
   "codemirror_mode": {
    "name": "ipython",
    "version": 3
   },
   "file_extension": ".py",
   "mimetype": "text/x-python",
   "name": "python",
   "nbconvert_exporter": "python",
   "pygments_lexer": "ipython3",
   "version": "3.10.6"
  }
 },
 "nbformat": 4,
 "nbformat_minor": 5
}
