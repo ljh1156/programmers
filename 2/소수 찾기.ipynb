{
 "cells": [
  {
   "cell_type": "code",
   "execution_count": 70,
   "id": "2e6eb569",
   "metadata": {},
   "outputs": [],
   "source": [
    "def isPrime(n):\n",
    "    if n < 2:\n",
    "        return False\n",
    "    for i in range(2, n):\n",
    "        if n % i == 0:\n",
    "            return False\n",
    "    return True\n",
    "\n",
    "def dfs(num, numbers_list, answers):\n",
    "    #print(\"dfs:{}:{}:{}\".format(num, numbers_list, answers))\n",
    "    #print(rest)\n",
    "    if numbers_list == None:\n",
    "        return 0\n",
    "    for i in range(len(numbers_list)):\n",
    "        n = numbers_list[i]\n",
    "        answers.add(num + n)\n",
    "        numbers_list.pop(i)\n",
    "        #print(\"{}:{}:{}\".format(num + n, numbers_list, answers))\n",
    "        dfs(num + n, numbers_list, answers)\n",
    "        numbers_list.insert(i, n)\n",
    "\n",
    "    return \n",
    "\n",
    "def solution(numbers):\n",
    "    answers = set([])\n",
    "    \n",
    "    numbers_list = list(numbers)\n",
    "    for i in range(len(numbers_list)):\n",
    "        num = numbers_list[i]\n",
    "        if num ==\"0\":\n",
    "            continue\n",
    "        answers.add(num)\n",
    "        numbers_list.pop(i)\n",
    "        #print(\"{}:{}:{}\".format(num, numbers_list, answers))\n",
    "        dfs(num, numbers_list, answers)\n",
    "        numbers_list.insert(i, num)\n",
    "        \n",
    "    answer = 0\n",
    "    for number in list(answers):\n",
    "        if isPrime(int(number)):\n",
    "            print(number)\n",
    "            answer += 1\n",
    "    \n",
    "    return answer"
   ]
  },
  {
   "cell_type": "code",
   "execution_count": 72,
   "id": "cf132f8f",
   "metadata": {},
   "outputs": [
    {
     "name": "stdout",
     "output_type": "stream",
     "text": [
      "7\n",
      "17\n",
      "71\n"
     ]
    },
    {
     "data": {
      "text/plain": [
       "3"
      ]
     },
     "execution_count": 72,
     "metadata": {},
     "output_type": "execute_result"
    }
   ],
   "source": [
    "solution(\"17\")"
   ]
  },
  {
   "cell_type": "code",
   "execution_count": null,
   "id": "c7cb608c",
   "metadata": {},
   "outputs": [],
   "source": []
  }
 ],
 "metadata": {
  "kernelspec": {
   "display_name": "Python 3 (ipykernel)",
   "language": "python",
   "name": "python3"
  },
  "language_info": {
   "codemirror_mode": {
    "name": "ipython",
    "version": 3
   },
   "file_extension": ".py",
   "mimetype": "text/x-python",
   "name": "python",
   "nbconvert_exporter": "python",
   "pygments_lexer": "ipython3",
   "version": "3.10.6"
  }
 },
 "nbformat": 4,
 "nbformat_minor": 5
}
