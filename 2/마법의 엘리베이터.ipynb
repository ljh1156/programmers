{
 "cells": [
  {
   "cell_type": "code",
   "execution_count": 30,
   "id": "2a71b5d2",
   "metadata": {},
   "outputs": [],
   "source": [
    "def solution(storey):\n",
    "    answer = 0\n",
    "    \n",
    "    nums = [0] + [int(x) for x in list(str(storey))]\n",
    "    print(nums)\n",
    "    for i in range(len(nums) - 1, 0, -1):\n",
    "        \n",
    "        if nums[i] > 5:\n",
    "            nums[i] = 10 - nums[i]\n",
    "            nums[i - 1] += 1\n",
    "        elif nums[i] == 5:\n",
    "            if nums[i - 1] >= 5:\n",
    "                nums[i] == 10 - nums[i]\n",
    "                nums[i - 1] = 9 - nums[i -1]\n",
    "                nums[i - 2] += 1\n",
    "        print(nums)\n",
    "    return sum(nums)\n",
    "        "
   ]
  },
  {
   "cell_type": "code",
   "execution_count": 32,
   "id": "a0b4ab4a",
   "metadata": {},
   "outputs": [
    {
     "name": "stdout",
     "output_type": "stream",
     "text": [
      "[0, 7, 5]\n",
      "[1, 2, 5]\n",
      "[1, 2, 5]\n"
     ]
    },
    {
     "data": {
      "text/plain": [
       "8"
      ]
     },
     "execution_count": 32,
     "metadata": {},
     "output_type": "execute_result"
    }
   ],
   "source": [
    "solution(75)"
   ]
  },
  {
   "cell_type": "code",
   "execution_count": null,
   "id": "fae25636",
   "metadata": {},
   "outputs": [],
   "source": []
  },
  {
   "cell_type": "code",
   "execution_count": null,
   "id": "17a12a0b",
   "metadata": {},
   "outputs": [],
   "source": []
  }
 ],
 "metadata": {
  "kernelspec": {
   "display_name": "Python 3 (ipykernel)",
   "language": "python",
   "name": "python3"
  },
  "language_info": {
   "codemirror_mode": {
    "name": "ipython",
    "version": 3
   },
   "file_extension": ".py",
   "mimetype": "text/x-python",
   "name": "python",
   "nbconvert_exporter": "python",
   "pygments_lexer": "ipython3",
   "version": "3.10.6"
  }
 },
 "nbformat": 4,
 "nbformat_minor": 5
}
