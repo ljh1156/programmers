{
 "cells": [
  {
   "cell_type": "code",
   "execution_count": 14,
   "id": "0d976ee4",
   "metadata": {},
   "outputs": [],
   "source": [
    "def solution(survey, choices):\n",
    "    answer = ''\n",
    "    \n",
    "    type_score_dic = {\n",
    "        'R': 0,\n",
    "        'T': 0,\n",
    "        'C': 0,\n",
    "        'F': 0,\n",
    "        'J': 0,\n",
    "        'M': 0,\n",
    "        'A' : 0,\n",
    "        'N' : 0\n",
    "    }\n",
    "    \n",
    "    for sur, ch in zip(survey, choices):\n",
    "       # print(sur)\n",
    "      #  print(ch)\n",
    "        #if sur[0] not in type_score_dic:\n",
    "        #    type_score_dic[sur[0]] = 0\n",
    "        #if sur[1] not in type_score_dic:\n",
    "        #    type_score_dic[sur[1]] = 0\n",
    "        if ch == 1:\n",
    "            type_score_dic[sur[0]] += 3\n",
    "        elif ch == 2:\n",
    "            type_score_dic[sur[0]] += 2\n",
    "        elif ch == 3:\n",
    "            type_score_dic[sur[0]] += 1\n",
    "        elif ch == 5:\n",
    "            type_score_dic[sur[1]] += 1\n",
    "        elif ch == 6:\n",
    "            type_score_dic[sur[1]] += 2\n",
    "        elif ch == 7:\n",
    "            type_score_dic[sur[1]] += 3\n",
    "    \n",
    "   # print(type_score_dic)\n",
    "    if type_score_dic['T'] > type_score_dic['R']:\n",
    "        answer += 'T'\n",
    "    else:\n",
    "        answer += 'R'\n",
    "    if type_score_dic['F'] > type_score_dic['C']:\n",
    "        answer += 'F'\n",
    "    else:\n",
    "        answer += 'C'\n",
    "    if type_score_dic['M'] > type_score_dic['J']:\n",
    "        answer += 'M'\n",
    "    else:\n",
    "        answer += 'J'\n",
    "    if type_score_dic['N'] > type_score_dic['A']:\n",
    "        answer += 'N'\n",
    "    else:\n",
    "        answer += 'A'\n",
    "        \n",
    "            \n",
    "    \n",
    "    return answer"
   ]
  },
  {
   "cell_type": "code",
   "execution_count": 15,
   "id": "c3da4283",
   "metadata": {},
   "outputs": [
    {
     "data": {
      "text/plain": [
       "'RCJA'"
      ]
     },
     "execution_count": 15,
     "metadata": {},
     "output_type": "execute_result"
    }
   ],
   "source": [
    "solution([\"TR\", \"RT\", \"TR\"], [7, 1, 3])"
   ]
  },
  {
   "cell_type": "code",
   "execution_count": null,
   "id": "c7fb79c4",
   "metadata": {},
   "outputs": [],
   "source": []
  }
 ],
 "metadata": {
  "kernelspec": {
   "display_name": "Python 3 (ipykernel)",
   "language": "python",
   "name": "python3"
  },
  "language_info": {
   "codemirror_mode": {
    "name": "ipython",
    "version": 3
   },
   "file_extension": ".py",
   "mimetype": "text/x-python",
   "name": "python",
   "nbconvert_exporter": "python",
   "pygments_lexer": "ipython3",
   "version": "3.10.6"
  }
 },
 "nbformat": 4,
 "nbformat_minor": 5
}
