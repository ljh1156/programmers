{
 "cells": [
  {
   "cell_type": "code",
   "execution_count": 74,
   "id": "f4856751",
   "metadata": {},
   "outputs": [],
   "source": [
    "def solution(N, stages):\n",
    "    answer = []\n",
    "    \n",
    "    fail_rate = {}\n",
    "    for i in range(1, N + 1):\n",
    "        fail_rate[i] = 0.0\n",
    "    \n",
    "    for i in range(1, N + 1):\n",
    "        challenge_count = len([x for x in stages if x >= i])\n",
    "        fail_count = stages.count(i)\n",
    "\n",
    "        if challenge_count != 0:\n",
    "            fail_rate[i] = fail_count / challenge_count\n",
    "        else:\n",
    "            fail_rate[i] = 0\n",
    "            \n",
    "    for k , v in sorted(fail_rate.items(), key=lambda item: item[1], reverse=True):\n",
    "        if k > N: continue\n",
    "        answer.append(k)\n",
    "    \n",
    "    return answer\n"
   ]
  },
  {
   "cell_type": "code",
   "execution_count": 75,
   "id": "aa622433",
   "metadata": {},
   "outputs": [
    {
     "name": "stdout",
     "output_type": "stream",
     "text": [
      "8\n",
      "1\n",
      "7\n",
      "3\n",
      "4\n",
      "2\n",
      "2\n",
      "1\n",
      "1\n",
      "0\n"
     ]
    },
    {
     "data": {
      "text/plain": [
       "[3, 4, 2, 1, 5]"
      ]
     },
     "execution_count": 75,
     "metadata": {},
     "output_type": "execute_result"
    }
   ],
   "source": [
    "solution(5, [2, 1, 2, 6, 2, 4, 3, 3])"
   ]
  },
  {
   "cell_type": "code",
   "execution_count": null,
   "id": "50ebfd09",
   "metadata": {},
   "outputs": [],
   "source": []
  },
  {
   "cell_type": "code",
   "execution_count": null,
   "id": "fd486b42",
   "metadata": {},
   "outputs": [],
   "source": []
  }
 ],
 "metadata": {
  "kernelspec": {
   "display_name": "Python 3 (ipykernel)",
   "language": "python",
   "name": "python3"
  },
  "language_info": {
   "codemirror_mode": {
    "name": "ipython",
    "version": 3
   },
   "file_extension": ".py",
   "mimetype": "text/x-python",
   "name": "python",
   "nbconvert_exporter": "python",
   "pygments_lexer": "ipython3",
   "version": "3.10.6"
  }
 },
 "nbformat": 4,
 "nbformat_minor": 5
}
