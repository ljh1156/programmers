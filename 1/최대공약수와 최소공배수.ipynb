{
 "cells": [
  {
   "cell_type": "code",
   "execution_count": 19,
   "id": "6fb0dfd9",
   "metadata": {},
   "outputs": [],
   "source": [
    "def solution(n, m):\n",
    "    answer = []\n",
    "    \n",
    "    minimum = n if n < m else m\n",
    "    maximum = n if n > m else m\n",
    "    print(maximum)\n",
    "    a = 1\n",
    "    b = maximum\n",
    "    for i in range(1, minimum + 1):\n",
    "        \n",
    "        if i > int(maximum / 2):\n",
    "            break\n",
    "        if n % i == 0 and m % i == 0:\n",
    "            a = i\n",
    "    \n",
    "    if a == 1:\n",
    "        b = n * m\n",
    "    elif a == minimum:\n",
    "        b = maximum\n",
    "    else:\n",
    "        b = int(minimum / a * maximum)\n",
    "        \n",
    "        \n",
    "    \n",
    "    return [a, b]"
   ]
  },
  {
   "cell_type": "code",
   "execution_count": 21,
   "id": "c73146d1",
   "metadata": {},
   "outputs": [
    {
     "name": "stdout",
     "output_type": "stream",
     "text": [
      "12\n"
     ]
    },
    {
     "data": {
      "text/plain": [
       "[3, 12]"
      ]
     },
     "execution_count": 21,
     "metadata": {},
     "output_type": "execute_result"
    }
   ],
   "source": [
    "solution(3, 12)"
   ]
  },
  {
   "cell_type": "code",
   "execution_count": null,
   "id": "4570ac08",
   "metadata": {},
   "outputs": [],
   "source": []
  }
 ],
 "metadata": {
  "kernelspec": {
   "display_name": "Python 3 (ipykernel)",
   "language": "python",
   "name": "python3"
  },
  "language_info": {
   "codemirror_mode": {
    "name": "ipython",
    "version": 3
   },
   "file_extension": ".py",
   "mimetype": "text/x-python",
   "name": "python",
   "nbconvert_exporter": "python",
   "pygments_lexer": "ipython3",
   "version": "3.10.6"
  }
 },
 "nbformat": 4,
 "nbformat_minor": 5
}
