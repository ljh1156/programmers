{
 "cells": [
  {
   "cell_type": "code",
   "execution_count": 15,
   "id": "cd1bf51e",
   "metadata": {},
   "outputs": [],
   "source": [
    "def solution(numbers, hand):\n",
    "    answer = ''\n",
    "    \n",
    "    def getDist(source, target):\n",
    "        if source == target:\n",
    "            return 0\n",
    "        \n",
    "        elif target == 2:\n",
    "            if source in [1, 3, 5]:\n",
    "                return 1\n",
    "            elif source in [4, 8, 6]:\n",
    "                return 2\n",
    "            elif source in [7, 0, 9]:\n",
    "                return 3\n",
    "            else:\n",
    "                return 4\n",
    "        elif target == 5:\n",
    "            if source in [2, 4, 6, 8]:\n",
    "                return 1\n",
    "            elif source in [1, 3, 7, 9, 0]:\n",
    "                return 2\n",
    "            else:\n",
    "                return 3\n",
    "        elif target == 8:\n",
    "            if source in [5, 7, 9, 0]:\n",
    "                return 1\n",
    "            elif source in [2, 4, 6, 10, 11]:\n",
    "                return 2\n",
    "            else:\n",
    "                return 3\n",
    "        elif target == 0:\n",
    "            if source in [10, 11, 8]:\n",
    "                return 1\n",
    "            elif source in [7, 5, 9]:\n",
    "                return 2\n",
    "            elif source in [4, 2, 6]:\n",
    "                return 3\n",
    "            else:\n",
    "                return 4\n",
    "    \n",
    "    \n",
    "    \n",
    "    l_now = 10\n",
    "    r_now = 11\n",
    "    for num in numbers:\n",
    "        print(\"{}:{}:{}\".format(l_now, r_now, num))\n",
    "        if num in [1, 4, 7]:\n",
    "            answer += \"L\"\n",
    "            l_now = num\n",
    "        elif num in [3, 6, 9]:\n",
    "            answer += \"R\"\n",
    "            r_now = num\n",
    "        else:\n",
    "            l_dist = getDist(l_now, num)\n",
    "            #print()\n",
    "            r_dist = getDist(r_now, num)\n",
    "            if l_dist < r_dist:\n",
    "                answer += \"L\"\n",
    "                l_now = num\n",
    "            elif r_dist < l_dist:\n",
    "                answer += \"R\"\n",
    "                r_now = num\n",
    "            elif hand == \"left\":\n",
    "                answer += \"L\"\n",
    "                l_now = num\n",
    "            elif hand == \"right\":\n",
    "                answer += \"R\"\n",
    "                r_now = num\n",
    "    \n",
    "    return answer"
   ]
  },
  {
   "cell_type": "code",
   "execution_count": 16,
   "id": "542d804a",
   "metadata": {},
   "outputs": [
    {
     "name": "stdout",
     "output_type": "stream",
     "text": [
      "10:11:1\n",
      "1:11:3\n",
      "1:3:4\n",
      "4:3:5\n",
      "5:3:8\n",
      "8:3:2\n",
      "8:2:1\n",
      "1:2:4\n",
      "4:2:5\n",
      "4:5:9\n",
      "4:9:5\n"
     ]
    },
    {
     "data": {
      "text/plain": [
       "'LRLLLRLLRRL'"
      ]
     },
     "execution_count": 16,
     "metadata": {},
     "output_type": "execute_result"
    }
   ],
   "source": [
    "solution([1, 3, 4, 5, 8, 2, 1, 4, 5, 9, 5], \"right\")"
   ]
  },
  {
   "cell_type": "code",
   "execution_count": null,
   "id": "f7116fa8",
   "metadata": {},
   "outputs": [],
   "source": []
  }
 ],
 "metadata": {
  "kernelspec": {
   "display_name": "Python 3 (ipykernel)",
   "language": "python",
   "name": "python3"
  },
  "language_info": {
   "codemirror_mode": {
    "name": "ipython",
    "version": 3
   },
   "file_extension": ".py",
   "mimetype": "text/x-python",
   "name": "python",
   "nbconvert_exporter": "python",
   "pygments_lexer": "ipython3",
   "version": "3.10.6"
  }
 },
 "nbformat": 4,
 "nbformat_minor": 5
}
