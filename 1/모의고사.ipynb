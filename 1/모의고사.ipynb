{
 "cells": [
  {
   "cell_type": "code",
   "execution_count": 7,
   "id": "e0057311",
   "metadata": {},
   "outputs": [],
   "source": [
    "def solution(answers):\n",
    "    answer = []\n",
    "    \n",
    "    a = [1, 2, 3, 4, 5]\n",
    "    b = [2, 1, 2, 3, 2, 4, 2, 5]\n",
    "    c = [3, 3, 1, 1, 2, 2, 4, 4, 5, 5]\n",
    "    \n",
    "    count = {\n",
    "        1: 0,\n",
    "        2: 0,\n",
    "        3: 0\n",
    "    }\n",
    "    for i in range(0, len(answers)):\n",
    "        a_ans = a[i % 5]\n",
    "        b_ans = b[i % 8]\n",
    "        c_ans = c[i % 10]\n",
    "        if answers[i] == a_ans:\n",
    "            count[1] += 1\n",
    "        if answers[i] == b_ans:\n",
    "            count[2] += 1\n",
    "        if answers[i] == c_ans:\n",
    "            count[3] += 1\n",
    "    \n",
    "    max_score = 0\n",
    "    for k, v in sorted(count.items(),\n",
    "                           key=lambda item: item[1],\n",
    "                           reverse=True):\n",
    "        if v >= max_score:\n",
    "            max_score = v\n",
    "            answer.append(k)\n",
    "        #print(v)\n",
    "    \n",
    "    #  1, 2, 3, 4, 5, 1, 2, 3, 4, 5\n",
    "    #  2, 1, 2, 3, 2, 4, 2, 5, 2, 1, 2, 3, 2, 4, 2, 5\n",
    "    #  3, 3, 1, 1, 2, 2, 4, 4, 5, 5, 3, 3, 1, 1, 2, 2, 4, 4, 5, 5\n",
    "    \n",
    "    return answer"
   ]
  },
  {
   "cell_type": "code",
   "execution_count": 8,
   "id": "f22e1ceb",
   "metadata": {},
   "outputs": [
    {
     "data": {
      "text/plain": [
       "[1, 2, 3]"
      ]
     },
     "execution_count": 8,
     "metadata": {},
     "output_type": "execute_result"
    }
   ],
   "source": [
    "solution([1,3,2,4,2])"
   ]
  },
  {
   "cell_type": "code",
   "execution_count": null,
   "id": "5434718c",
   "metadata": {},
   "outputs": [],
   "source": []
  }
 ],
 "metadata": {
  "kernelspec": {
   "display_name": "Python 3 (ipykernel)",
   "language": "python",
   "name": "python3"
  },
  "language_info": {
   "codemirror_mode": {
    "name": "ipython",
    "version": 3
   },
   "file_extension": ".py",
   "mimetype": "text/x-python",
   "name": "python",
   "nbconvert_exporter": "python",
   "pygments_lexer": "ipython3",
   "version": "3.10.6"
  }
 },
 "nbformat": 4,
 "nbformat_minor": 5
}
