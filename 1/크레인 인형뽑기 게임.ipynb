{
 "cells": [
  {
   "cell_type": "code",
   "execution_count": 35,
   "id": "4075ece3",
   "metadata": {},
   "outputs": [],
   "source": [
    "def solution(board, moves):\n",
    "    answer = 0\n",
    "    \n",
    "    pocket = []\n",
    "    \n",
    "    stack = []\n",
    "    for i in range(len(board)):\n",
    "        stack.append([])\n",
    "    while(1):\n",
    "        if board == []:\n",
    "            break\n",
    "        b = board.pop()\n",
    "        print(b)\n",
    "        for i in range(len(b)):\n",
    "            if b[i] != 0:\n",
    "                stack[i].append(b[i])\n",
    "    \n",
    "    for move in moves:\n",
    "        if len(stack[move - 1]) != 0:\n",
    "            print(\"{}:{}\".format(move, stack[move - 1][-1]))\n",
    "            pocket.append(stack[move - 1][-1])\n",
    "            print(pocket)\n",
    "            stack[move -1].pop()\n",
    "            while(1):\n",
    "                if len(pocket) > 1 and pocket[-2] == pocket[-1]:\n",
    "                    del pocket[-1]\n",
    "                    del pocket[-1]\n",
    "                    answer += 2\n",
    "                else:\n",
    "                    break\n",
    "    \n",
    "    print(pocket)\n",
    "    \n",
    "    return answer"
   ]
  },
  {
   "cell_type": "code",
   "execution_count": 36,
   "id": "87951e8b",
   "metadata": {},
   "outputs": [
    {
     "name": "stdout",
     "output_type": "stream",
     "text": [
      "[3, 5, 1, 3, 1]\n",
      "[4, 2, 4, 4, 2]\n",
      "[0, 2, 5, 0, 1]\n",
      "[0, 0, 1, 0, 3]\n",
      "[0, 0, 0, 0, 0]\n",
      "1:4\n",
      "[4]\n",
      "5:3\n",
      "[4, 3]\n",
      "3:1\n",
      "[4, 3, 1]\n",
      "5:1\n",
      "[4, 3, 1, 1]\n",
      "1:3\n",
      "[4, 3, 3]\n",
      "2:2\n",
      "[4, 2]\n",
      "4:4\n",
      "[4, 2, 4]\n",
      "[4, 2, 4]\n"
     ]
    },
    {
     "data": {
      "text/plain": [
       "4"
      ]
     },
     "execution_count": 36,
     "metadata": {},
     "output_type": "execute_result"
    }
   ],
   "source": [
    "solution([[0,0,0,0,0],[0,0,1,0,3],[0,2,5,0,1],[4,2,4,4,2],[3,5,1,3,1]], [1,5,3,5,1,2,1,4])"
   ]
  },
  {
   "cell_type": "code",
   "execution_count": null,
   "id": "ba424f61",
   "metadata": {},
   "outputs": [],
   "source": []
  }
 ],
 "metadata": {
  "kernelspec": {
   "display_name": "Python 3 (ipykernel)",
   "language": "python",
   "name": "python3"
  },
  "language_info": {
   "codemirror_mode": {
    "name": "ipython",
    "version": 3
   },
   "file_extension": ".py",
   "mimetype": "text/x-python",
   "name": "python",
   "nbconvert_exporter": "python",
   "pygments_lexer": "ipython3",
   "version": "3.10.6"
  }
 },
 "nbformat": 4,
 "nbformat_minor": 5
}
