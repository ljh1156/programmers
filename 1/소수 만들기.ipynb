{
 "cells": [
  {
   "cell_type": "code",
   "execution_count": 3,
   "id": "5a518067",
   "metadata": {},
   "outputs": [],
   "source": [
    "def solution(nums):\n",
    "    answer = 0\n",
    "\n",
    "    for i in range(0, len(nums) - 2):\n",
    "        for j in range(i + 1, len(nums) - 1):\n",
    "            for k in range(j + 1, len(nums)):\n",
    "                t = nums[i] + nums[j] + nums[k]\n",
    "                is_so = True\n",
    "                for l in range(2, int(t / 2) + 1):\n",
    "                    if t % l == 0:\n",
    "                        is_so = False\n",
    "                        break\n",
    "                if is_so:\n",
    "                    answer += 1\n",
    "                    \n",
    "\n",
    "    return answer"
   ]
  },
  {
   "cell_type": "code",
   "execution_count": 5,
   "id": "a3f17cb7",
   "metadata": {},
   "outputs": [
    {
     "data": {
      "text/plain": [
       "1"
      ]
     },
     "execution_count": 5,
     "metadata": {},
     "output_type": "execute_result"
    }
   ],
   "source": [
    "solution([1,2,3,4 ])"
   ]
  },
  {
   "cell_type": "code",
   "execution_count": null,
   "id": "7c2af7e9",
   "metadata": {},
   "outputs": [],
   "source": []
  },
  {
   "cell_type": "code",
   "execution_count": null,
   "id": "1b7ce027",
   "metadata": {},
   "outputs": [],
   "source": []
  }
 ],
 "metadata": {
  "kernelspec": {
   "display_name": "Python 3 (ipykernel)",
   "language": "python",
   "name": "python3"
  },
  "language_info": {
   "codemirror_mode": {
    "name": "ipython",
    "version": 3
   },
   "file_extension": ".py",
   "mimetype": "text/x-python",
   "name": "python",
   "nbconvert_exporter": "python",
   "pygments_lexer": "ipython3",
   "version": "3.10.6"
  }
 },
 "nbformat": 4,
 "nbformat_minor": 5
}
