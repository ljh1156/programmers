{
 "cells": [
  {
   "cell_type": "code",
   "execution_count": 3,
   "id": "4e68fe23",
   "metadata": {},
   "outputs": [],
   "source": [
    "def getPower(num):\n",
    "    p = 0\n",
    "    i = 1\n",
    "    while(1):\n",
    "        if i * i == num:\n",
    "            p += 1\n",
    "        elif num % i == 0:\n",
    "            p += 2\n",
    "        i += 1\n",
    "        if i * i > num:\n",
    "            break\n",
    "    \n",
    "    return p\n",
    "    \n",
    "    \n",
    "def solution(left, right):\n",
    "    answer = 0\n",
    "    \n",
    "    for i in range(left, right + 1):\n",
    "        p = getPower(i)\n",
    "        if p % 2 == 0:\n",
    "            answer += i\n",
    "        else:\n",
    "            answer -= i\n",
    "            \n",
    "    \n",
    "    return answer"
   ]
  },
  {
   "cell_type": "code",
   "execution_count": 4,
   "id": "ea305677",
   "metadata": {},
   "outputs": [
    {
     "data": {
      "text/plain": [
       "52"
      ]
     },
     "execution_count": 4,
     "metadata": {},
     "output_type": "execute_result"
    }
   ],
   "source": [
    "solution(24, 27)"
   ]
  },
  {
   "cell_type": "code",
   "execution_count": null,
   "id": "3740d319",
   "metadata": {},
   "outputs": [],
   "source": []
  }
 ],
 "metadata": {
  "kernelspec": {
   "display_name": "Python 3 (ipykernel)",
   "language": "python",
   "name": "python3"
  },
  "language_info": {
   "codemirror_mode": {
    "name": "ipython",
    "version": 3
   },
   "file_extension": ".py",
   "mimetype": "text/x-python",
   "name": "python",
   "nbconvert_exporter": "python",
   "pygments_lexer": "ipython3",
   "version": "3.10.6"
  }
 },
 "nbformat": 4,
 "nbformat_minor": 5
}
