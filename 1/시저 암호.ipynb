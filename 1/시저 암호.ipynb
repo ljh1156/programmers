{
 "cells": [
  {
   "cell_type": "code",
   "execution_count": 30,
   "id": "b97959ee",
   "metadata": {},
   "outputs": [],
   "source": [
    "def solution(s, n):\n",
    "    answer = ''\n",
    "    \n",
    "    print(ord(\"A\"))\n",
    "    print(ord(\"Z\"))\n",
    "    print(ord(\"a\"))\n",
    "    print(ord(\"z\"))\n",
    "    \n",
    "    for i in range(0, len(s)):\n",
    "        if s[i] == \" \":\n",
    "            answer += \" \"\n",
    "        else:\n",
    "            print(\"{}:{}\".format(s[i], ord(s[i])))\n",
    "            asc = ord(s[i]) + n\n",
    "            if ord(s[i]) >= 65 and ord(s[i]) <= 90:\n",
    "                if asc > 90:\n",
    "                    asc -= 26\n",
    "            else:\n",
    "                if asc > 122:\n",
    "                    asc -= 26\n",
    "            #if asc > 122:\n",
    "            #    asc -= 26\n",
    "            #elif asc > 90 and asc < 97:\n",
    "            #    asc -= 26\n",
    "            answer += chr(asc)\n",
    "    print(chr(ord(s[0]) + n))\n",
    "    \n",
    "    return answer"
   ]
  },
  {
   "cell_type": "code",
   "execution_count": 31,
   "id": "28872984",
   "metadata": {},
   "outputs": [
    {
     "name": "stdout",
     "output_type": "stream",
     "text": [
      "65\n",
      "90\n",
      "97\n",
      "122\n",
      "A:65\n",
      "a:97\n",
      "Z:90\n",
      "z:122\n",
      "Z\n"
     ]
    },
    {
     "data": {
      "text/plain": [
       "'ZzYy'"
      ]
     },
     "execution_count": 31,
     "metadata": {},
     "output_type": "execute_result"
    }
   ],
   "source": [
    "solution(\"AaZz\", 25)"
   ]
  },
  {
   "cell_type": "code",
   "execution_count": null,
   "id": "d6edd661",
   "metadata": {},
   "outputs": [],
   "source": []
  },
  {
   "cell_type": "code",
   "execution_count": null,
   "id": "810c570b",
   "metadata": {},
   "outputs": [],
   "source": []
  }
 ],
 "metadata": {
  "kernelspec": {
   "display_name": "Python 3 (ipykernel)",
   "language": "python",
   "name": "python3"
  },
  "language_info": {
   "codemirror_mode": {
    "name": "ipython",
    "version": 3
   },
   "file_extension": ".py",
   "mimetype": "text/x-python",
   "name": "python",
   "nbconvert_exporter": "python",
   "pygments_lexer": "ipython3",
   "version": "3.10.6"
  }
 },
 "nbformat": 4,
 "nbformat_minor": 5
}
