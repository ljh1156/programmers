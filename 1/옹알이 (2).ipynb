{
 "cells": [
  {
   "cell_type": "code",
   "execution_count": 15,
   "id": "241e7d7c",
   "metadata": {},
   "outputs": [],
   "source": [
    "def solution(babbling):\n",
    "    answer = 0\n",
    "    \n",
    "    for babb in babbling:\n",
    "        babb = babb.replace(\"aya\", \"+\")\n",
    "        babb = babb.replace(\"ye\", \"-\")\n",
    "        babb = babb.replace(\"woo\", \"*\")\n",
    "        babb = babb.replace(\"ma\", \"/\")\n",
    "        if \"++\" in babb or \"--\" in babb or \"**\" in babb or \"//\" in babb:\n",
    "            continue\n",
    "        babb = babb.replace(\"-\", \"\").replace(\"+\",\"\").replace(\"*\", \"\").replace(\"/\",\"\")\n",
    "        if babb.strip() == \"\":\n",
    "            answer += 1\n",
    "        print(babb)\n",
    "    \n",
    "    return answer"
   ]
  },
  {
   "cell_type": "code",
   "execution_count": 17,
   "id": "450e87b3",
   "metadata": {},
   "outputs": [
    {
     "name": "stdout",
     "output_type": "stream",
     "text": [
      "\n",
      "e\n",
      "u\n",
      "a\n"
     ]
    },
    {
     "data": {
      "text/plain": [
       "1"
      ]
     },
     "execution_count": 17,
     "metadata": {},
     "output_type": "execute_result"
    }
   ],
   "source": [
    "solution([\"aya\", \"yee\", \"u\", \"maa\"])"
   ]
  },
  {
   "cell_type": "code",
   "execution_count": null,
   "id": "3bd7499f",
   "metadata": {},
   "outputs": [],
   "source": []
  },
  {
   "cell_type": "code",
   "execution_count": null,
   "id": "58c2a797",
   "metadata": {},
   "outputs": [],
   "source": []
  }
 ],
 "metadata": {
  "kernelspec": {
   "display_name": "Python 3 (ipykernel)",
   "language": "python",
   "name": "python3"
  },
  "language_info": {
   "codemirror_mode": {
    "name": "ipython",
    "version": 3
   },
   "file_extension": ".py",
   "mimetype": "text/x-python",
   "name": "python",
   "nbconvert_exporter": "python",
   "pygments_lexer": "ipython3",
   "version": "3.10.6"
  }
 },
 "nbformat": 4,
 "nbformat_minor": 5
}
