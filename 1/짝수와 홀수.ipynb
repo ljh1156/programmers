{
 "cells": [
  {
   "cell_type": "code",
   "execution_count": 2,
   "id": "1e84730f",
   "metadata": {},
   "outputs": [],
   "source": [
    "def solution(num):\n",
    "    answer = ''\n",
    "    if num % 2 == 1:\n",
    "        return \"Odd\"\n",
    "    else:\n",
    "        return \"Even\"\n",
    "    "
   ]
  },
  {
   "cell_type": "code",
   "execution_count": 3,
   "id": "e559fdc9",
   "metadata": {},
   "outputs": [
    {
     "data": {
      "text/plain": [
       "'Odd'"
      ]
     },
     "execution_count": 3,
     "metadata": {},
     "output_type": "execute_result"
    }
   ],
   "source": [
    "solution(3)"
   ]
  },
  {
   "cell_type": "code",
   "execution_count": null,
   "id": "f1d4dd01",
   "metadata": {},
   "outputs": [],
   "source": []
  }
 ],
 "metadata": {
  "kernelspec": {
   "display_name": "Python 3 (ipykernel)",
   "language": "python",
   "name": "python3"
  },
  "language_info": {
   "codemirror_mode": {
    "name": "ipython",
    "version": 3
   },
   "file_extension": ".py",
   "mimetype": "text/x-python",
   "name": "python",
   "nbconvert_exporter": "python",
   "pygments_lexer": "ipython3",
   "version": "3.10.6"
  }
 },
 "nbformat": 4,
 "nbformat_minor": 5
}
