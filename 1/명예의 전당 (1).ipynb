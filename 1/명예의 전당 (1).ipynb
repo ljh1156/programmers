{
 "cells": [
  {
   "cell_type": "code",
   "execution_count": 12,
   "id": "262c7ca9",
   "metadata": {},
   "outputs": [],
   "source": [
    "def solution(k, score):\n",
    "    answer = []\n",
    "    \n",
    "    top = []\n",
    "    for sc in score:\n",
    "        if len(top) < k or sc > top[-1]:\n",
    "            if len(top) == k:\n",
    "                top.pop()\n",
    "            top.append(sc)\n",
    "            top = sorted(top, reverse=True)\n",
    "        answer.append(top[-1])\n",
    "        print(top)\n",
    "    \n",
    "    return answer"
   ]
  },
  {
   "cell_type": "code",
   "execution_count": 14,
   "id": "d6adada2",
   "metadata": {},
   "outputs": [
    {
     "name": "stdout",
     "output_type": "stream",
     "text": [
      "[0]\n",
      "[300, 0]\n",
      "[300, 40, 0]\n",
      "[300, 300, 40, 0]\n",
      "[300, 300, 40, 20]\n",
      "[300, 300, 70, 40]\n",
      "[300, 300, 150, 70]\n",
      "[300, 300, 150, 70]\n",
      "[500, 300, 300, 150]\n",
      "[1000, 500, 300, 300]\n"
     ]
    },
    {
     "data": {
      "text/plain": [
       "[0, 0, 0, 0, 20, 40, 70, 70, 150, 300]"
      ]
     },
     "execution_count": 14,
     "metadata": {},
     "output_type": "execute_result"
    }
   ],
   "source": [
    "solution(4, [0, 300, 40, 300, 20, 70, 150, 50, 500, 1000])"
   ]
  },
  {
   "cell_type": "code",
   "execution_count": null,
   "id": "963a96cf",
   "metadata": {},
   "outputs": [],
   "source": []
  },
  {
   "cell_type": "code",
   "execution_count": null,
   "id": "3c0cc8d2",
   "metadata": {},
   "outputs": [],
   "source": []
  }
 ],
 "metadata": {
  "kernelspec": {
   "display_name": "Python 3 (ipykernel)",
   "language": "python",
   "name": "python3"
  },
  "language_info": {
   "codemirror_mode": {
    "name": "ipython",
    "version": 3
   },
   "file_extension": ".py",
   "mimetype": "text/x-python",
   "name": "python",
   "nbconvert_exporter": "python",
   "pygments_lexer": "ipython3",
   "version": "3.10.6"
  }
 },
 "nbformat": 4,
 "nbformat_minor": 5
}
