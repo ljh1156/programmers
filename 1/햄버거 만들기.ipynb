{
 "cells": [
  {
   "cell_type": "code",
   "execution_count": 28,
   "id": "59769a7b",
   "metadata": {},
   "outputs": [],
   "source": [
    "def solution(ingredient):\n",
    "    answer = 0\n",
    "    \n",
    "    if len(ingredient) < 4:\n",
    "        return 0\n",
    "    \n",
    "    burger = [1, 2, 3, 1]\n",
    "    idx = 0\n",
    "    \n",
    "    len_ind = len(ingredient)\n",
    "    \n",
    "    while(1):\n",
    "        #print(ingredient[idx:idx+4])\n",
    "        if ingredient[idx:idx+4] == burger:\n",
    "            del ingredient[idx:idx+4]\n",
    "            len_ind -= 4\n",
    "            #for i in range(4):\n",
    "            #    ingredient.pop(idx)\n",
    "            print(ingredient)\n",
    "            answer += 1\n",
    "            idx -= 4\n",
    "            \n",
    "        idx += 1\n",
    "        if idx + 3 >= len_ind:\n",
    "            break\n",
    "        \n",
    "    \n",
    "    return answer"
   ]
  },
  {
   "cell_type": "code",
   "execution_count": 29,
   "id": "c27a3c97",
   "metadata": {},
   "outputs": [
    {
     "name": "stdout",
     "output_type": "stream",
     "text": [
      "[2, 1, 2, 3, 1]\n",
      "[2]\n"
     ]
    },
    {
     "data": {
      "text/plain": [
       "2"
      ]
     },
     "execution_count": 29,
     "metadata": {},
     "output_type": "execute_result"
    }
   ],
   "source": [
    "solution([2, 1, 1, 2, 3, 1, 2, 3, 1])"
   ]
  },
  {
   "cell_type": "code",
   "execution_count": null,
   "id": "fa40d591",
   "metadata": {},
   "outputs": [],
   "source": []
  }
 ],
 "metadata": {
  "kernelspec": {
   "display_name": "Python 3 (ipykernel)",
   "language": "python",
   "name": "python3"
  },
  "language_info": {
   "codemirror_mode": {
    "name": "ipython",
    "version": 3
   },
   "file_extension": ".py",
   "mimetype": "text/x-python",
   "name": "python",
   "nbconvert_exporter": "python",
   "pygments_lexer": "ipython3",
   "version": "3.10.6"
  }
 },
 "nbformat": 4,
 "nbformat_minor": 5
}
