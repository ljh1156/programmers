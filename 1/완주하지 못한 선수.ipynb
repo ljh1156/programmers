{
 "cells": [
  {
   "cell_type": "code",
   "execution_count": 14,
   "id": "cf98a5cd",
   "metadata": {},
   "outputs": [],
   "source": [
    "def solution(participant, completion):\n",
    "    answer = ''\n",
    "    \n",
    "    dic = {}\n",
    "    for part in participant:\n",
    "        if part not in dic:\n",
    "            dic[part] = 1\n",
    "        else:\n",
    "            dic[part] += 1\n",
    "    for comp in completion:\n",
    "        dic[comp] -= 1\n",
    "    print(dic)\n",
    "        \n",
    "    for k, v in dic.items():\n",
    "        if v == 1:\n",
    "            return k\n",
    "        \n",
    "    return \"\"\n",
    "    \n",
    "    for comp in completion:\n",
    "        if comp in participant:\n",
    "            participant.remove(comp)\n",
    "    return participant[0]\n",
    "    \n"
   ]
  },
  {
   "cell_type": "code",
   "execution_count": 15,
   "id": "fe05d82e",
   "metadata": {},
   "outputs": [
    {
     "name": "stdout",
     "output_type": "stream",
     "text": [
      "{'mislav': 1, 'stanko': 0, 'ana': 0}\n"
     ]
    },
    {
     "data": {
      "text/plain": [
       "'mislav'"
      ]
     },
     "execution_count": 15,
     "metadata": {},
     "output_type": "execute_result"
    }
   ],
   "source": [
    "solution([\"mislav\", \"stanko\", \"mislav\", \"ana\"], [\"stanko\", \"ana\", \"mislav\"])"
   ]
  },
  {
   "cell_type": "code",
   "execution_count": null,
   "id": "b8c28102",
   "metadata": {},
   "outputs": [],
   "source": []
  }
 ],
 "metadata": {
  "kernelspec": {
   "display_name": "Python 3 (ipykernel)",
   "language": "python",
   "name": "python3"
  },
  "language_info": {
   "codemirror_mode": {
    "name": "ipython",
    "version": 3
   },
   "file_extension": ".py",
   "mimetype": "text/x-python",
   "name": "python",
   "nbconvert_exporter": "python",
   "pygments_lexer": "ipython3",
   "version": "3.10.6"
  }
 },
 "nbformat": 4,
 "nbformat_minor": 5
}
