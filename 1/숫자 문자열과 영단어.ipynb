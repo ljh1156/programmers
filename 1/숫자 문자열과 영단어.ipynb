{
 "cells": [
  {
   "cell_type": "code",
   "execution_count": 5,
   "id": "794b4fb7",
   "metadata": {},
   "outputs": [],
   "source": [
    "def solution(s):\n",
    "    answer = 0\n",
    "    \n",
    "    s = (s\n",
    "         .replace(\"zero\", \"0\")\n",
    "         .replace(\"one\", \"1\")\n",
    "         .replace(\"two\", \"2\")\n",
    "         .replace(\"three\", \"3\")\n",
    "         .replace(\"four\", \"4\")\n",
    "         .replace(\"five\", \"5\")\n",
    "         .replace(\"six\", \"6\")\n",
    "         .replace(\"seven\", \"7\")\n",
    "         .replace(\"eight\", \"8\")\n",
    "         .replace(\"nine\", \"9\")\n",
    "    )\n",
    "    return int(s)\n",
    "    \n",
    "    #return answer"
   ]
  },
  {
   "cell_type": "code",
   "execution_count": 6,
   "id": "b236ed78",
   "metadata": {},
   "outputs": [
    {
     "data": {
      "text/plain": [
       "234567"
      ]
     },
     "execution_count": 6,
     "metadata": {},
     "output_type": "execute_result"
    }
   ],
   "source": [
    "solution(\"2three45sixseven\")"
   ]
  },
  {
   "cell_type": "code",
   "execution_count": null,
   "id": "4d57fbba",
   "metadata": {},
   "outputs": [],
   "source": []
  }
 ],
 "metadata": {
  "kernelspec": {
   "display_name": "Python 3 (ipykernel)",
   "language": "python",
   "name": "python3"
  },
  "language_info": {
   "codemirror_mode": {
    "name": "ipython",
    "version": 3
   },
   "file_extension": ".py",
   "mimetype": "text/x-python",
   "name": "python",
   "nbconvert_exporter": "python",
   "pygments_lexer": "ipython3",
   "version": "3.10.6"
  }
 },
 "nbformat": 4,
 "nbformat_minor": 5
}
