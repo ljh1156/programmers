{
 "cells": [
  {
   "cell_type": "code",
   "execution_count": 11,
   "id": "e415d743",
   "metadata": {},
   "outputs": [],
   "source": [
    "def solution(lottos, win_nums):\n",
    "    answer = []\n",
    "    \n",
    "    match = 0\n",
    "    zero = 0\n",
    "    win_dic = {}\n",
    "    for num in win_nums:\n",
    "        win_dic[num] = 1\n",
    "    for num in lottos:\n",
    "        if num in win_dic and win_dic[num] == 1:\n",
    "            match += 1\n",
    "        if num == 0:\n",
    "            zero += 1\n",
    "            \n",
    "    if zero + match >= 6:\n",
    "        answer.append(1)\n",
    "    elif zero + match == 5:\n",
    "        answer.append(2)\n",
    "    elif zero + match == 4:\n",
    "        answer.append(3)\n",
    "    elif zero + match == 3:\n",
    "        answer.append(4)\n",
    "    elif zero + match == 2:\n",
    "        answer.append(5)\n",
    "    else:\n",
    "        answer.append(6)\n",
    "        \n",
    "    if match >= 6:\n",
    "        answer.append(1)\n",
    "    elif match == 5:\n",
    "        answer.append(2)\n",
    "    elif match == 4:\n",
    "        answer.append(3)\n",
    "    elif match == 3:\n",
    "        answer.append(4)\n",
    "    elif match == 2:\n",
    "        answer.append(5)\n",
    "    else:\n",
    "        answer.append(6)\n",
    "        \n",
    "    \n",
    "    \n",
    "    return answer"
   ]
  },
  {
   "cell_type": "code",
   "execution_count": 13,
   "id": "056fc8ec",
   "metadata": {},
   "outputs": [
    {
     "data": {
      "text/plain": [
       "[1, 1]"
      ]
     },
     "execution_count": 13,
     "metadata": {},
     "output_type": "execute_result"
    }
   ],
   "source": [
    "solution([45, 4, 35, 20, 3, 9], [20, 9, 3, 45, 4, 35])"
   ]
  },
  {
   "cell_type": "code",
   "execution_count": null,
   "id": "e565240c",
   "metadata": {},
   "outputs": [],
   "source": []
  }
 ],
 "metadata": {
  "kernelspec": {
   "display_name": "Python 3 (ipykernel)",
   "language": "python",
   "name": "python3"
  },
  "language_info": {
   "codemirror_mode": {
    "name": "ipython",
    "version": 3
   },
   "file_extension": ".py",
   "mimetype": "text/x-python",
   "name": "python",
   "nbconvert_exporter": "python",
   "pygments_lexer": "ipython3",
   "version": "3.10.6"
  }
 },
 "nbformat": 4,
 "nbformat_minor": 5
}
