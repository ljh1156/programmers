{
 "cells": [
  {
   "cell_type": "code",
   "execution_count": 14,
   "id": "7340fb51",
   "metadata": {},
   "outputs": [],
   "source": [
    "def solution(a, b):\n",
    "    answer = ''\n",
    "    \n",
    "    ret = [\"FRI\",\"SAT\", \"SUN\",\"MON\",\"TUE\",\"WED\",\"THU\"]\n",
    "    days = [31, 29, 31, 30, 31, 30, 31, 31, 30, 31, 30, 31]\n",
    "    date = b - 1\n",
    "    \n",
    "    for i in range(0, a - 1):\n",
    "        date += days[i]\n",
    "    #print(date)\n",
    "    return ret[date % 7]\n",
    "    \n",
    "    "
   ]
  },
  {
   "cell_type": "code",
   "execution_count": 16,
   "id": "0f92247b",
   "metadata": {},
   "outputs": [
    {
     "name": "stdout",
     "output_type": "stream",
     "text": [
      "144\n"
     ]
    },
    {
     "data": {
      "text/plain": [
       "'TUE'"
      ]
     },
     "execution_count": 16,
     "metadata": {},
     "output_type": "execute_result"
    }
   ],
   "source": [
    "solution(5, 24)"
   ]
  },
  {
   "cell_type": "code",
   "execution_count": null,
   "id": "17a4bdf0",
   "metadata": {},
   "outputs": [],
   "source": []
  }
 ],
 "metadata": {
  "kernelspec": {
   "display_name": "Python 3 (ipykernel)",
   "language": "python",
   "name": "python3"
  },
  "language_info": {
   "codemirror_mode": {
    "name": "ipython",
    "version": 3
   },
   "file_extension": ".py",
   "mimetype": "text/x-python",
   "name": "python",
   "nbconvert_exporter": "python",
   "pygments_lexer": "ipython3",
   "version": "3.10.6"
  }
 },
 "nbformat": 4,
 "nbformat_minor": 5
}
