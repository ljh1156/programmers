{
 "cells": [
  {
   "cell_type": "code",
   "execution_count": 8,
   "id": "4a93f7cf",
   "metadata": {},
   "outputs": [],
   "source": [
    "def solution(number, limit, power):\n",
    "    answer = 0\n",
    "    \n",
    "    def getPower(num):\n",
    "        p = 0\n",
    "        i = 1\n",
    "        while(1):\n",
    "            if i * i == num:\n",
    "                p += 1\n",
    "            elif num % i == 0:\n",
    "                p += 2\n",
    "            i += 1\n",
    "            if i * i > num:\n",
    "                break\n",
    "    \n",
    "        return p\n",
    "    \n",
    "    for i in range(1, number + 1):\n",
    "        p = getPower(i)\n",
    "        if p <= limit:\n",
    "            answer += p\n",
    "        else:\n",
    "            answer += power\n",
    "    \n",
    "    return answer"
   ]
  },
  {
   "cell_type": "code",
   "execution_count": 10,
   "id": "d30e4d38",
   "metadata": {},
   "outputs": [
    {
     "data": {
      "text/plain": [
       "21"
      ]
     },
     "execution_count": 10,
     "metadata": {},
     "output_type": "execute_result"
    }
   ],
   "source": [
    "solution(10, 3, 2)"
   ]
  },
  {
   "cell_type": "code",
   "execution_count": null,
   "id": "8a23c56b",
   "metadata": {},
   "outputs": [],
   "source": []
  }
 ],
 "metadata": {
  "kernelspec": {
   "display_name": "Python 3 (ipykernel)",
   "language": "python",
   "name": "python3"
  },
  "language_info": {
   "codemirror_mode": {
    "name": "ipython",
    "version": 3
   },
   "file_extension": ".py",
   "mimetype": "text/x-python",
   "name": "python",
   "nbconvert_exporter": "python",
   "pygments_lexer": "ipython3",
   "version": "3.10.6"
  }
 },
 "nbformat": 4,
 "nbformat_minor": 5
}
