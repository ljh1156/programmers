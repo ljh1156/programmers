{
 "cells": [
  {
   "cell_type": "code",
   "execution_count": 12,
   "id": "91beca78",
   "metadata": {},
   "outputs": [],
   "source": [
    "def solution(dartResult):\n",
    "    answer = 0\n",
    "    \n",
    "    tmp = []\n",
    "    for i in range(0, len(dartResult)):\n",
    "        c = dartResult[i]\n",
    "    #for c in list(dartResult):\n",
    "        if c == \"*\":\n",
    "            tmp[-1] = tmp[-1] * 2\n",
    "            if len(tmp) > 1:\n",
    "                tmp[-2] = tmp[-2] * 2\n",
    "        elif c == \"#\":\n",
    "            tmp[-1] = tmp[-1] * (-1)\n",
    "        elif c == \"S\":\n",
    "            continue\n",
    "        elif c == \"D\":\n",
    "            tmp[-1] = pow(tmp[-1], 2)\n",
    "        elif c == \"T\":\n",
    "            tmp[-1] = pow(tmp[-1], 3)\n",
    "        else: ##숫자\n",
    "            if i > 0 and dartResult[i - 1].isdigit():\n",
    "                tmp[-1] = tmp[-1] * 10 + int(c)\n",
    "            else:\n",
    "                tmp.append(int(c))\n",
    "            \n",
    "    print(tmp)\n",
    "    print(sum(tmp))\n",
    "            \n",
    "            \n",
    "        \n",
    "        \n",
    "    \n",
    "    return sum(tmp)"
   ]
  },
  {
   "cell_type": "code",
   "execution_count": 13,
   "id": "d74cd502",
   "metadata": {},
   "outputs": [
    {
     "name": "stdout",
     "output_type": "stream",
     "text": [
      "[4, 16, 3]\n",
      "23\n"
     ]
    },
    {
     "data": {
      "text/plain": [
       "23"
      ]
     },
     "execution_count": 13,
     "metadata": {},
     "output_type": "execute_result"
    }
   ],
   "source": [
    "solution(\"1S*2T*3S\")"
   ]
  },
  {
   "cell_type": "code",
   "execution_count": null,
   "id": "b599b116",
   "metadata": {},
   "outputs": [],
   "source": []
  }
 ],
 "metadata": {
  "kernelspec": {
   "display_name": "Python 3 (ipykernel)",
   "language": "python",
   "name": "python3"
  },
  "language_info": {
   "codemirror_mode": {
    "name": "ipython",
    "version": 3
   },
   "file_extension": ".py",
   "mimetype": "text/x-python",
   "name": "python",
   "nbconvert_exporter": "python",
   "pygments_lexer": "ipython3",
   "version": "3.10.6"
  }
 },
 "nbformat": 4,
 "nbformat_minor": 5
}
