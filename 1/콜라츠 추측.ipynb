{
 "cells": [
  {
   "cell_type": "code",
   "execution_count": 3,
   "id": "b0ac8c51",
   "metadata": {},
   "outputs": [],
   "source": [
    "def solution(num):\n",
    "    answer = 0\n",
    "    \n",
    "    while(1):\n",
    "        if num ==1:\n",
    "            break\n",
    "        if num % 2 == 0:\n",
    "            num = num / 2\n",
    "        else:\n",
    "            num = num * 3 + 1\n",
    "        answer += 1\n",
    "        if answer == 500:\n",
    "            return -1\n",
    "    \n",
    "    return answer"
   ]
  },
  {
   "cell_type": "code",
   "execution_count": 6,
   "id": "9475474d",
   "metadata": {},
   "outputs": [
    {
     "data": {
      "text/plain": [
       "0"
      ]
     },
     "execution_count": 6,
     "metadata": {},
     "output_type": "execute_result"
    }
   ],
   "source": [
    "solution(1)"
   ]
  },
  {
   "cell_type": "code",
   "execution_count": null,
   "id": "c99f5562",
   "metadata": {},
   "outputs": [],
   "source": []
  }
 ],
 "metadata": {
  "kernelspec": {
   "display_name": "Python 3 (ipykernel)",
   "language": "python",
   "name": "python3"
  },
  "language_info": {
   "codemirror_mode": {
    "name": "ipython",
    "version": 3
   },
   "file_extension": ".py",
   "mimetype": "text/x-python",
   "name": "python",
   "nbconvert_exporter": "python",
   "pygments_lexer": "ipython3",
   "version": "3.10.6"
  }
 },
 "nbformat": 4,
 "nbformat_minor": 5
}
