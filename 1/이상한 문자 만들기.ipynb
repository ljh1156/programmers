{
 "cells": [
  {
   "cell_type": "code",
   "execution_count": 14,
   "id": "d5291f47",
   "metadata": {},
   "outputs": [],
   "source": [
    "def solution(s):\n",
    "    answer = ''\n",
    "    \n",
    "    idx = 0\n",
    "    for i in range(0, len(s)):\n",
    "        if s[i] == \" \":\n",
    "            idx = 0\n",
    "            answer += \" \"\n",
    "        else:\n",
    "            if idx % 2 == 1:\n",
    "                answer += s[i].lower()\n",
    "            else:\n",
    "                answer += s[i].upper()\n",
    "            idx += 1\n",
    "    \n",
    "\n",
    "    return answer\n",
    "    \n",
    "    "
   ]
  },
  {
   "cell_type": "code",
   "execution_count": 15,
   "id": "8aa26a75",
   "metadata": {},
   "outputs": [
    {
     "data": {
      "text/plain": [
       "'AbC AbC AbC '"
      ]
     },
     "execution_count": 15,
     "metadata": {},
     "output_type": "execute_result"
    }
   ],
   "source": [
    "solution(\"abc abc abc \")"
   ]
  },
  {
   "cell_type": "code",
   "execution_count": null,
   "id": "42e453ed",
   "metadata": {},
   "outputs": [],
   "source": []
  }
 ],
 "metadata": {
  "kernelspec": {
   "display_name": "Python 3 (ipykernel)",
   "language": "python",
   "name": "python3"
  },
  "language_info": {
   "codemirror_mode": {
    "name": "ipython",
    "version": 3
   },
   "file_extension": ".py",
   "mimetype": "text/x-python",
   "name": "python",
   "nbconvert_exporter": "python",
   "pygments_lexer": "ipython3",
   "version": "3.10.6"
  }
 },
 "nbformat": 4,
 "nbformat_minor": 5
}
