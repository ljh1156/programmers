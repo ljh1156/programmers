{
 "cells": [
  {
   "cell_type": "code",
   "execution_count": 30,
   "id": "008806a1",
   "metadata": {},
   "outputs": [],
   "source": [
    "def solution(new_id):\n",
    "    answer = ''\n",
    "    \n",
    "    new_id = new_id.lower()\n",
    "    tmp = \"\"\n",
    "    for c in list(new_id):\n",
    "        if c.isalpha() or c.isdigit() or c in ['-', '_', '.']:\n",
    "            tmp += c\n",
    "    while(1):\n",
    "        new_id = tmp.replace(\"..\", \".\")\n",
    "        if tmp == new_id:\n",
    "            break\n",
    "        tmp = new_id\n",
    "    tmp = list(new_id)\n",
    "    if tmp and tmp[0] == '.':\n",
    "        del tmp[0]\n",
    "    if tmp and tmp[-1] == '.':\n",
    "        del tmp[-1]\n",
    "    new_id = ''.join(tmp)\n",
    "    \n",
    "    if new_id == \"\":\n",
    "        new_id = \"a\"\n",
    "        \n",
    "    if len(new_id) >= 16:\n",
    "        new_id = new_id[:15]\n",
    "    tmp = list(new_id)\n",
    "    if tmp and tmp[-1] == '.':\n",
    "        del tmp[-1]\n",
    "    new_id = ''.join(tmp)\n",
    "    \n",
    "    while(1):\n",
    "        if len(new_id) > 2:\n",
    "            break\n",
    "        new_id += new_id[-1]\n",
    "\n",
    "    \n",
    "    return new_id"
   ]
  },
  {
   "cell_type": "code",
   "execution_count": 31,
   "id": "57fe6e4b",
   "metadata": {},
   "outputs": [
    {
     "data": {
      "text/plain": [
       "'aaa'"
      ]
     },
     "execution_count": 31,
     "metadata": {},
     "output_type": "execute_result"
    }
   ],
   "source": [
    "solution(\"=.=\")"
   ]
  },
  {
   "cell_type": "code",
   "execution_count": null,
   "id": "ea4d441a",
   "metadata": {},
   "outputs": [],
   "source": []
  },
  {
   "cell_type": "code",
   "execution_count": null,
   "id": "5f033364",
   "metadata": {},
   "outputs": [],
   "source": []
  }
 ],
 "metadata": {
  "kernelspec": {
   "display_name": "Python 3 (ipykernel)",
   "language": "python",
   "name": "python3"
  },
  "language_info": {
   "codemirror_mode": {
    "name": "ipython",
    "version": 3
   },
   "file_extension": ".py",
   "mimetype": "text/x-python",
   "name": "python",
   "nbconvert_exporter": "python",
   "pygments_lexer": "ipython3",
   "version": "3.10.6"
  }
 },
 "nbformat": 4,
 "nbformat_minor": 5
}
