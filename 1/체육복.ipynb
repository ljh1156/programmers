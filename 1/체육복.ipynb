{
 "cells": [
  {
   "cell_type": "code",
   "execution_count": 48,
   "id": "76d865dd",
   "metadata": {},
   "outputs": [],
   "source": [
    "def solution(n, lost, reserve):\n",
    "    answer = n\n",
    "    \n",
    "    lost = sorted(lost)\n",
    "    reserve = sorted(reserve)\n",
    "    i = j = 0\n",
    "    \n",
    "    dup = []\n",
    "    for l in lost:\n",
    "        if l in reserve:\n",
    "            dup.append(l)\n",
    "    for l in dup:\n",
    "        reserve.remove(l)\n",
    "        lost.remove(l)\n",
    "        \n",
    "    while(1):\n",
    "        if j == len(reserve) or i == len(lost):\n",
    "            answer -= (len(lost) - i)\n",
    "            #print(\"{}:{}\".format(i, j))\n",
    "            break\n",
    "            \n",
    "        l = lost[i]\n",
    "        r = reserve[j]\n",
    "\n",
    "        if l - 1 <= r <= l + 1:\n",
    "            #answer += 1\n",
    "            i += 1\n",
    "            j += 1\n",
    "        elif r < l -1:\n",
    "            j += 1\n",
    "        else:\n",
    "            answer -= 1\n",
    "            i += 1\n",
    "        #if j == len(reserve) or i == len(lost):\n",
    "        #    answer -= (len(lost) - i)\n",
    "        #    print(\"{}:{}\".format(i, j))\n",
    "        #    break\n",
    "            \n",
    "    \n",
    "    return answer"
   ]
  },
  {
   "cell_type": "code",
   "execution_count": 49,
   "id": "b5312ad3",
   "metadata": {},
   "outputs": [
    {
     "name": "stdout",
     "output_type": "stream",
     "text": [
      "2:6\n"
     ]
    },
    {
     "data": {
      "text/plain": [
       "11"
      ]
     },
     "execution_count": 49,
     "metadata": {},
     "output_type": "execute_result"
    }
   ],
   "source": [
    "solution(13, [1, 2, 5, 6, 10, 12, 13], [2, 3, 4, 5, 7, 8, 9, 10, 11, 12])"
   ]
  },
  {
   "cell_type": "code",
   "execution_count": null,
   "id": "61fcf9b7",
   "metadata": {},
   "outputs": [],
   "source": []
  },
  {
   "cell_type": "code",
   "execution_count": null,
   "id": "d90c6cf1",
   "metadata": {},
   "outputs": [],
   "source": []
  }
 ],
 "metadata": {
  "kernelspec": {
   "display_name": "Python 3 (ipykernel)",
   "language": "python",
   "name": "python3"
  },
  "language_info": {
   "codemirror_mode": {
    "name": "ipython",
    "version": 3
   },
   "file_extension": ".py",
   "mimetype": "text/x-python",
   "name": "python",
   "nbconvert_exporter": "python",
   "pygments_lexer": "ipython3",
   "version": "3.10.6"
  }
 },
 "nbformat": 4,
 "nbformat_minor": 5
}
