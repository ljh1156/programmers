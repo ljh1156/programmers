{
 "cells": [
  {
   "cell_type": "code",
   "execution_count": 31,
   "id": "caf85889",
   "metadata": {},
   "outputs": [],
   "source": [
    "def solution(n, arr1, arr2):\n",
    "    answer = []\n",
    "    \n",
    "    def getBinNum(num):\n",
    "        ret = \"\"\n",
    "        while(1):\n",
    "            if num % 2 == 1:\n",
    "                ret = \"1\" + ret\n",
    "            else:\n",
    "                ret = \"0\" + ret\n",
    "            num = int(num /2)\n",
    "            if num < 2:\n",
    "                ret = str(num) + ret\n",
    "                break\n",
    "        return ret\n",
    "    \n",
    "    bin_arr1 = []\n",
    "    bin_arr2 = []\n",
    "    for a in arr1:\n",
    "        bin_num = getBinNum(a)\n",
    "        \n",
    "        len_bin_num = len(bin_num)\n",
    "        if len_bin_num < n:\n",
    "            for i in range(n - len_bin_num):\n",
    "                bin_num = \"0\" + bin_num\n",
    "        bin_arr1.append(bin_num)\n",
    "    for a in arr2:\n",
    "        bin_num = getBinNum(a)\n",
    "        \n",
    "        len_bin_num = len(bin_num)\n",
    "        if len_bin_num < n:\n",
    "            for i in range(n - len_bin_num):\n",
    "                bin_num = \"0\" + bin_num\n",
    "        bin_arr2.append(bin_num)\n",
    "        \n",
    "    for i in range(n):\n",
    "        st = \"\"\n",
    "        for j in range(n):\n",
    "\n",
    "            if bin_arr1[i][j] == \"0\" and bin_arr2[i][j] == \"0\":\n",
    "                st += \" \"\n",
    "            else:\n",
    "                st += \"#\"\n",
    "        answer.append(st)\n",
    "        \n",
    "        \n",
    "    \n",
    "    return answer"
   ]
  },
  {
   "cell_type": "code",
   "execution_count": 32,
   "id": "d10ac10f",
   "metadata": {},
   "outputs": [
    {
     "name": "stdout",
     "output_type": "stream",
     "text": [
      "01001\n",
      "10100\n",
      "11100\n",
      "10010\n",
      "01011\n"
     ]
    },
    {
     "data": {
      "text/plain": [
       "['#####', '# # #', '### #', '#  ##', '#####']"
      ]
     },
     "execution_count": 32,
     "metadata": {},
     "output_type": "execute_result"
    }
   ],
   "source": [
    " solution(5, [9, 20, 28, 18, 11], [30, 1, 21, 17, 28])"
   ]
  },
  {
   "cell_type": "code",
   "execution_count": null,
   "id": "4c05a30c",
   "metadata": {},
   "outputs": [],
   "source": []
  }
 ],
 "metadata": {
  "kernelspec": {
   "display_name": "Python 3 (ipykernel)",
   "language": "python",
   "name": "python3"
  },
  "language_info": {
   "codemirror_mode": {
    "name": "ipython",
    "version": 3
   },
   "file_extension": ".py",
   "mimetype": "text/x-python",
   "name": "python",
   "nbconvert_exporter": "python",
   "pygments_lexer": "ipython3",
   "version": "3.10.6"
  }
 },
 "nbformat": 4,
 "nbformat_minor": 5
}
