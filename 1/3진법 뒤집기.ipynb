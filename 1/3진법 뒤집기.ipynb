{
 "cells": [
  {
   "cell_type": "code",
   "execution_count": 36,
   "id": "4aa91060",
   "metadata": {},
   "outputs": [],
   "source": [
    "def solution(n):    \n",
    "    answer = \"\"\n",
    "    while(1):\n",
    "        answer = str(n % 3) + answer\n",
    "        n = int(n / 3)\n",
    "        if n < 3:\n",
    "            if n != 0:\n",
    "                answer = str(n) + answer\n",
    "            break\n",
    "    #answer = answer[::-1]\n",
    "    print(answer)\n",
    "    i = 0\n",
    "    tmp = 0\n",
    "    for i in range(0, len(answer)):\n",
    "        \n",
    "        tmp += int(answer[i]) *  pow(3, i)\n",
    "        print(tmp)\n",
    "        \n",
    "    return tmp\n",
    "    "
   ]
  },
  {
   "cell_type": "code",
   "execution_count": 37,
   "id": "6b7f6555",
   "metadata": {},
   "outputs": [
    {
     "name": "stdout",
     "output_type": "stream",
     "text": [
      "1\n",
      "1\n"
     ]
    },
    {
     "data": {
      "text/plain": [
       "1"
      ]
     },
     "execution_count": 37,
     "metadata": {},
     "output_type": "execute_result"
    }
   ],
   "source": [
    "solution(1)"
   ]
  },
  {
   "cell_type": "code",
   "execution_count": null,
   "id": "5ce91398",
   "metadata": {},
   "outputs": [],
   "source": []
  },
  {
   "cell_type": "code",
   "execution_count": null,
   "id": "71693380",
   "metadata": {},
   "outputs": [],
   "source": []
  }
 ],
 "metadata": {
  "kernelspec": {
   "display_name": "Python 3 (ipykernel)",
   "language": "python",
   "name": "python3"
  },
  "language_info": {
   "codemirror_mode": {
    "name": "ipython",
    "version": 3
   },
   "file_extension": ".py",
   "mimetype": "text/x-python",
   "name": "python",
   "nbconvert_exporter": "python",
   "pygments_lexer": "ipython3",
   "version": "3.10.6"
  }
 },
 "nbformat": 4,
 "nbformat_minor": 5
}
