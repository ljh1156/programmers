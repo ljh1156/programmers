{
 "cells": [
  {
   "cell_type": "code",
   "execution_count": 16,
   "id": "1225cd83",
   "metadata": {},
   "outputs": [],
   "source": [
    "def solution(food):\n",
    "    answer = ''\n",
    "    \n",
    "    res = []\n",
    "    res.append(\"0\")\n",
    "    idx = len(food) - 1\n",
    "    while(1):\n",
    "        n = food[idx]\n",
    "        while(1):\n",
    "            #print(res)\n",
    "            if n <= 1:\n",
    "                break\n",
    "            res.insert(0, str(idx))\n",
    "            res.append(str(idx))\n",
    "            n -= 2\n",
    "        idx -= 1\n",
    "        if idx == 0:\n",
    "            break\n",
    "    #print(res)\n",
    "        \n",
    "    return ''.join(res)\n",
    "    \n",
    "    return answer"
   ]
  },
  {
   "cell_type": "code",
   "execution_count": 17,
   "id": "7903c6a3",
   "metadata": {},
   "outputs": [
    {
     "name": "stdout",
     "output_type": "stream",
     "text": [
      "['1']\n",
      "['3', '1', '3']\n",
      "['3', '3', '1', '3', '3']\n",
      "['3', '3', '3', '1', '3', '3', '3']\n",
      "['3', '3', '3', '1', '3', '3', '3']\n",
      "['2', '3', '3', '3', '1', '3', '3', '3', '2']\n",
      "['2', '2', '3', '3', '3', '1', '3', '3', '3', '2', '2']\n",
      "['2', '2', '3', '3', '3', '1', '3', '3', '3', '2', '2']\n",
      "['1', '2', '2', '3', '3', '3', '1', '3', '3', '3', '2', '2', '1']\n",
      "['1', '2', '2', '3', '3', '3', '1', '3', '3', '3', '2', '2', '1']\n"
     ]
    },
    {
     "data": {
      "text/plain": [
       "'1223331333221'"
      ]
     },
     "execution_count": 17,
     "metadata": {},
     "output_type": "execute_result"
    }
   ],
   "source": [
    "solution([1, 3, 4, 6])"
   ]
  },
  {
   "cell_type": "code",
   "execution_count": null,
   "id": "45b1b10d",
   "metadata": {},
   "outputs": [],
   "source": []
  }
 ],
 "metadata": {
  "kernelspec": {
   "display_name": "Python 3 (ipykernel)",
   "language": "python",
   "name": "python3"
  },
  "language_info": {
   "codemirror_mode": {
    "name": "ipython",
    "version": 3
   },
   "file_extension": ".py",
   "mimetype": "text/x-python",
   "name": "python",
   "nbconvert_exporter": "python",
   "pygments_lexer": "ipython3",
   "version": "3.10.6"
  }
 },
 "nbformat": 4,
 "nbformat_minor": 5
}
