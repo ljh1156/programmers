{
 "cells": [
  {
   "cell_type": "code",
   "execution_count": 11,
   "id": "ff204291",
   "metadata": {},
   "outputs": [],
   "source": [
    "def solution(s):\n",
    "    answer = 0\n",
    "    \n",
    "    x = s[0]\n",
    "    if len(s) == 1:\n",
    "        return 1\n",
    "    x_count = 0\n",
    "    y_count = 0\n",
    "    idx = 0\n",
    "    sub = \"\"\n",
    "    while(1):\n",
    "        if x_count == y_count and x_count != 0:\n",
    "            answer += 1\n",
    "            x = s[idx]\n",
    "            x_count = 0\n",
    "            y_count = 0\n",
    "            sub = \"\"\n",
    "        y = s[idx]\n",
    "        sub += y\n",
    "        #rint(sub)\n",
    "        if y == x:\n",
    "            x_count += 1\n",
    "        else:\n",
    "            y_count += 1\n",
    "        idx += 1\n",
    "        if idx == len(s): break\n",
    "    if x_count != 0:\n",
    "        answer += 1\n",
    "        \n",
    "    \n",
    "    return answer"
   ]
  },
  {
   "cell_type": "code",
   "execution_count": 13,
   "id": "c3de5e47",
   "metadata": {},
   "outputs": [
    {
     "name": "stdout",
     "output_type": "stream",
     "text": [
      "a\n",
      "aa\n",
      "aaa\n",
      "aaab\n",
      "aaabb\n",
      "aaabba\n",
      "aaabbac\n",
      "aaabbacc\n",
      "c\n",
      "cc\n",
      "cca\n",
      "ccab\n",
      "b\n",
      "ba\n"
     ]
    },
    {
     "data": {
      "text/plain": [
       "3"
      ]
     },
     "execution_count": 13,
     "metadata": {},
     "output_type": "execute_result"
    }
   ],
   "source": [
    "solution(\"aaabbaccccabba\")"
   ]
  },
  {
   "cell_type": "code",
   "execution_count": null,
   "id": "6f2fe8a2",
   "metadata": {},
   "outputs": [],
   "source": []
  }
 ],
 "metadata": {
  "kernelspec": {
   "display_name": "Python 3 (ipykernel)",
   "language": "python",
   "name": "python3"
  },
  "language_info": {
   "codemirror_mode": {
    "name": "ipython",
    "version": 3
   },
   "file_extension": ".py",
   "mimetype": "text/x-python",
   "name": "python",
   "nbconvert_exporter": "python",
   "pygments_lexer": "ipython3",
   "version": "3.10.6"
  }
 },
 "nbformat": 4,
 "nbformat_minor": 5
}
