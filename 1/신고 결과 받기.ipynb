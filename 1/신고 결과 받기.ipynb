{
 "cells": [
  {
   "cell_type": "code",
   "execution_count": 7,
   "id": "0dde7d13",
   "metadata": {},
   "outputs": [],
   "source": [
    "def solution(id_list, report, k):\n",
    "    answer = []\n",
    "    \n",
    "    report = list(set(report))\n",
    "    report_count = {}\n",
    "    report_list = {}\n",
    "    mail_count = {}\n",
    "    for _id in id_list:\n",
    "        report_count[_id] = 0\n",
    "        report_list[_id] = []\n",
    "        mail_count[_id] = 0\n",
    "    for re in report:\n",
    "        source, target = re.split(' ')\n",
    "        report_count[target] += 1\n",
    "        report_list[source].append(target)\n",
    "        \n",
    "    for key, value in report_count.items():\n",
    "        if value >= k:\n",
    "            for _id in id_list:\n",
    "                if key in report_list[_id]:\n",
    "                    mail_count[_id] += 1\n",
    "    \n",
    "    for _id in id_list:\n",
    "        answer.append(mail_count[_id])\n",
    "                \n",
    "                \n",
    "#        print(key)\n",
    " #       print(value)\n",
    "    \n",
    "    \n",
    "    return answer"
   ]
  },
  {
   "cell_type": "code",
   "execution_count": 9,
   "id": "a595ecbc",
   "metadata": {},
   "outputs": [
    {
     "data": {
      "text/plain": [
       "[0, 0]"
      ]
     },
     "execution_count": 9,
     "metadata": {},
     "output_type": "execute_result"
    }
   ],
   "source": [
    "solution([\"con\", \"ryan\"], [\"ryan con\", \"ryan con\", \"ryan con\", \"ryan con\"], 3)"
   ]
  },
  {
   "cell_type": "code",
   "execution_count": null,
   "id": "67b7558a",
   "metadata": {},
   "outputs": [],
   "source": []
  }
 ],
 "metadata": {
  "kernelspec": {
   "display_name": "Python 3 (ipykernel)",
   "language": "python",
   "name": "python3"
  },
  "language_info": {
   "codemirror_mode": {
    "name": "ipython",
    "version": 3
   },
   "file_extension": ".py",
   "mimetype": "text/x-python",
   "name": "python",
   "nbconvert_exporter": "python",
   "pygments_lexer": "ipython3",
   "version": "3.10.6"
  }
 },
 "nbformat": 4,
 "nbformat_minor": 5
}
