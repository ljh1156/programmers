{
 "cells": [
  {
   "cell_type": "code",
   "execution_count": 11,
   "id": "99e949f0",
   "metadata": {},
   "outputs": [],
   "source": [
    "def solution(a, b, n):\n",
    "    answer = 0\n",
    "    \n",
    "    while(1):\n",
    "        if n < 2:\n",
    "            break\n",
    "        x = int(n / a) \n",
    "        if x == 0:\n",
    "            break\n",
    "        answer += x * b\n",
    "        n -= x * a\n",
    "        n += x * b\n",
    "    \n",
    "    return answer"
   ]
  },
  {
   "cell_type": "code",
   "execution_count": 14,
   "id": "f041a13d",
   "metadata": {},
   "outputs": [
    {
     "data": {
      "text/plain": [
       "9"
      ]
     },
     "execution_count": 14,
     "metadata": {},
     "output_type": "execute_result"
    }
   ],
   "source": [
    "solution(3, 1, 20)"
   ]
  },
  {
   "cell_type": "code",
   "execution_count": null,
   "id": "ab44172b",
   "metadata": {},
   "outputs": [],
   "source": []
  }
 ],
 "metadata": {
  "kernelspec": {
   "display_name": "Python 3 (ipykernel)",
   "language": "python",
   "name": "python3"
  },
  "language_info": {
   "codemirror_mode": {
    "name": "ipython",
    "version": 3
   },
   "file_extension": ".py",
   "mimetype": "text/x-python",
   "name": "python",
   "nbconvert_exporter": "python",
   "pygments_lexer": "ipython3",
   "version": "3.10.6"
  }
 },
 "nbformat": 4,
 "nbformat_minor": 5
}
