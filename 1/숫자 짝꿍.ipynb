{
 "cells": [
  {
   "cell_type": "code",
   "execution_count": 37,
   "id": "92b4b2b9",
   "metadata": {},
   "outputs": [],
   "source": [
    "def solution(X, Y):\n",
    "    answer = ''\n",
    "    \n",
    "    x_dic = {}\n",
    "    y_dic = {}\n",
    "    \n",
    "    for i in range(0, len(X)):\n",
    "        if X[i] not in x_dic:\n",
    "            x_dic[X[i]] = 1\n",
    "        else:\n",
    "            x_dic[X[i]] += 1\n",
    "            \n",
    "    for i in range(0, len(Y)):\n",
    "        if Y[i] not in y_dic:\n",
    "            y_dic[Y[i]] = 1\n",
    "        else:\n",
    "            y_dic[Y[i]] += 1\n",
    "            \n",
    "    for k, v in sorted(x_dic.items(), key=lambda k: k[0], reverse=True):\n",
    "        if k in y_dic:\n",
    "            minimum = v if y_dic[k] > v else y_dic[k]\n",
    "            for i in range(minimum):\n",
    "                answer += k\n",
    "\n",
    "    if answer == '':\n",
    "        answer = \"-1\"\n",
    "    if answer[0] == '0':\n",
    "        answer = '0'\n",
    "    \n",
    "    return answer\n",
    "    "
   ]
  },
  {
   "cell_type": "code",
   "execution_count": 38,
   "id": "dac02055",
   "metadata": {},
   "outputs": [
    {
     "data": {
      "text/plain": [
       "'0'"
      ]
     },
     "execution_count": 38,
     "metadata": {},
     "output_type": "execute_result"
    }
   ],
   "source": [
    "solution(\"100\",\"203045\")"
   ]
  },
  {
   "cell_type": "code",
   "execution_count": null,
   "id": "942632f0",
   "metadata": {},
   "outputs": [],
   "source": []
  }
 ],
 "metadata": {
  "kernelspec": {
   "display_name": "Python 3 (ipykernel)",
   "language": "python",
   "name": "python3"
  },
  "language_info": {
   "codemirror_mode": {
    "name": "ipython",
    "version": 3
   },
   "file_extension": ".py",
   "mimetype": "text/x-python",
   "name": "python",
   "nbconvert_exporter": "python",
   "pygments_lexer": "ipython3",
   "version": "3.10.6"
  }
 },
 "nbformat": 4,
 "nbformat_minor": 5
}
